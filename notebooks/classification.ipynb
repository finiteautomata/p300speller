{
 "cells": [
  {
   "cell_type": "markdown",
   "metadata": {},
   "source": [
    "# Decision Tree classification\n"
   ]
  },
  {
   "cell_type": "code",
   "execution_count": 1,
   "metadata": {
    "collapsed": true
   },
   "outputs": [],
   "source": [
    "%load_ext autoreload\n",
    "%autoreload 2\n",
    "%matplotlib inline\n",
    "import os\n",
    "os.chdir(\"..\")"
   ]
  },
  {
   "cell_type": "code",
   "execution_count": 2,
   "metadata": {
    "collapsed": true
   },
   "outputs": [],
   "source": [
    "from IPython.core.debugger import Tracer\n",
    "import pandas as pd\n",
    "import numpy as np\n",
    "import seaborn\n",
    "import matplotlib.pyplot as plt\n",
    "from scipy.signal import welch\n",
    "from IPython.core.debugger import Tracer\n",
    "from sklearn_pandas import DataFrameMapper, cross_val_score\n",
    "from p300.feature_extraction import BaseTransformer"
   ]
  },
  {
   "cell_type": "code",
   "execution_count": 5,
   "metadata": {},
   "outputs": [
    {
     "data": {
      "text/plain": [
       "['/subjects/s10229001',\n",
       " '/subjects/s10444001',\n",
       " '/subjects/s10729001',\n",
       " '/subjects/s10882001',\n",
       " '/subjects/s10924001',\n",
       " '/subjects/s11551001',\n",
       " '/subjects/s11627001',\n",
       " '/subjects/s11632001',\n",
       " '/subjects/s11693001',\n",
       " '/subjects/s12137001',\n",
       " '/subjects/s12168001',\n",
       " '/subjects/s12521001',\n",
       " '/subjects/s12702001',\n",
       " '/subjects/s12900001',\n",
       " '/subjects/s13235001',\n",
       " '/subjects/s13252001',\n",
       " '/subjects/s13431001',\n",
       " '/subjects/s13640002',\n",
       " '/subjects/s13863001',\n",
       " '/subjects/s14023001',\n",
       " '/subjects/s1414001',\n",
       " '/subjects/s1491001',\n",
       " '/subjects/s14998001',\n",
       " '/subjects/s15362001',\n",
       " '/subjects/s15424001',\n",
       " '/subjects/s15641001',\n",
       " '/subjects/s16003001',\n",
       " '/subjects/s1609001',\n",
       " '/subjects/s16266001',\n",
       " '/subjects/s1635001',\n",
       " '/subjects/s16637001',\n",
       " '/subjects/s16683001',\n",
       " '/subjects/s16779001',\n",
       " '/subjects/s16893001',\n",
       " '/subjects/s16943001',\n",
       " '/subjects/s17005001',\n",
       " '/subjects/s17435001',\n",
       " '/subjects/s17436001',\n",
       " '/subjects/s17576001',\n",
       " '/subjects/s17674001',\n",
       " '/subjects/s17962001',\n",
       " '/subjects/s18046001',\n",
       " '/subjects/s18077001',\n",
       " '/subjects/s18112001',\n",
       " '/subjects/s18531001',\n",
       " '/subjects/s18967001',\n",
       " '/subjects/s19491001',\n",
       " '/subjects/s19561001',\n",
       " '/subjects/s19845001',\n",
       " '/subjects/s20668001',\n",
       " '/subjects/s20688001',\n",
       " '/subjects/s2089001',\n",
       " '/subjects/s20947001',\n",
       " '/subjects/s2109001',\n",
       " '/subjects/s21120001',\n",
       " '/subjects/s21601001',\n",
       " '/subjects/s21668001',\n",
       " '/subjects/s22072001',\n",
       " '/subjects/s22109001',\n",
       " '/subjects/s2215001',\n",
       " '/subjects/s22233001',\n",
       " '/subjects/s22337001',\n",
       " '/subjects/s22650001',\n",
       " '/subjects/s232001',\n",
       " '/subjects/s23272001',\n",
       " '/subjects/s23298001',\n",
       " '/subjects/s23344001',\n",
       " '/subjects/s23732001',\n",
       " '/subjects/s23794001',\n",
       " '/subjects/s24053001',\n",
       " '/subjects/s24101001',\n",
       " '/subjects/s24227001',\n",
       " '/subjects/s24540001',\n",
       " '/subjects/s24888001',\n",
       " '/subjects/s25217001',\n",
       " '/subjects/s25302001',\n",
       " '/subjects/s255001',\n",
       " '/subjects/s25871001',\n",
       " '/subjects/s25922001',\n",
       " '/subjects/s26333001',\n",
       " '/subjects/s26636001',\n",
       " '/subjects/s26715001',\n",
       " '/subjects/s26721001',\n",
       " '/subjects/s2681001',\n",
       " '/subjects/s27030001',\n",
       " '/subjects/s27058001',\n",
       " '/subjects/s27131001',\n",
       " '/subjects/s27157001',\n",
       " '/subjects/s27163001',\n",
       " '/subjects/s27496001',\n",
       " '/subjects/s27846001',\n",
       " '/subjects/s27946001',\n",
       " '/subjects/s28005001',\n",
       " '/subjects/s28970001',\n",
       " '/subjects/s29063004',\n",
       " '/subjects/s29164001',\n",
       " '/subjects/s29257001',\n",
       " '/subjects/s29273001',\n",
       " '/subjects/s29426001',\n",
       " '/subjects/s29789001',\n",
       " '/subjects/s30243001',\n",
       " '/subjects/s30261001',\n",
       " '/subjects/s31056001',\n",
       " '/subjects/s3109001',\n",
       " '/subjects/s31102001',\n",
       " '/subjects/s31397001',\n",
       " '/subjects/s31777001',\n",
       " '/subjects/s3195001',\n",
       " '/subjects/s32459001',\n",
       " '/subjects/s32505001',\n",
       " '/subjects/s358001',\n",
       " '/subjects/s36001',\n",
       " '/subjects/s3703001',\n",
       " '/subjects/s3800001',\n",
       " '/subjects/s3942001',\n",
       " '/subjects/s4305001',\n",
       " '/subjects/s4824001',\n",
       " '/subjects/s4949001',\n",
       " '/subjects/s4971001',\n",
       " '/subjects/s499001',\n",
       " '/subjects/s5224001',\n",
       " '/subjects/s5251001',\n",
       " '/subjects/s5510001',\n",
       " '/subjects/s5568001',\n",
       " '/subjects/s5857001',\n",
       " '/subjects/s630001',\n",
       " '/subjects/s6694001',\n",
       " '/subjects/s6830001',\n",
       " '/subjects/s7330001',\n",
       " '/subjects/s7385001',\n",
       " '/subjects/s7488001',\n",
       " '/subjects/s7610001',\n",
       " '/subjects/s7615001',\n",
       " '/subjects/s782001',\n",
       " '/subjects/s8762001',\n",
       " '/subjects/s8834001',\n",
       " '/subjects/s8982001',\n",
       " '/subjects/s945001',\n",
       " '/subjects/s9503001',\n",
       " '/subjects/s9689001',\n",
       " '/subjects/s9809001']"
      ]
     },
     "execution_count": 5,
     "metadata": {},
     "output_type": "execute_result"
    }
   ],
   "source": [
    "hdf = pd.HDFStore(\"output/instances.h5\")\n",
    "\n",
    "\n",
    "hdf.keys()"
   ]
  },
  {
   "cell_type": "markdown",
   "metadata": {},
   "source": [
    "Veamos cuántos sujetos tenemos"
   ]
  },
  {
   "cell_type": "markdown",
   "metadata": {},
   "source": [
    "Tomemos uno: 29164001"
   ]
  },
  {
   "cell_type": "code",
   "execution_count": 21,
   "metadata": {},
   "outputs": [],
   "source": [
    "non_features = ['id', 'array_path', 'ch_names', 'event_time', 'event_type', 'index',\n",
    "       'sfreq', 'subject_id', 'target']\n",
    "\n",
    "def get_data_from_subject(hdf, key):\n",
    "    df = hdf[key]\n",
    "    X = df[df.columns.difference(non_features)].as_matrix()\n",
    "    y = df.target.as_matrix()\n",
    "    \n",
    "    return X, y\n",
    "\n",
    "X, y = get_data_from_subject(hdf, '/subjects/s5224001')"
   ]
  },
  {
   "cell_type": "markdown",
   "metadata": {},
   "source": [
    "# DecisionTree"
   ]
  },
  {
   "cell_type": "code",
   "execution_count": 22,
   "metadata": {
    "collapsed": true
   },
   "outputs": [],
   "source": [
    "from sklearn.tree import DecisionTreeClassifier\n",
    "from sklearn.model_selection import cross_val_score"
   ]
  },
  {
   "cell_type": "code",
   "execution_count": 23,
   "metadata": {
    "collapsed": true
   },
   "outputs": [],
   "source": [
    "clf = DecisionTreeClassifier(max_depth=100)"
   ]
  },
  {
   "cell_type": "code",
   "execution_count": 24,
   "metadata": {},
   "outputs": [
    {
     "data": {
      "text/plain": [
       "0.51393939393939392"
      ]
     },
     "execution_count": 24,
     "metadata": {},
     "output_type": "execute_result"
    }
   ],
   "source": [
    "cross_val_score(clf, X, y, scoring='roc_auc', cv=10).mean()"
   ]
  },
  {
   "cell_type": "markdown",
   "metadata": {},
   "source": [
    "# SVM"
   ]
  },
  {
   "cell_type": "code",
   "execution_count": 25,
   "metadata": {
    "collapsed": true
   },
   "outputs": [],
   "source": [
    "from sklearn.svm import LinearSVC\n",
    "\n",
    "clf = LinearSVC()"
   ]
  },
  {
   "cell_type": "code",
   "execution_count": 26,
   "metadata": {},
   "outputs": [
    {
     "data": {
      "text/plain": [
       "0.52692378328741973"
      ]
     },
     "execution_count": 26,
     "metadata": {},
     "output_type": "execute_result"
    }
   ],
   "source": [
    "cross_val_score(clf, X, y, scoring='roc_auc', cv=10).mean()"
   ]
  },
  {
   "cell_type": "markdown",
   "metadata": {},
   "source": [
    "# Random Forest"
   ]
  },
  {
   "cell_type": "code",
   "execution_count": 27,
   "metadata": {
    "collapsed": true
   },
   "outputs": [],
   "source": [
    "from sklearn.ensemble import RandomForestClassifier\n",
    "\n",
    "clf = RandomForestClassifier(100)"
   ]
  },
  {
   "cell_type": "code",
   "execution_count": 28,
   "metadata": {},
   "outputs": [
    {
     "data": {
      "text/plain": [
       "0.57606060606060594"
      ]
     },
     "execution_count": 28,
     "metadata": {},
     "output_type": "execute_result"
    }
   ],
   "source": [
    "cross_val_score(clf, X, y, scoring='roc_auc', cv=10).mean()"
   ]
  },
  {
   "cell_type": "markdown",
   "metadata": {},
   "source": [
    "# LDA"
   ]
  },
  {
   "cell_type": "code",
   "execution_count": 29,
   "metadata": {
    "collapsed": true
   },
   "outputs": [],
   "source": [
    "from sklearn.discriminant_analysis import LinearDiscriminantAnalysis\n",
    "\n",
    "clf = LinearDiscriminantAnalysis()"
   ]
  },
  {
   "cell_type": "code",
   "execution_count": 30,
   "metadata": {},
   "outputs": [
    {
     "data": {
      "text/plain": [
       "0.60993572084481174"
      ]
     },
     "execution_count": 30,
     "metadata": {},
     "output_type": "execute_result"
    }
   ],
   "source": [
    "cross_val_score(clf, X, y, scoring='roc_auc', cv=10).mean()"
   ]
  },
  {
   "cell_type": "markdown",
   "metadata": {},
   "source": [
    "# Balance de las clases"
   ]
  },
  {
   "cell_type": "code",
   "execution_count": 27,
   "metadata": {},
   "outputs": [
    {
     "name": "stdout",
     "output_type": "stream",
     "text": [
      "Total samples: 287640 - Total positives 47940\n"
     ]
    }
   ],
   "source": [
    "print(\"Total samples: {} - Total positives {}\".format(len(df.target), sum(df.target)))\n",
    "print(\"Ratio : {}\".format())"
   ]
  },
  {
   "cell_type": "markdown",
   "metadata": {},
   "source": [
    "Como vemos, están bastante desbalanceadas las clases"
   ]
  },
  {
   "cell_type": "markdown",
   "metadata": {
    "collapsed": true
   },
   "source": [
    "# SVM con todos los sujetos"
   ]
  },
  {
   "cell_type": "code",
   "execution_count": 32,
   "metadata": {},
   "outputs": [
    {
     "name": "stdout",
     "output_type": "stream",
     "text": [
      "Analyzing /subjects/s10229001\n",
      "Analyzing /subjects/s10444001\n",
      "Analyzing /subjects/s10729001\n",
      "Analyzing /subjects/s10882001\n",
      "Analyzing /subjects/s10924001\n",
      "Analyzing /subjects/s11551001\n",
      "Analyzing /subjects/s11627001\n",
      "Analyzing /subjects/s11632001\n",
      "Analyzing /subjects/s11693001\n",
      "Analyzing /subjects/s12137001\n",
      "Analyzing /subjects/s12168001\n",
      "Analyzing /subjects/s12521001\n",
      "Analyzing /subjects/s12702001\n"
     ]
    },
    {
     "name": "stderr",
     "output_type": "stream",
     "text": [
      "/home/jmperez/.pyenv/versions/3.5.1/envs/p300-jmp/lib/python3.5/site-packages/sklearn/discriminant_analysis.py:387: UserWarning: Variables are collinear.\n",
      "  warnings.warn(\"Variables are collinear.\")\n",
      "/home/jmperez/.pyenv/versions/3.5.1/envs/p300-jmp/lib/python3.5/site-packages/sklearn/discriminant_analysis.py:387: UserWarning: Variables are collinear.\n",
      "  warnings.warn(\"Variables are collinear.\")\n",
      "/home/jmperez/.pyenv/versions/3.5.1/envs/p300-jmp/lib/python3.5/site-packages/sklearn/discriminant_analysis.py:387: UserWarning: Variables are collinear.\n",
      "  warnings.warn(\"Variables are collinear.\")\n"
     ]
    },
    {
     "name": "stdout",
     "output_type": "stream",
     "text": [
      "Analyzing /subjects/s12900001\n",
      "Analyzing /subjects/s13235001\n",
      "Analyzing /subjects/s13252001\n",
      "Analyzing /subjects/s13431001\n",
      "Analyzing /subjects/s13640002\n",
      "Analyzing /subjects/s13863001\n",
      "Analyzing /subjects/s14023001\n",
      "Analyzing /subjects/s1414001\n",
      "Analyzing /subjects/s1491001\n",
      "Analyzing /subjects/s14998001\n",
      "Analyzing /subjects/s15362001\n"
     ]
    },
    {
     "name": "stderr",
     "output_type": "stream",
     "text": [
      "/home/jmperez/.pyenv/versions/3.5.1/envs/p300-jmp/lib/python3.5/site-packages/sklearn/discriminant_analysis.py:387: UserWarning: Variables are collinear.\n",
      "  warnings.warn(\"Variables are collinear.\")\n",
      "/home/jmperez/.pyenv/versions/3.5.1/envs/p300-jmp/lib/python3.5/site-packages/sklearn/discriminant_analysis.py:387: UserWarning: Variables are collinear.\n",
      "  warnings.warn(\"Variables are collinear.\")\n",
      "/home/jmperez/.pyenv/versions/3.5.1/envs/p300-jmp/lib/python3.5/site-packages/sklearn/discriminant_analysis.py:387: UserWarning: Variables are collinear.\n",
      "  warnings.warn(\"Variables are collinear.\")\n",
      "/home/jmperez/.pyenv/versions/3.5.1/envs/p300-jmp/lib/python3.5/site-packages/sklearn/discriminant_analysis.py:387: UserWarning: Variables are collinear.\n",
      "  warnings.warn(\"Variables are collinear.\")\n",
      "/home/jmperez/.pyenv/versions/3.5.1/envs/p300-jmp/lib/python3.5/site-packages/sklearn/discriminant_analysis.py:387: UserWarning: Variables are collinear.\n",
      "  warnings.warn(\"Variables are collinear.\")\n",
      "/home/jmperez/.pyenv/versions/3.5.1/envs/p300-jmp/lib/python3.5/site-packages/sklearn/discriminant_analysis.py:387: UserWarning: Variables are collinear.\n",
      "  warnings.warn(\"Variables are collinear.\")\n"
     ]
    },
    {
     "name": "stdout",
     "output_type": "stream",
     "text": [
      "Analyzing /subjects/s15424001\n",
      "Analyzing /subjects/s15641001\n",
      "Analyzing /subjects/s16003001\n",
      "Analyzing /subjects/s1609001\n",
      "Analyzing /subjects/s16266001\n",
      "Analyzing /subjects/s1635001\n",
      "Analyzing /subjects/s16637001\n",
      "Analyzing /subjects/s16683001\n",
      "Analyzing /subjects/s16779001\n",
      "Analyzing /subjects/s16893001\n",
      "Analyzing /subjects/s16943001\n"
     ]
    },
    {
     "name": "stderr",
     "output_type": "stream",
     "text": [
      "/home/jmperez/.pyenv/versions/3.5.1/envs/p300-jmp/lib/python3.5/site-packages/sklearn/discriminant_analysis.py:387: UserWarning: Variables are collinear.\n",
      "  warnings.warn(\"Variables are collinear.\")\n",
      "/home/jmperez/.pyenv/versions/3.5.1/envs/p300-jmp/lib/python3.5/site-packages/sklearn/discriminant_analysis.py:387: UserWarning: Variables are collinear.\n",
      "  warnings.warn(\"Variables are collinear.\")\n",
      "/home/jmperez/.pyenv/versions/3.5.1/envs/p300-jmp/lib/python3.5/site-packages/sklearn/discriminant_analysis.py:387: UserWarning: Variables are collinear.\n",
      "  warnings.warn(\"Variables are collinear.\")\n"
     ]
    },
    {
     "name": "stdout",
     "output_type": "stream",
     "text": [
      "Analyzing /subjects/s17005001\n",
      "Analyzing /subjects/s17435001\n",
      "Analyzing /subjects/s17436001\n",
      "Analyzing /subjects/s17576001\n",
      "Analyzing /subjects/s17674001\n",
      "Analyzing /subjects/s17962001\n",
      "Analyzing /subjects/s18046001\n",
      "Analyzing /subjects/s18077001\n",
      "Analyzing /subjects/s18112001\n",
      "Analyzing /subjects/s18531001\n",
      "Analyzing /subjects/s18967001\n"
     ]
    },
    {
     "name": "stderr",
     "output_type": "stream",
     "text": [
      "/home/jmperez/.pyenv/versions/3.5.1/envs/p300-jmp/lib/python3.5/site-packages/sklearn/discriminant_analysis.py:387: UserWarning: Variables are collinear.\n",
      "  warnings.warn(\"Variables are collinear.\")\n",
      "/home/jmperez/.pyenv/versions/3.5.1/envs/p300-jmp/lib/python3.5/site-packages/sklearn/discriminant_analysis.py:387: UserWarning: Variables are collinear.\n",
      "  warnings.warn(\"Variables are collinear.\")\n",
      "/home/jmperez/.pyenv/versions/3.5.1/envs/p300-jmp/lib/python3.5/site-packages/sklearn/discriminant_analysis.py:387: UserWarning: Variables are collinear.\n",
      "  warnings.warn(\"Variables are collinear.\")\n",
      "/home/jmperez/.pyenv/versions/3.5.1/envs/p300-jmp/lib/python3.5/site-packages/sklearn/discriminant_analysis.py:387: UserWarning: Variables are collinear.\n",
      "  warnings.warn(\"Variables are collinear.\")\n",
      "/home/jmperez/.pyenv/versions/3.5.1/envs/p300-jmp/lib/python3.5/site-packages/sklearn/discriminant_analysis.py:387: UserWarning: Variables are collinear.\n",
      "  warnings.warn(\"Variables are collinear.\")\n",
      "/home/jmperez/.pyenv/versions/3.5.1/envs/p300-jmp/lib/python3.5/site-packages/sklearn/discriminant_analysis.py:387: UserWarning: Variables are collinear.\n",
      "  warnings.warn(\"Variables are collinear.\")\n",
      "/home/jmperez/.pyenv/versions/3.5.1/envs/p300-jmp/lib/python3.5/site-packages/sklearn/discriminant_analysis.py:387: UserWarning: Variables are collinear.\n",
      "  warnings.warn(\"Variables are collinear.\")\n",
      "/home/jmperez/.pyenv/versions/3.5.1/envs/p300-jmp/lib/python3.5/site-packages/sklearn/discriminant_analysis.py:387: UserWarning: Variables are collinear.\n",
      "  warnings.warn(\"Variables are collinear.\")\n",
      "/home/jmperez/.pyenv/versions/3.5.1/envs/p300-jmp/lib/python3.5/site-packages/sklearn/discriminant_analysis.py:387: UserWarning: Variables are collinear.\n",
      "  warnings.warn(\"Variables are collinear.\")\n"
     ]
    },
    {
     "name": "stdout",
     "output_type": "stream",
     "text": [
      "Analyzing /subjects/s19491001\n",
      "Analyzing /subjects/s19561001\n",
      "Analyzing /subjects/s19845001\n"
     ]
    },
    {
     "name": "stderr",
     "output_type": "stream",
     "text": [
      "/home/jmperez/.pyenv/versions/3.5.1/envs/p300-jmp/lib/python3.5/site-packages/sklearn/discriminant_analysis.py:387: UserWarning: Variables are collinear.\n",
      "  warnings.warn(\"Variables are collinear.\")\n",
      "/home/jmperez/.pyenv/versions/3.5.1/envs/p300-jmp/lib/python3.5/site-packages/sklearn/discriminant_analysis.py:387: UserWarning: Variables are collinear.\n",
      "  warnings.warn(\"Variables are collinear.\")\n",
      "/home/jmperez/.pyenv/versions/3.5.1/envs/p300-jmp/lib/python3.5/site-packages/sklearn/discriminant_analysis.py:387: UserWarning: Variables are collinear.\n",
      "  warnings.warn(\"Variables are collinear.\")\n",
      "/home/jmperez/.pyenv/versions/3.5.1/envs/p300-jmp/lib/python3.5/site-packages/sklearn/discriminant_analysis.py:387: UserWarning: Variables are collinear.\n",
      "  warnings.warn(\"Variables are collinear.\")\n",
      "/home/jmperez/.pyenv/versions/3.5.1/envs/p300-jmp/lib/python3.5/site-packages/sklearn/discriminant_analysis.py:387: UserWarning: Variables are collinear.\n",
      "  warnings.warn(\"Variables are collinear.\")\n",
      "/home/jmperez/.pyenv/versions/3.5.1/envs/p300-jmp/lib/python3.5/site-packages/sklearn/discriminant_analysis.py:387: UserWarning: Variables are collinear.\n",
      "  warnings.warn(\"Variables are collinear.\")\n",
      "/home/jmperez/.pyenv/versions/3.5.1/envs/p300-jmp/lib/python3.5/site-packages/sklearn/discriminant_analysis.py:387: UserWarning: Variables are collinear.\n",
      "  warnings.warn(\"Variables are collinear.\")\n",
      "/home/jmperez/.pyenv/versions/3.5.1/envs/p300-jmp/lib/python3.5/site-packages/sklearn/discriminant_analysis.py:387: UserWarning: Variables are collinear.\n",
      "  warnings.warn(\"Variables are collinear.\")\n",
      "/home/jmperez/.pyenv/versions/3.5.1/envs/p300-jmp/lib/python3.5/site-packages/sklearn/discriminant_analysis.py:387: UserWarning: Variables are collinear.\n",
      "  warnings.warn(\"Variables are collinear.\")\n",
      "/home/jmperez/.pyenv/versions/3.5.1/envs/p300-jmp/lib/python3.5/site-packages/sklearn/discriminant_analysis.py:387: UserWarning: Variables are collinear.\n",
      "  warnings.warn(\"Variables are collinear.\")\n"
     ]
    },
    {
     "name": "stdout",
     "output_type": "stream",
     "text": [
      "Analyzing /subjects/s20668001\n"
     ]
    },
    {
     "name": "stderr",
     "output_type": "stream",
     "text": [
      "/home/jmperez/.pyenv/versions/3.5.1/envs/p300-jmp/lib/python3.5/site-packages/sklearn/discriminant_analysis.py:387: UserWarning: Variables are collinear.\n",
      "  warnings.warn(\"Variables are collinear.\")\n",
      "/home/jmperez/.pyenv/versions/3.5.1/envs/p300-jmp/lib/python3.5/site-packages/sklearn/discriminant_analysis.py:387: UserWarning: Variables are collinear.\n",
      "  warnings.warn(\"Variables are collinear.\")\n",
      "/home/jmperez/.pyenv/versions/3.5.1/envs/p300-jmp/lib/python3.5/site-packages/sklearn/discriminant_analysis.py:387: UserWarning: Variables are collinear.\n",
      "  warnings.warn(\"Variables are collinear.\")\n",
      "/home/jmperez/.pyenv/versions/3.5.1/envs/p300-jmp/lib/python3.5/site-packages/sklearn/discriminant_analysis.py:387: UserWarning: Variables are collinear.\n",
      "  warnings.warn(\"Variables are collinear.\")\n",
      "/home/jmperez/.pyenv/versions/3.5.1/envs/p300-jmp/lib/python3.5/site-packages/sklearn/discriminant_analysis.py:387: UserWarning: Variables are collinear.\n",
      "  warnings.warn(\"Variables are collinear.\")\n",
      "/home/jmperez/.pyenv/versions/3.5.1/envs/p300-jmp/lib/python3.5/site-packages/sklearn/discriminant_analysis.py:387: UserWarning: Variables are collinear.\n",
      "  warnings.warn(\"Variables are collinear.\")\n",
      "/home/jmperez/.pyenv/versions/3.5.1/envs/p300-jmp/lib/python3.5/site-packages/sklearn/discriminant_analysis.py:387: UserWarning: Variables are collinear.\n",
      "  warnings.warn(\"Variables are collinear.\")\n",
      "/home/jmperez/.pyenv/versions/3.5.1/envs/p300-jmp/lib/python3.5/site-packages/sklearn/discriminant_analysis.py:387: UserWarning: Variables are collinear.\n",
      "  warnings.warn(\"Variables are collinear.\")\n"
     ]
    },
    {
     "name": "stdout",
     "output_type": "stream",
     "text": [
      "Analyzing /subjects/s20688001\n",
      "Analyzing /subjects/s2089001\n",
      "Analyzing /subjects/s20947001\n",
      "Analyzing /subjects/s2109001\n",
      "Analyzing /subjects/s21120001\n",
      "Analyzing /subjects/s21601001\n"
     ]
    },
    {
     "name": "stderr",
     "output_type": "stream",
     "text": [
      "/home/jmperez/.pyenv/versions/3.5.1/envs/p300-jmp/lib/python3.5/site-packages/sklearn/discriminant_analysis.py:387: UserWarning: Variables are collinear.\n",
      "  warnings.warn(\"Variables are collinear.\")\n",
      "/home/jmperez/.pyenv/versions/3.5.1/envs/p300-jmp/lib/python3.5/site-packages/sklearn/discriminant_analysis.py:387: UserWarning: Variables are collinear.\n",
      "  warnings.warn(\"Variables are collinear.\")\n",
      "/home/jmperez/.pyenv/versions/3.5.1/envs/p300-jmp/lib/python3.5/site-packages/sklearn/discriminant_analysis.py:387: UserWarning: Variables are collinear.\n",
      "  warnings.warn(\"Variables are collinear.\")\n",
      "/home/jmperez/.pyenv/versions/3.5.1/envs/p300-jmp/lib/python3.5/site-packages/sklearn/discriminant_analysis.py:387: UserWarning: Variables are collinear.\n",
      "  warnings.warn(\"Variables are collinear.\")\n",
      "/home/jmperez/.pyenv/versions/3.5.1/envs/p300-jmp/lib/python3.5/site-packages/sklearn/discriminant_analysis.py:387: UserWarning: Variables are collinear.\n",
      "  warnings.warn(\"Variables are collinear.\")\n",
      "/home/jmperez/.pyenv/versions/3.5.1/envs/p300-jmp/lib/python3.5/site-packages/sklearn/discriminant_analysis.py:387: UserWarning: Variables are collinear.\n",
      "  warnings.warn(\"Variables are collinear.\")\n"
     ]
    },
    {
     "name": "stdout",
     "output_type": "stream",
     "text": [
      "Analyzing /subjects/s21668001\n",
      "Analyzing /subjects/s22072001\n",
      "Analyzing /subjects/s22109001\n",
      "Analyzing /subjects/s2215001\n",
      "Analyzing /subjects/s22233001\n",
      "Analyzing /subjects/s22337001\n",
      "Analyzing /subjects/s22650001\n",
      "Analyzing /subjects/s232001\n"
     ]
    },
    {
     "name": "stderr",
     "output_type": "stream",
     "text": [
      "/home/jmperez/.pyenv/versions/3.5.1/envs/p300-jmp/lib/python3.5/site-packages/sklearn/discriminant_analysis.py:387: UserWarning: Variables are collinear.\n",
      "  warnings.warn(\"Variables are collinear.\")\n",
      "/home/jmperez/.pyenv/versions/3.5.1/envs/p300-jmp/lib/python3.5/site-packages/sklearn/discriminant_analysis.py:387: UserWarning: Variables are collinear.\n",
      "  warnings.warn(\"Variables are collinear.\")\n",
      "/home/jmperez/.pyenv/versions/3.5.1/envs/p300-jmp/lib/python3.5/site-packages/sklearn/discriminant_analysis.py:387: UserWarning: Variables are collinear.\n",
      "  warnings.warn(\"Variables are collinear.\")\n",
      "/home/jmperez/.pyenv/versions/3.5.1/envs/p300-jmp/lib/python3.5/site-packages/sklearn/discriminant_analysis.py:387: UserWarning: Variables are collinear.\n",
      "  warnings.warn(\"Variables are collinear.\")\n",
      "/home/jmperez/.pyenv/versions/3.5.1/envs/p300-jmp/lib/python3.5/site-packages/sklearn/discriminant_analysis.py:387: UserWarning: Variables are collinear.\n",
      "  warnings.warn(\"Variables are collinear.\")\n",
      "/home/jmperez/.pyenv/versions/3.5.1/envs/p300-jmp/lib/python3.5/site-packages/sklearn/discriminant_analysis.py:387: UserWarning: Variables are collinear.\n",
      "  warnings.warn(\"Variables are collinear.\")\n",
      "/home/jmperez/.pyenv/versions/3.5.1/envs/p300-jmp/lib/python3.5/site-packages/sklearn/discriminant_analysis.py:387: UserWarning: Variables are collinear.\n",
      "  warnings.warn(\"Variables are collinear.\")\n",
      "/home/jmperez/.pyenv/versions/3.5.1/envs/p300-jmp/lib/python3.5/site-packages/sklearn/discriminant_analysis.py:387: UserWarning: Variables are collinear.\n",
      "  warnings.warn(\"Variables are collinear.\")\n",
      "/home/jmperez/.pyenv/versions/3.5.1/envs/p300-jmp/lib/python3.5/site-packages/sklearn/discriminant_analysis.py:387: UserWarning: Variables are collinear.\n",
      "  warnings.warn(\"Variables are collinear.\")\n"
     ]
    },
    {
     "name": "stdout",
     "output_type": "stream",
     "text": [
      "Analyzing /subjects/s23272001\n"
     ]
    },
    {
     "name": "stderr",
     "output_type": "stream",
     "text": [
      "/home/jmperez/.pyenv/versions/3.5.1/envs/p300-jmp/lib/python3.5/site-packages/sklearn/discriminant_analysis.py:387: UserWarning: Variables are collinear.\n",
      "  warnings.warn(\"Variables are collinear.\")\n",
      "/home/jmperez/.pyenv/versions/3.5.1/envs/p300-jmp/lib/python3.5/site-packages/sklearn/discriminant_analysis.py:387: UserWarning: Variables are collinear.\n",
      "  warnings.warn(\"Variables are collinear.\")\n",
      "/home/jmperez/.pyenv/versions/3.5.1/envs/p300-jmp/lib/python3.5/site-packages/sklearn/discriminant_analysis.py:387: UserWarning: Variables are collinear.\n",
      "  warnings.warn(\"Variables are collinear.\")\n",
      "/home/jmperez/.pyenv/versions/3.5.1/envs/p300-jmp/lib/python3.5/site-packages/sklearn/discriminant_analysis.py:387: UserWarning: Variables are collinear.\n",
      "  warnings.warn(\"Variables are collinear.\")\n",
      "/home/jmperez/.pyenv/versions/3.5.1/envs/p300-jmp/lib/python3.5/site-packages/sklearn/discriminant_analysis.py:387: UserWarning: Variables are collinear.\n",
      "  warnings.warn(\"Variables are collinear.\")\n",
      "/home/jmperez/.pyenv/versions/3.5.1/envs/p300-jmp/lib/python3.5/site-packages/sklearn/discriminant_analysis.py:387: UserWarning: Variables are collinear.\n",
      "  warnings.warn(\"Variables are collinear.\")\n"
     ]
    },
    {
     "name": "stdout",
     "output_type": "stream",
     "text": [
      "Analyzing /subjects/s23298001\n",
      "Analyzing /subjects/s23344001\n",
      "Analyzing /subjects/s23732001\n",
      "Analyzing /subjects/s23794001\n",
      "Analyzing /subjects/s24053001\n",
      "Analyzing /subjects/s24101001\n",
      "Analyzing /subjects/s24227001\n"
     ]
    },
    {
     "name": "stderr",
     "output_type": "stream",
     "text": [
      "/home/jmperez/.pyenv/versions/3.5.1/envs/p300-jmp/lib/python3.5/site-packages/sklearn/discriminant_analysis.py:387: UserWarning: Variables are collinear.\n",
      "  warnings.warn(\"Variables are collinear.\")\n",
      "/home/jmperez/.pyenv/versions/3.5.1/envs/p300-jmp/lib/python3.5/site-packages/sklearn/discriminant_analysis.py:387: UserWarning: Variables are collinear.\n",
      "  warnings.warn(\"Variables are collinear.\")\n",
      "/home/jmperez/.pyenv/versions/3.5.1/envs/p300-jmp/lib/python3.5/site-packages/sklearn/discriminant_analysis.py:387: UserWarning: Variables are collinear.\n",
      "  warnings.warn(\"Variables are collinear.\")\n",
      "/home/jmperez/.pyenv/versions/3.5.1/envs/p300-jmp/lib/python3.5/site-packages/sklearn/discriminant_analysis.py:387: UserWarning: Variables are collinear.\n",
      "  warnings.warn(\"Variables are collinear.\")\n",
      "/home/jmperez/.pyenv/versions/3.5.1/envs/p300-jmp/lib/python3.5/site-packages/sklearn/discriminant_analysis.py:387: UserWarning: Variables are collinear.\n",
      "  warnings.warn(\"Variables are collinear.\")\n",
      "/home/jmperez/.pyenv/versions/3.5.1/envs/p300-jmp/lib/python3.5/site-packages/sklearn/discriminant_analysis.py:387: UserWarning: Variables are collinear.\n",
      "  warnings.warn(\"Variables are collinear.\")\n"
     ]
    },
    {
     "name": "stdout",
     "output_type": "stream",
     "text": [
      "Analyzing /subjects/s24540001\n",
      "Analyzing /subjects/s24888001\n",
      "Analyzing /subjects/s25217001\n"
     ]
    },
    {
     "name": "stderr",
     "output_type": "stream",
     "text": [
      "/home/jmperez/.pyenv/versions/3.5.1/envs/p300-jmp/lib/python3.5/site-packages/sklearn/discriminant_analysis.py:387: UserWarning: Variables are collinear.\n",
      "  warnings.warn(\"Variables are collinear.\")\n",
      "/home/jmperez/.pyenv/versions/3.5.1/envs/p300-jmp/lib/python3.5/site-packages/sklearn/discriminant_analysis.py:387: UserWarning: Variables are collinear.\n",
      "  warnings.warn(\"Variables are collinear.\")\n",
      "/home/jmperez/.pyenv/versions/3.5.1/envs/p300-jmp/lib/python3.5/site-packages/sklearn/discriminant_analysis.py:387: UserWarning: Variables are collinear.\n",
      "  warnings.warn(\"Variables are collinear.\")\n",
      "/home/jmperez/.pyenv/versions/3.5.1/envs/p300-jmp/lib/python3.5/site-packages/sklearn/discriminant_analysis.py:387: UserWarning: Variables are collinear.\n",
      "  warnings.warn(\"Variables are collinear.\")\n",
      "/home/jmperez/.pyenv/versions/3.5.1/envs/p300-jmp/lib/python3.5/site-packages/sklearn/discriminant_analysis.py:387: UserWarning: Variables are collinear.\n",
      "  warnings.warn(\"Variables are collinear.\")\n",
      "/home/jmperez/.pyenv/versions/3.5.1/envs/p300-jmp/lib/python3.5/site-packages/sklearn/discriminant_analysis.py:387: UserWarning: Variables are collinear.\n",
      "  warnings.warn(\"Variables are collinear.\")\n",
      "/home/jmperez/.pyenv/versions/3.5.1/envs/p300-jmp/lib/python3.5/site-packages/sklearn/discriminant_analysis.py:387: UserWarning: Variables are collinear.\n",
      "  warnings.warn(\"Variables are collinear.\")\n",
      "/home/jmperez/.pyenv/versions/3.5.1/envs/p300-jmp/lib/python3.5/site-packages/sklearn/discriminant_analysis.py:387: UserWarning: Variables are collinear.\n",
      "  warnings.warn(\"Variables are collinear.\")\n",
      "/home/jmperez/.pyenv/versions/3.5.1/envs/p300-jmp/lib/python3.5/site-packages/sklearn/discriminant_analysis.py:387: UserWarning: Variables are collinear.\n",
      "  warnings.warn(\"Variables are collinear.\")\n"
     ]
    },
    {
     "name": "stdout",
     "output_type": "stream",
     "text": [
      "Analyzing /subjects/s25302001\n",
      "Analyzing /subjects/s255001\n",
      "Analyzing /subjects/s25871001\n",
      "Analyzing /subjects/s25922001\n",
      "Analyzing /subjects/s26333001\n",
      "Analyzing /subjects/s26636001\n",
      "Analyzing /subjects/s26715001\n"
     ]
    },
    {
     "name": "stderr",
     "output_type": "stream",
     "text": [
      "/home/jmperez/.pyenv/versions/3.5.1/envs/p300-jmp/lib/python3.5/site-packages/sklearn/discriminant_analysis.py:387: UserWarning: Variables are collinear.\n",
      "  warnings.warn(\"Variables are collinear.\")\n",
      "/home/jmperez/.pyenv/versions/3.5.1/envs/p300-jmp/lib/python3.5/site-packages/sklearn/discriminant_analysis.py:387: UserWarning: Variables are collinear.\n",
      "  warnings.warn(\"Variables are collinear.\")\n",
      "/home/jmperez/.pyenv/versions/3.5.1/envs/p300-jmp/lib/python3.5/site-packages/sklearn/discriminant_analysis.py:387: UserWarning: Variables are collinear.\n",
      "  warnings.warn(\"Variables are collinear.\")\n",
      "/home/jmperez/.pyenv/versions/3.5.1/envs/p300-jmp/lib/python3.5/site-packages/sklearn/discriminant_analysis.py:387: UserWarning: Variables are collinear.\n",
      "  warnings.warn(\"Variables are collinear.\")\n",
      "/home/jmperez/.pyenv/versions/3.5.1/envs/p300-jmp/lib/python3.5/site-packages/sklearn/discriminant_analysis.py:387: UserWarning: Variables are collinear.\n",
      "  warnings.warn(\"Variables are collinear.\")\n",
      "/home/jmperez/.pyenv/versions/3.5.1/envs/p300-jmp/lib/python3.5/site-packages/sklearn/discriminant_analysis.py:387: UserWarning: Variables are collinear.\n",
      "  warnings.warn(\"Variables are collinear.\")\n",
      "/home/jmperez/.pyenv/versions/3.5.1/envs/p300-jmp/lib/python3.5/site-packages/sklearn/discriminant_analysis.py:387: UserWarning: Variables are collinear.\n",
      "  warnings.warn(\"Variables are collinear.\")\n",
      "/home/jmperez/.pyenv/versions/3.5.1/envs/p300-jmp/lib/python3.5/site-packages/sklearn/discriminant_analysis.py:387: UserWarning: Variables are collinear.\n",
      "  warnings.warn(\"Variables are collinear.\")\n",
      "/home/jmperez/.pyenv/versions/3.5.1/envs/p300-jmp/lib/python3.5/site-packages/sklearn/discriminant_analysis.py:387: UserWarning: Variables are collinear.\n",
      "  warnings.warn(\"Variables are collinear.\")\n"
     ]
    },
    {
     "name": "stdout",
     "output_type": "stream",
     "text": [
      "Analyzing /subjects/s26721001\n",
      "Analyzing /subjects/s2681001\n",
      "Analyzing /subjects/s27030001\n",
      "Analyzing /subjects/s27058001\n",
      "Analyzing /subjects/s27131001\n",
      "Analyzing /subjects/s27157001\n",
      "Analyzing /subjects/s27163001\n",
      "Analyzing /subjects/s27496001\n",
      "Analyzing /subjects/s27846001\n",
      "Analyzing /subjects/s27946001\n",
      "Analyzing /subjects/s28005001\n",
      "Analyzing /subjects/s28970001\n",
      "Analyzing /subjects/s29063004\n",
      "Analyzing /subjects/s29164001\n",
      "Analyzing /subjects/s29257001\n",
      "Analyzing /subjects/s29273001\n",
      "Analyzing /subjects/s29426001\n",
      "Analyzing /subjects/s29789001\n"
     ]
    },
    {
     "name": "stderr",
     "output_type": "stream",
     "text": [
      "/home/jmperez/.pyenv/versions/3.5.1/envs/p300-jmp/lib/python3.5/site-packages/sklearn/discriminant_analysis.py:387: UserWarning: Variables are collinear.\n",
      "  warnings.warn(\"Variables are collinear.\")\n",
      "/home/jmperez/.pyenv/versions/3.5.1/envs/p300-jmp/lib/python3.5/site-packages/sklearn/discriminant_analysis.py:387: UserWarning: Variables are collinear.\n",
      "  warnings.warn(\"Variables are collinear.\")\n",
      "/home/jmperez/.pyenv/versions/3.5.1/envs/p300-jmp/lib/python3.5/site-packages/sklearn/discriminant_analysis.py:387: UserWarning: Variables are collinear.\n",
      "  warnings.warn(\"Variables are collinear.\")\n",
      "/home/jmperez/.pyenv/versions/3.5.1/envs/p300-jmp/lib/python3.5/site-packages/sklearn/discriminant_analysis.py:387: UserWarning: Variables are collinear.\n",
      "  warnings.warn(\"Variables are collinear.\")\n",
      "/home/jmperez/.pyenv/versions/3.5.1/envs/p300-jmp/lib/python3.5/site-packages/sklearn/discriminant_analysis.py:387: UserWarning: Variables are collinear.\n",
      "  warnings.warn(\"Variables are collinear.\")\n",
      "/home/jmperez/.pyenv/versions/3.5.1/envs/p300-jmp/lib/python3.5/site-packages/sklearn/discriminant_analysis.py:387: UserWarning: Variables are collinear.\n",
      "  warnings.warn(\"Variables are collinear.\")\n",
      "/home/jmperez/.pyenv/versions/3.5.1/envs/p300-jmp/lib/python3.5/site-packages/sklearn/discriminant_analysis.py:387: UserWarning: Variables are collinear.\n",
      "  warnings.warn(\"Variables are collinear.\")\n",
      "/home/jmperez/.pyenv/versions/3.5.1/envs/p300-jmp/lib/python3.5/site-packages/sklearn/discriminant_analysis.py:387: UserWarning: Variables are collinear.\n",
      "  warnings.warn(\"Variables are collinear.\")\n",
      "/home/jmperez/.pyenv/versions/3.5.1/envs/p300-jmp/lib/python3.5/site-packages/sklearn/discriminant_analysis.py:387: UserWarning: Variables are collinear.\n",
      "  warnings.warn(\"Variables are collinear.\")\n"
     ]
    },
    {
     "name": "stdout",
     "output_type": "stream",
     "text": [
      "Analyzing /subjects/s30243001\n",
      "Analyzing /subjects/s30261001\n",
      "Analyzing /subjects/s31056001\n",
      "Analyzing /subjects/s3109001\n",
      "Analyzing /subjects/s31102001\n",
      "Analyzing /subjects/s31397001\n",
      "Analyzing /subjects/s31777001\n",
      "Analyzing /subjects/s3195001\n"
     ]
    },
    {
     "name": "stderr",
     "output_type": "stream",
     "text": [
      "/home/jmperez/.pyenv/versions/3.5.1/envs/p300-jmp/lib/python3.5/site-packages/sklearn/discriminant_analysis.py:387: UserWarning: Variables are collinear.\n",
      "  warnings.warn(\"Variables are collinear.\")\n",
      "/home/jmperez/.pyenv/versions/3.5.1/envs/p300-jmp/lib/python3.5/site-packages/sklearn/discriminant_analysis.py:387: UserWarning: Variables are collinear.\n",
      "  warnings.warn(\"Variables are collinear.\")\n",
      "/home/jmperez/.pyenv/versions/3.5.1/envs/p300-jmp/lib/python3.5/site-packages/sklearn/discriminant_analysis.py:387: UserWarning: Variables are collinear.\n",
      "  warnings.warn(\"Variables are collinear.\")\n"
     ]
    },
    {
     "name": "stdout",
     "output_type": "stream",
     "text": [
      "Analyzing /subjects/s32459001\n"
     ]
    },
    {
     "name": "stderr",
     "output_type": "stream",
     "text": [
      "/home/jmperez/.pyenv/versions/3.5.1/envs/p300-jmp/lib/python3.5/site-packages/sklearn/discriminant_analysis.py:387: UserWarning: Variables are collinear.\n",
      "  warnings.warn(\"Variables are collinear.\")\n",
      "/home/jmperez/.pyenv/versions/3.5.1/envs/p300-jmp/lib/python3.5/site-packages/sklearn/discriminant_analysis.py:387: UserWarning: Variables are collinear.\n",
      "  warnings.warn(\"Variables are collinear.\")\n",
      "/home/jmperez/.pyenv/versions/3.5.1/envs/p300-jmp/lib/python3.5/site-packages/sklearn/discriminant_analysis.py:387: UserWarning: Variables are collinear.\n",
      "  warnings.warn(\"Variables are collinear.\")\n"
     ]
    },
    {
     "name": "stdout",
     "output_type": "stream",
     "text": [
      "Analyzing /subjects/s32505001\n",
      "Analyzing /subjects/s358001\n",
      "Analyzing /subjects/s36001\n"
     ]
    },
    {
     "name": "stderr",
     "output_type": "stream",
     "text": [
      "/home/jmperez/.pyenv/versions/3.5.1/envs/p300-jmp/lib/python3.5/site-packages/sklearn/discriminant_analysis.py:387: UserWarning: Variables are collinear.\n",
      "  warnings.warn(\"Variables are collinear.\")\n",
      "/home/jmperez/.pyenv/versions/3.5.1/envs/p300-jmp/lib/python3.5/site-packages/sklearn/discriminant_analysis.py:387: UserWarning: Variables are collinear.\n",
      "  warnings.warn(\"Variables are collinear.\")\n",
      "/home/jmperez/.pyenv/versions/3.5.1/envs/p300-jmp/lib/python3.5/site-packages/sklearn/discriminant_analysis.py:387: UserWarning: Variables are collinear.\n",
      "  warnings.warn(\"Variables are collinear.\")\n",
      "/home/jmperez/.pyenv/versions/3.5.1/envs/p300-jmp/lib/python3.5/site-packages/sklearn/discriminant_analysis.py:387: UserWarning: Variables are collinear.\n",
      "  warnings.warn(\"Variables are collinear.\")\n",
      "/home/jmperez/.pyenv/versions/3.5.1/envs/p300-jmp/lib/python3.5/site-packages/sklearn/discriminant_analysis.py:387: UserWarning: Variables are collinear.\n",
      "  warnings.warn(\"Variables are collinear.\")\n",
      "/home/jmperez/.pyenv/versions/3.5.1/envs/p300-jmp/lib/python3.5/site-packages/sklearn/discriminant_analysis.py:387: UserWarning: Variables are collinear.\n",
      "  warnings.warn(\"Variables are collinear.\")\n"
     ]
    },
    {
     "name": "stdout",
     "output_type": "stream",
     "text": [
      "Analyzing /subjects/s3703001\n",
      "Analyzing /subjects/s3800001\n"
     ]
    },
    {
     "name": "stderr",
     "output_type": "stream",
     "text": [
      "/home/jmperez/.pyenv/versions/3.5.1/envs/p300-jmp/lib/python3.5/site-packages/sklearn/discriminant_analysis.py:387: UserWarning: Variables are collinear.\n",
      "  warnings.warn(\"Variables are collinear.\")\n",
      "/home/jmperez/.pyenv/versions/3.5.1/envs/p300-jmp/lib/python3.5/site-packages/sklearn/discriminant_analysis.py:387: UserWarning: Variables are collinear.\n",
      "  warnings.warn(\"Variables are collinear.\")\n",
      "/home/jmperez/.pyenv/versions/3.5.1/envs/p300-jmp/lib/python3.5/site-packages/sklearn/discriminant_analysis.py:387: UserWarning: Variables are collinear.\n",
      "  warnings.warn(\"Variables are collinear.\")\n",
      "/home/jmperez/.pyenv/versions/3.5.1/envs/p300-jmp/lib/python3.5/site-packages/sklearn/discriminant_analysis.py:387: UserWarning: Variables are collinear.\n",
      "  warnings.warn(\"Variables are collinear.\")\n",
      "/home/jmperez/.pyenv/versions/3.5.1/envs/p300-jmp/lib/python3.5/site-packages/sklearn/discriminant_analysis.py:387: UserWarning: Variables are collinear.\n",
      "  warnings.warn(\"Variables are collinear.\")\n",
      "/home/jmperez/.pyenv/versions/3.5.1/envs/p300-jmp/lib/python3.5/site-packages/sklearn/discriminant_analysis.py:387: UserWarning: Variables are collinear.\n",
      "  warnings.warn(\"Variables are collinear.\")\n",
      "/home/jmperez/.pyenv/versions/3.5.1/envs/p300-jmp/lib/python3.5/site-packages/sklearn/discriminant_analysis.py:387: UserWarning: Variables are collinear.\n",
      "  warnings.warn(\"Variables are collinear.\")\n",
      "/home/jmperez/.pyenv/versions/3.5.1/envs/p300-jmp/lib/python3.5/site-packages/sklearn/discriminant_analysis.py:387: UserWarning: Variables are collinear.\n",
      "  warnings.warn(\"Variables are collinear.\")\n",
      "/home/jmperez/.pyenv/versions/3.5.1/envs/p300-jmp/lib/python3.5/site-packages/sklearn/discriminant_analysis.py:387: UserWarning: Variables are collinear.\n",
      "  warnings.warn(\"Variables are collinear.\")\n"
     ]
    },
    {
     "name": "stdout",
     "output_type": "stream",
     "text": [
      "Analyzing /subjects/s3942001\n",
      "Analyzing /subjects/s4305001\n",
      "Analyzing /subjects/s4824001\n",
      "Analyzing /subjects/s4949001\n",
      "Analyzing /subjects/s4971001\n",
      "Analyzing /subjects/s499001\n",
      "Analyzing /subjects/s5224001\n",
      "Analyzing /subjects/s5251001\n",
      "Analyzing /subjects/s5510001\n",
      "Analyzing /subjects/s5568001\n",
      "Analyzing /subjects/s5857001\n",
      "Analyzing /subjects/s630001\n",
      "Analyzing /subjects/s6694001\n",
      "Analyzing /subjects/s6830001\n",
      "Analyzing /subjects/s7330001\n",
      "Analyzing /subjects/s7385001\n",
      "Analyzing /subjects/s7488001\n",
      "Analyzing /subjects/s7610001\n",
      "Analyzing /subjects/s7615001\n",
      "Analyzing /subjects/s782001\n",
      "Analyzing /subjects/s8762001\n",
      "Analyzing /subjects/s8834001\n"
     ]
    },
    {
     "name": "stderr",
     "output_type": "stream",
     "text": [
      "/home/jmperez/.pyenv/versions/3.5.1/envs/p300-jmp/lib/python3.5/site-packages/sklearn/discriminant_analysis.py:387: UserWarning: Variables are collinear.\n",
      "  warnings.warn(\"Variables are collinear.\")\n",
      "/home/jmperez/.pyenv/versions/3.5.1/envs/p300-jmp/lib/python3.5/site-packages/sklearn/discriminant_analysis.py:387: UserWarning: Variables are collinear.\n",
      "  warnings.warn(\"Variables are collinear.\")\n",
      "/home/jmperez/.pyenv/versions/3.5.1/envs/p300-jmp/lib/python3.5/site-packages/sklearn/discriminant_analysis.py:387: UserWarning: Variables are collinear.\n",
      "  warnings.warn(\"Variables are collinear.\")\n",
      "/home/jmperez/.pyenv/versions/3.5.1/envs/p300-jmp/lib/python3.5/site-packages/sklearn/discriminant_analysis.py:387: UserWarning: Variables are collinear.\n",
      "  warnings.warn(\"Variables are collinear.\")\n",
      "/home/jmperez/.pyenv/versions/3.5.1/envs/p300-jmp/lib/python3.5/site-packages/sklearn/discriminant_analysis.py:387: UserWarning: Variables are collinear.\n",
      "  warnings.warn(\"Variables are collinear.\")\n",
      "/home/jmperez/.pyenv/versions/3.5.1/envs/p300-jmp/lib/python3.5/site-packages/sklearn/discriminant_analysis.py:387: UserWarning: Variables are collinear.\n",
      "  warnings.warn(\"Variables are collinear.\")\n",
      "/home/jmperez/.pyenv/versions/3.5.1/envs/p300-jmp/lib/python3.5/site-packages/sklearn/discriminant_analysis.py:387: UserWarning: Variables are collinear.\n",
      "  warnings.warn(\"Variables are collinear.\")\n",
      "/home/jmperez/.pyenv/versions/3.5.1/envs/p300-jmp/lib/python3.5/site-packages/sklearn/discriminant_analysis.py:387: UserWarning: Variables are collinear.\n",
      "  warnings.warn(\"Variables are collinear.\")\n",
      "/home/jmperez/.pyenv/versions/3.5.1/envs/p300-jmp/lib/python3.5/site-packages/sklearn/discriminant_analysis.py:387: UserWarning: Variables are collinear.\n",
      "  warnings.warn(\"Variables are collinear.\")\n"
     ]
    },
    {
     "name": "stdout",
     "output_type": "stream",
     "text": [
      "Analyzing /subjects/s8982001\n",
      "Analyzing /subjects/s945001\n",
      "Analyzing /subjects/s9503001\n",
      "Analyzing /subjects/s9689001\n",
      "Analyzing /subjects/s9809001\n"
     ]
    }
   ],
   "source": [
    "results = []\n",
    "clf = LinearDiscriminantAnalysis()\n",
    "\n",
    "for key in hdf.keys():\n",
    "    print(\"Analyzing {}\".format(key))\n",
    "    clf = LinearDiscriminantAnalysis()\n",
    "    \n",
    "    X, y = get_data_from_subject(hdf, key)\n",
    "    auc = cross_val_score(clf, X, y, scoring='roc_auc').mean()\n",
    "    precision = cross_val_score(clf, X, y, scoring='precision').mean()\n",
    "    recall = cross_val_score(clf, X, y, scoring='recall').mean()\n",
    "    \n",
    "    results.append({\n",
    "        'subject_id': key,\n",
    "        'auc': auc,\n",
    "        'precision': precision,\n",
    "        'recall': recall,\n",
    "    })\n",
    "    \n"
   ]
  },
  {
   "cell_type": "code",
   "execution_count": 35,
   "metadata": {},
   "outputs": [
    {
     "data": {
      "text/html": [
       "<div>\n",
       "<style>\n",
       "    .dataframe thead tr:only-child th {\n",
       "        text-align: right;\n",
       "    }\n",
       "\n",
       "    .dataframe thead th {\n",
       "        text-align: left;\n",
       "    }\n",
       "\n",
       "    .dataframe tbody tr th {\n",
       "        vertical-align: top;\n",
       "    }\n",
       "</style>\n",
       "<table border=\"1\" class=\"dataframe\">\n",
       "  <thead>\n",
       "    <tr style=\"text-align: right;\">\n",
       "      <th></th>\n",
       "      <th>auc</th>\n",
       "      <th>precision</th>\n",
       "      <th>recall</th>\n",
       "      <th>subject_id</th>\n",
       "    </tr>\n",
       "  </thead>\n",
       "  <tbody>\n",
       "    <tr>\n",
       "      <th>0</th>\n",
       "      <td>0.569320</td>\n",
       "      <td>0.214618</td>\n",
       "      <td>0.413333</td>\n",
       "      <td>/subjects/s10229001</td>\n",
       "    </tr>\n",
       "    <tr>\n",
       "      <th>1</th>\n",
       "      <td>0.588678</td>\n",
       "      <td>0.221484</td>\n",
       "      <td>0.366667</td>\n",
       "      <td>/subjects/s10444001</td>\n",
       "    </tr>\n",
       "    <tr>\n",
       "      <th>2</th>\n",
       "      <td>0.592065</td>\n",
       "      <td>0.250659</td>\n",
       "      <td>0.342222</td>\n",
       "      <td>/subjects/s10729001</td>\n",
       "    </tr>\n",
       "    <tr>\n",
       "      <th>3</th>\n",
       "      <td>0.605333</td>\n",
       "      <td>0.243854</td>\n",
       "      <td>0.372727</td>\n",
       "      <td>/subjects/s10882001</td>\n",
       "    </tr>\n",
       "    <tr>\n",
       "      <th>4</th>\n",
       "      <td>0.601296</td>\n",
       "      <td>0.252503</td>\n",
       "      <td>0.311905</td>\n",
       "      <td>/subjects/s10924001</td>\n",
       "    </tr>\n",
       "    <tr>\n",
       "      <th>5</th>\n",
       "      <td>0.543473</td>\n",
       "      <td>0.197995</td>\n",
       "      <td>0.363333</td>\n",
       "      <td>/subjects/s11551001</td>\n",
       "    </tr>\n",
       "    <tr>\n",
       "      <th>6</th>\n",
       "      <td>0.492607</td>\n",
       "      <td>0.160213</td>\n",
       "      <td>0.276667</td>\n",
       "      <td>/subjects/s11627001</td>\n",
       "    </tr>\n",
       "    <tr>\n",
       "      <th>7</th>\n",
       "      <td>0.648446</td>\n",
       "      <td>0.270607</td>\n",
       "      <td>0.424242</td>\n",
       "      <td>/subjects/s11632001</td>\n",
       "    </tr>\n",
       "    <tr>\n",
       "      <th>8</th>\n",
       "      <td>0.596275</td>\n",
       "      <td>0.235945</td>\n",
       "      <td>0.363636</td>\n",
       "      <td>/subjects/s11693001</td>\n",
       "    </tr>\n",
       "    <tr>\n",
       "      <th>9</th>\n",
       "      <td>0.697895</td>\n",
       "      <td>0.333909</td>\n",
       "      <td>0.435714</td>\n",
       "      <td>/subjects/s12137001</td>\n",
       "    </tr>\n",
       "    <tr>\n",
       "      <th>10</th>\n",
       "      <td>0.601933</td>\n",
       "      <td>0.235577</td>\n",
       "      <td>0.410000</td>\n",
       "      <td>/subjects/s12168001</td>\n",
       "    </tr>\n",
       "    <tr>\n",
       "      <th>11</th>\n",
       "      <td>0.603543</td>\n",
       "      <td>0.239434</td>\n",
       "      <td>0.363636</td>\n",
       "      <td>/subjects/s12521001</td>\n",
       "    </tr>\n",
       "    <tr>\n",
       "      <th>12</th>\n",
       "      <td>0.628507</td>\n",
       "      <td>0.263091</td>\n",
       "      <td>0.396667</td>\n",
       "      <td>/subjects/s12702001</td>\n",
       "    </tr>\n",
       "    <tr>\n",
       "      <th>13</th>\n",
       "      <td>0.708893</td>\n",
       "      <td>0.340140</td>\n",
       "      <td>0.472727</td>\n",
       "      <td>/subjects/s12900001</td>\n",
       "    </tr>\n",
       "    <tr>\n",
       "      <th>14</th>\n",
       "      <td>0.603533</td>\n",
       "      <td>0.217627</td>\n",
       "      <td>0.370000</td>\n",
       "      <td>/subjects/s13235001</td>\n",
       "    </tr>\n",
       "    <tr>\n",
       "      <th>15</th>\n",
       "      <td>0.556927</td>\n",
       "      <td>0.204515</td>\n",
       "      <td>0.353333</td>\n",
       "      <td>/subjects/s13252001</td>\n",
       "    </tr>\n",
       "    <tr>\n",
       "      <th>16</th>\n",
       "      <td>0.722429</td>\n",
       "      <td>0.384497</td>\n",
       "      <td>0.435714</td>\n",
       "      <td>/subjects/s13431001</td>\n",
       "    </tr>\n",
       "    <tr>\n",
       "      <th>17</th>\n",
       "      <td>0.687129</td>\n",
       "      <td>0.311704</td>\n",
       "      <td>0.375556</td>\n",
       "      <td>/subjects/s13640002</td>\n",
       "    </tr>\n",
       "    <tr>\n",
       "      <th>18</th>\n",
       "      <td>0.808951</td>\n",
       "      <td>0.461553</td>\n",
       "      <td>0.537778</td>\n",
       "      <td>/subjects/s13863001</td>\n",
       "    </tr>\n",
       "    <tr>\n",
       "      <th>19</th>\n",
       "      <td>0.590936</td>\n",
       "      <td>0.240960</td>\n",
       "      <td>0.300000</td>\n",
       "      <td>/subjects/s14023001</td>\n",
       "    </tr>\n",
       "    <tr>\n",
       "      <th>20</th>\n",
       "      <td>0.497697</td>\n",
       "      <td>0.172138</td>\n",
       "      <td>0.226190</td>\n",
       "      <td>/subjects/s1414001</td>\n",
       "    </tr>\n",
       "    <tr>\n",
       "      <th>21</th>\n",
       "      <td>0.505559</td>\n",
       "      <td>0.161240</td>\n",
       "      <td>0.263636</td>\n",
       "      <td>/subjects/s1491001</td>\n",
       "    </tr>\n",
       "    <tr>\n",
       "      <th>22</th>\n",
       "      <td>0.534264</td>\n",
       "      <td>0.187424</td>\n",
       "      <td>0.306061</td>\n",
       "      <td>/subjects/s14998001</td>\n",
       "    </tr>\n",
       "    <tr>\n",
       "      <th>23</th>\n",
       "      <td>0.646980</td>\n",
       "      <td>0.275986</td>\n",
       "      <td>0.416667</td>\n",
       "      <td>/subjects/s15362001</td>\n",
       "    </tr>\n",
       "    <tr>\n",
       "      <th>24</th>\n",
       "      <td>0.560617</td>\n",
       "      <td>0.202900</td>\n",
       "      <td>0.309091</td>\n",
       "      <td>/subjects/s15424001</td>\n",
       "    </tr>\n",
       "    <tr>\n",
       "      <th>25</th>\n",
       "      <td>0.546689</td>\n",
       "      <td>0.180815</td>\n",
       "      <td>0.336364</td>\n",
       "      <td>/subjects/s15641001</td>\n",
       "    </tr>\n",
       "    <tr>\n",
       "      <th>26</th>\n",
       "      <td>0.505973</td>\n",
       "      <td>0.164958</td>\n",
       "      <td>0.202222</td>\n",
       "      <td>/subjects/s16003001</td>\n",
       "    </tr>\n",
       "    <tr>\n",
       "      <th>27</th>\n",
       "      <td>0.509969</td>\n",
       "      <td>0.172201</td>\n",
       "      <td>0.233333</td>\n",
       "      <td>/subjects/s1609001</td>\n",
       "    </tr>\n",
       "    <tr>\n",
       "      <th>28</th>\n",
       "      <td>0.574860</td>\n",
       "      <td>0.206766</td>\n",
       "      <td>0.350000</td>\n",
       "      <td>/subjects/s16266001</td>\n",
       "    </tr>\n",
       "    <tr>\n",
       "      <th>29</th>\n",
       "      <td>0.626747</td>\n",
       "      <td>0.258582</td>\n",
       "      <td>0.423333</td>\n",
       "      <td>/subjects/s1635001</td>\n",
       "    </tr>\n",
       "    <tr>\n",
       "      <th>...</th>\n",
       "      <td>...</td>\n",
       "      <td>...</td>\n",
       "      <td>...</td>\n",
       "      <td>...</td>\n",
       "    </tr>\n",
       "    <tr>\n",
       "      <th>111</th>\n",
       "      <td>0.534187</td>\n",
       "      <td>0.198125</td>\n",
       "      <td>0.370000</td>\n",
       "      <td>/subjects/s36001</td>\n",
       "    </tr>\n",
       "    <tr>\n",
       "      <th>112</th>\n",
       "      <td>0.527650</td>\n",
       "      <td>0.192391</td>\n",
       "      <td>0.252381</td>\n",
       "      <td>/subjects/s3703001</td>\n",
       "    </tr>\n",
       "    <tr>\n",
       "      <th>113</th>\n",
       "      <td>0.547120</td>\n",
       "      <td>0.200402</td>\n",
       "      <td>0.466667</td>\n",
       "      <td>/subjects/s3800001</td>\n",
       "    </tr>\n",
       "    <tr>\n",
       "      <th>114</th>\n",
       "      <td>0.702270</td>\n",
       "      <td>0.327219</td>\n",
       "      <td>0.490909</td>\n",
       "      <td>/subjects/s3942001</td>\n",
       "    </tr>\n",
       "    <tr>\n",
       "      <th>115</th>\n",
       "      <td>0.597824</td>\n",
       "      <td>0.244755</td>\n",
       "      <td>0.378788</td>\n",
       "      <td>/subjects/s4305001</td>\n",
       "    </tr>\n",
       "    <tr>\n",
       "      <th>116</th>\n",
       "      <td>0.487467</td>\n",
       "      <td>0.159635</td>\n",
       "      <td>0.240000</td>\n",
       "      <td>/subjects/s4824001</td>\n",
       "    </tr>\n",
       "    <tr>\n",
       "      <th>117</th>\n",
       "      <td>0.541393</td>\n",
       "      <td>0.210632</td>\n",
       "      <td>0.253333</td>\n",
       "      <td>/subjects/s4949001</td>\n",
       "    </tr>\n",
       "    <tr>\n",
       "      <th>118</th>\n",
       "      <td>0.537482</td>\n",
       "      <td>0.213182</td>\n",
       "      <td>0.287879</td>\n",
       "      <td>/subjects/s4971001</td>\n",
       "    </tr>\n",
       "    <tr>\n",
       "      <th>119</th>\n",
       "      <td>0.534087</td>\n",
       "      <td>0.190462</td>\n",
       "      <td>0.340000</td>\n",
       "      <td>/subjects/s499001</td>\n",
       "    </tr>\n",
       "    <tr>\n",
       "      <th>120</th>\n",
       "      <td>0.561140</td>\n",
       "      <td>0.198690</td>\n",
       "      <td>0.300000</td>\n",
       "      <td>/subjects/s5224001</td>\n",
       "    </tr>\n",
       "    <tr>\n",
       "      <th>121</th>\n",
       "      <td>0.658773</td>\n",
       "      <td>0.292588</td>\n",
       "      <td>0.470000</td>\n",
       "      <td>/subjects/s5251001</td>\n",
       "    </tr>\n",
       "    <tr>\n",
       "      <th>122</th>\n",
       "      <td>0.534006</td>\n",
       "      <td>0.190653</td>\n",
       "      <td>0.330303</td>\n",
       "      <td>/subjects/s5510001</td>\n",
       "    </tr>\n",
       "    <tr>\n",
       "      <th>123</th>\n",
       "      <td>0.551113</td>\n",
       "      <td>0.206974</td>\n",
       "      <td>0.312121</td>\n",
       "      <td>/subjects/s5568001</td>\n",
       "    </tr>\n",
       "    <tr>\n",
       "      <th>124</th>\n",
       "      <td>0.740154</td>\n",
       "      <td>0.386679</td>\n",
       "      <td>0.496970</td>\n",
       "      <td>/subjects/s5857001</td>\n",
       "    </tr>\n",
       "    <tr>\n",
       "      <th>125</th>\n",
       "      <td>0.598293</td>\n",
       "      <td>0.249360</td>\n",
       "      <td>0.390000</td>\n",
       "      <td>/subjects/s630001</td>\n",
       "    </tr>\n",
       "    <tr>\n",
       "      <th>126</th>\n",
       "      <td>0.592904</td>\n",
       "      <td>0.223675</td>\n",
       "      <td>0.342424</td>\n",
       "      <td>/subjects/s6694001</td>\n",
       "    </tr>\n",
       "    <tr>\n",
       "      <th>127</th>\n",
       "      <td>0.482452</td>\n",
       "      <td>0.141698</td>\n",
       "      <td>0.221212</td>\n",
       "      <td>/subjects/s6830001</td>\n",
       "    </tr>\n",
       "    <tr>\n",
       "      <th>128</th>\n",
       "      <td>0.573453</td>\n",
       "      <td>0.207270</td>\n",
       "      <td>0.343333</td>\n",
       "      <td>/subjects/s7330001</td>\n",
       "    </tr>\n",
       "    <tr>\n",
       "      <th>129</th>\n",
       "      <td>0.792776</td>\n",
       "      <td>0.474597</td>\n",
       "      <td>0.535556</td>\n",
       "      <td>/subjects/s7385001</td>\n",
       "    </tr>\n",
       "    <tr>\n",
       "      <th>130</th>\n",
       "      <td>0.576580</td>\n",
       "      <td>0.227590</td>\n",
       "      <td>0.393333</td>\n",
       "      <td>/subjects/s7488001</td>\n",
       "    </tr>\n",
       "    <tr>\n",
       "      <th>131</th>\n",
       "      <td>0.548441</td>\n",
       "      <td>0.190815</td>\n",
       "      <td>0.278788</td>\n",
       "      <td>/subjects/s7610001</td>\n",
       "    </tr>\n",
       "    <tr>\n",
       "      <th>132</th>\n",
       "      <td>0.571107</td>\n",
       "      <td>0.217550</td>\n",
       "      <td>0.333333</td>\n",
       "      <td>/subjects/s7615001</td>\n",
       "    </tr>\n",
       "    <tr>\n",
       "      <th>133</th>\n",
       "      <td>0.690745</td>\n",
       "      <td>0.333818</td>\n",
       "      <td>0.407143</td>\n",
       "      <td>/subjects/s782001</td>\n",
       "    </tr>\n",
       "    <tr>\n",
       "      <th>134</th>\n",
       "      <td>0.503554</td>\n",
       "      <td>0.166571</td>\n",
       "      <td>0.207143</td>\n",
       "      <td>/subjects/s8762001</td>\n",
       "    </tr>\n",
       "    <tr>\n",
       "      <th>135</th>\n",
       "      <td>0.523707</td>\n",
       "      <td>0.189696</td>\n",
       "      <td>0.346667</td>\n",
       "      <td>/subjects/s8834001</td>\n",
       "    </tr>\n",
       "    <tr>\n",
       "      <th>136</th>\n",
       "      <td>0.549773</td>\n",
       "      <td>0.215849</td>\n",
       "      <td>0.350000</td>\n",
       "      <td>/subjects/s8982001</td>\n",
       "    </tr>\n",
       "    <tr>\n",
       "      <th>137</th>\n",
       "      <td>0.544889</td>\n",
       "      <td>0.198133</td>\n",
       "      <td>0.255556</td>\n",
       "      <td>/subjects/s945001</td>\n",
       "    </tr>\n",
       "    <tr>\n",
       "      <th>138</th>\n",
       "      <td>0.644298</td>\n",
       "      <td>0.267068</td>\n",
       "      <td>0.421212</td>\n",
       "      <td>/subjects/s9503001</td>\n",
       "    </tr>\n",
       "    <tr>\n",
       "      <th>139</th>\n",
       "      <td>0.523400</td>\n",
       "      <td>0.183719</td>\n",
       "      <td>0.320000</td>\n",
       "      <td>/subjects/s9689001</td>\n",
       "    </tr>\n",
       "    <tr>\n",
       "      <th>140</th>\n",
       "      <td>0.528616</td>\n",
       "      <td>0.182885</td>\n",
       "      <td>0.228571</td>\n",
       "      <td>/subjects/s9809001</td>\n",
       "    </tr>\n",
       "  </tbody>\n",
       "</table>\n",
       "<p>141 rows × 4 columns</p>\n",
       "</div>"
      ],
      "text/plain": [
       "          auc  precision    recall           subject_id\n",
       "0    0.569320   0.214618  0.413333  /subjects/s10229001\n",
       "1    0.588678   0.221484  0.366667  /subjects/s10444001\n",
       "2    0.592065   0.250659  0.342222  /subjects/s10729001\n",
       "3    0.605333   0.243854  0.372727  /subjects/s10882001\n",
       "4    0.601296   0.252503  0.311905  /subjects/s10924001\n",
       "5    0.543473   0.197995  0.363333  /subjects/s11551001\n",
       "6    0.492607   0.160213  0.276667  /subjects/s11627001\n",
       "7    0.648446   0.270607  0.424242  /subjects/s11632001\n",
       "8    0.596275   0.235945  0.363636  /subjects/s11693001\n",
       "9    0.697895   0.333909  0.435714  /subjects/s12137001\n",
       "10   0.601933   0.235577  0.410000  /subjects/s12168001\n",
       "11   0.603543   0.239434  0.363636  /subjects/s12521001\n",
       "12   0.628507   0.263091  0.396667  /subjects/s12702001\n",
       "13   0.708893   0.340140  0.472727  /subjects/s12900001\n",
       "14   0.603533   0.217627  0.370000  /subjects/s13235001\n",
       "15   0.556927   0.204515  0.353333  /subjects/s13252001\n",
       "16   0.722429   0.384497  0.435714  /subjects/s13431001\n",
       "17   0.687129   0.311704  0.375556  /subjects/s13640002\n",
       "18   0.808951   0.461553  0.537778  /subjects/s13863001\n",
       "19   0.590936   0.240960  0.300000  /subjects/s14023001\n",
       "20   0.497697   0.172138  0.226190   /subjects/s1414001\n",
       "21   0.505559   0.161240  0.263636   /subjects/s1491001\n",
       "22   0.534264   0.187424  0.306061  /subjects/s14998001\n",
       "23   0.646980   0.275986  0.416667  /subjects/s15362001\n",
       "24   0.560617   0.202900  0.309091  /subjects/s15424001\n",
       "25   0.546689   0.180815  0.336364  /subjects/s15641001\n",
       "26   0.505973   0.164958  0.202222  /subjects/s16003001\n",
       "27   0.509969   0.172201  0.233333   /subjects/s1609001\n",
       "28   0.574860   0.206766  0.350000  /subjects/s16266001\n",
       "29   0.626747   0.258582  0.423333   /subjects/s1635001\n",
       "..        ...        ...       ...                  ...\n",
       "111  0.534187   0.198125  0.370000     /subjects/s36001\n",
       "112  0.527650   0.192391  0.252381   /subjects/s3703001\n",
       "113  0.547120   0.200402  0.466667   /subjects/s3800001\n",
       "114  0.702270   0.327219  0.490909   /subjects/s3942001\n",
       "115  0.597824   0.244755  0.378788   /subjects/s4305001\n",
       "116  0.487467   0.159635  0.240000   /subjects/s4824001\n",
       "117  0.541393   0.210632  0.253333   /subjects/s4949001\n",
       "118  0.537482   0.213182  0.287879   /subjects/s4971001\n",
       "119  0.534087   0.190462  0.340000    /subjects/s499001\n",
       "120  0.561140   0.198690  0.300000   /subjects/s5224001\n",
       "121  0.658773   0.292588  0.470000   /subjects/s5251001\n",
       "122  0.534006   0.190653  0.330303   /subjects/s5510001\n",
       "123  0.551113   0.206974  0.312121   /subjects/s5568001\n",
       "124  0.740154   0.386679  0.496970   /subjects/s5857001\n",
       "125  0.598293   0.249360  0.390000    /subjects/s630001\n",
       "126  0.592904   0.223675  0.342424   /subjects/s6694001\n",
       "127  0.482452   0.141698  0.221212   /subjects/s6830001\n",
       "128  0.573453   0.207270  0.343333   /subjects/s7330001\n",
       "129  0.792776   0.474597  0.535556   /subjects/s7385001\n",
       "130  0.576580   0.227590  0.393333   /subjects/s7488001\n",
       "131  0.548441   0.190815  0.278788   /subjects/s7610001\n",
       "132  0.571107   0.217550  0.333333   /subjects/s7615001\n",
       "133  0.690745   0.333818  0.407143    /subjects/s782001\n",
       "134  0.503554   0.166571  0.207143   /subjects/s8762001\n",
       "135  0.523707   0.189696  0.346667   /subjects/s8834001\n",
       "136  0.549773   0.215849  0.350000   /subjects/s8982001\n",
       "137  0.544889   0.198133  0.255556    /subjects/s945001\n",
       "138  0.644298   0.267068  0.421212   /subjects/s9503001\n",
       "139  0.523400   0.183719  0.320000   /subjects/s9689001\n",
       "140  0.528616   0.182885  0.228571   /subjects/s9809001\n",
       "\n",
       "[141 rows x 4 columns]"
      ]
     },
     "execution_count": 35,
     "metadata": {},
     "output_type": "execute_result"
    }
   ],
   "source": [
    "results_df = pd.DataFrame(results)\n",
    "\n",
    "results_df"
   ]
  },
  {
   "cell_type": "code",
   "execution_count": 34,
   "metadata": {},
   "outputs": [
    {
     "data": {
      "text/plain": [
       "0.23614974972736999"
      ]
     },
     "execution_count": 34,
     "metadata": {},
     "output_type": "execute_result"
    }
   ],
   "source": [
    "results_df.precision.mean()"
   ]
  },
  {
   "cell_type": "code",
   "execution_count": null,
   "metadata": {
    "collapsed": true
   },
   "outputs": [],
   "source": []
  }
 ],
 "metadata": {
  "kernelspec": {
   "display_name": "Python 3",
   "language": "python",
   "name": "python3"
  },
  "language_info": {
   "codemirror_mode": {
    "name": "ipython",
    "version": 3
   },
   "file_extension": ".py",
   "mimetype": "text/x-python",
   "name": "python",
   "nbconvert_exporter": "python",
   "pygments_lexer": "ipython3",
   "version": "3.5.1"
  }
 },
 "nbformat": 4,
 "nbformat_minor": 2
}
