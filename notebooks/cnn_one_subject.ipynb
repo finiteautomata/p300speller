{
 "cells": [
  {
   "cell_type": "markdown",
   "metadata": {},
   "source": [
    "# CNN for one subject"
   ]
  },
  {
   "cell_type": "code",
   "execution_count": 4,
   "metadata": {},
   "outputs": [
    {
     "name": "stdout",
     "output_type": "stream",
     "text": [
      "Using matplotlib backend: TkAgg\n",
      "Populating the interactive namespace from numpy and matplotlib\n"
     ]
    }
   ],
   "source": [
    "%pylab\n",
    "%matplotlib inline\n",
    "\n",
    "import glob\n",
    "import os\n",
    "import mne\n",
    "CORPORA_PATH = \"~/projects/corpora/P3Speller/P3Speller-old-y-datos/sets/\"\n",
    "\n",
    "file_path = os.path.expanduser(CORPORA_PATH)\n",
    "files = glob.glob(os.path.join(file_path, \"*.set\"))\n",
    "\n",
    "def normalize_subject(X):\n",
    "    mean = X.mean(axis=(0, 2)).reshape(-1, 1)\n",
    "    std = X.std(axis=(0, 2)).reshape(-1, 1)\n",
    "    return (X - mean) / std\n",
    "\n",
    "def load_data(filename, normalize=True):\n",
    "    data_mne = mne.io.read_raw_eeglab(filename, preload=True, event_id={\"0\": 1, \"1\": 2})\n",
    "    data_mne.filter(0, 20)\n",
    "    events = mne.find_events(data_mne)\n",
    "    epochs = mne.Epochs(\n",
    "        data_mne, events,\n",
    "        baseline=(None, 0), tmin=-0.1, tmax=0.7)\n",
    "\n",
    "    epochs.load_data()\n",
    "    \n",
    "    ch_names = epochs.ch_names\n",
    "    \n",
    "    X = epochs.get_data()[:, :-1]\n",
    "    y = (events[:, 2] == 2).astype('float')\n",
    "\n",
    "    if normalize: \n",
    "        X = normalize_subject(X)\n",
    "    \n",
    "    return X, y \n",
    "\n",
    "filename = files[109]"
   ]
  },
  {
   "cell_type": "markdown",
   "metadata": {},
   "source": [
    "Targets appear as 2 in the third column\n",
    "\n",
    "\n",
    "We remove last channel as well"
   ]
  },
  {
   "cell_type": "code",
   "execution_count": 5,
   "metadata": {},
   "outputs": [
    {
     "name": "stdout",
     "output_type": "stream",
     "text": [
      "Reading /home/jmperez/projects/corpora/P3Speller/P3Speller-old-y-datos/sets/PruebasMuseo_30261001.fdt\n",
      "Reading 0 ... 94591  =      0.000 ...   738.992 secs...\n",
      "Setting up low-pass filter at 20 Hz\n",
      "h_trans_bandwidth chosen to be 5.0 Hz\n",
      "Filter length of 169 samples (1.320 sec) selected\n",
      "2700 events found\n",
      "Events id: [1 2]\n",
      "2700 matching events found\n",
      "0 projection items activated\n",
      "Loading data for 2700 events and 104 original time points ...\n",
      "0 bad epochs dropped\n"
     ]
    }
   ],
   "source": [
    "import sklearn.utils\n",
    "\n",
    "X, y = load_data(filename)\n"
   ]
  },
  {
   "cell_type": "code",
   "execution_count": 6,
   "metadata": {},
   "outputs": [
    {
     "name": "stdout",
     "output_type": "stream",
     "text": [
      "Balance Class 0 : 0.8333333333333334 Class 1 0.16666666666666666\n"
     ]
    }
   ],
   "source": [
    "n = y.shape[0]\n",
    "\n",
    "print(\"Balance Class 0 : {} Class 1 {}\".format(sum(y == 0)/n, sum(y==1) / n))"
   ]
  },
  {
   "cell_type": "code",
   "execution_count": 7,
   "metadata": {},
   "outputs": [
    {
     "data": {
      "text/plain": [
       "((2700, 14, 104), (2700,))"
      ]
     },
     "execution_count": 7,
     "metadata": {},
     "output_type": "execute_result"
    }
   ],
   "source": [
    "X.shape, y.shape"
   ]
  },
  {
   "cell_type": "code",
   "execution_count": 8,
   "metadata": {},
   "outputs": [],
   "source": [
    "from sklearn.model_selection import train_test_split\n",
    "\n",
    "\n",
    "X_train, X_test, y_train, y_test= train_test_split(X, y, test_size=0.1, stratify=y)"
   ]
  },
  {
   "cell_type": "markdown",
   "metadata": {},
   "source": [
    "# Simple MLP "
   ]
  },
  {
   "cell_type": "code",
   "execution_count": 9,
   "metadata": {},
   "outputs": [
    {
     "name": "stderr",
     "output_type": "stream",
     "text": [
      "Using TensorFlow backend.\n",
      "/home/jmperez/.pyenv/versions/3.6.0/lib/python3.6/importlib/_bootstrap.py:205: RuntimeWarning: compiletime version 3.5 of module 'tensorflow.python.framework.fast_tensor_util' does not match runtime version 3.6\n",
      "  return f(*args, **kwds)\n"
     ]
    }
   ],
   "source": [
    "from keras.models import Sequential\n",
    "from keras.layers import Conv1D, MaxPool2D, Flatten, Dense, Dropout\n",
    "\n",
    "\n",
    "model = Sequential()\n",
    "\n",
    "input_shape = X.shape[1:]\n",
    "\n",
    "#n_kernels = 100\n",
    "#model.add(Conv1D(n_kernels, 10, \n",
    "#                activation='sigmoid', input_shape=(14, 104)))\n",
    "model.add(Flatten(input_shape=(14, 104)))\n",
    "model.add(Dropout(0.55))\n",
    "model.add(Dense(4096, activation='sigmoid'))\n",
    "model.add(Dense(1, activation='sigmoid'))\n",
    "\n",
    "model.compile(loss='mse', # using the cross-entropy loss function\n",
    "              optimizer='adam', \n",
    "              metrics=['accuracy']) # reporting the accuracy"
   ]
  },
  {
   "cell_type": "code",
   "execution_count": 10,
   "metadata": {},
   "outputs": [
    {
     "name": "stdout",
     "output_type": "stream",
     "text": [
      "Epoch 1/40\n",
      "2430/2430 [==============================] - 3s 1ms/step - loss: 0.7408 - acc: 0.4704\n",
      "Epoch 2/40\n",
      "2430/2430 [==============================] - 3s 1ms/step - loss: 0.6776 - acc: 0.4687\n",
      "Epoch 3/40\n",
      "2430/2430 [==============================] - 3s 1ms/step - loss: 0.7196 - acc: 0.4181\n",
      "Epoch 4/40\n",
      "2430/2430 [==============================] - 3s 1ms/step - loss: 0.6646 - acc: 0.4930\n",
      "Epoch 5/40\n",
      "2430/2430 [==============================] - 3s 1ms/step - loss: 0.6651 - acc: 0.4263\n",
      "Epoch 6/40\n",
      "2430/2430 [==============================] - 3s 1ms/step - loss: 0.6435 - acc: 0.5033\n",
      "Epoch 7/40\n",
      "2430/2430 [==============================] - 3s 1ms/step - loss: 0.6852 - acc: 0.4218\n",
      "Epoch 8/40\n",
      "2430/2430 [==============================] - 3s 1ms/step - loss: 0.6229 - acc: 0.5185\n",
      "Epoch 9/40\n",
      "2430/2430 [==============================] - 3s 1ms/step - loss: 0.5657 - acc: 0.5041\n",
      "Epoch 10/40\n",
      "2430/2430 [==============================] - 3s 1ms/step - loss: 0.5096 - acc: 0.5539\n",
      "Epoch 11/40\n",
      "2430/2430 [==============================] - 3s 1ms/step - loss: 0.5974 - acc: 0.5136\n",
      "Epoch 12/40\n",
      "2430/2430 [==============================] - 3s 1ms/step - loss: 0.5022 - acc: 0.5350\n",
      "Epoch 13/40\n",
      "2430/2430 [==============================] - 3s 1ms/step - loss: 0.4332 - acc: 0.5848\n",
      "Epoch 14/40\n",
      "2430/2430 [==============================] - 3s 1ms/step - loss: 0.4099 - acc: 0.6066\n",
      "Epoch 15/40\n",
      "2430/2430 [==============================] - 3s 1ms/step - loss: 0.4032 - acc: 0.5975\n",
      "Epoch 16/40\n",
      "2430/2430 [==============================] - 3s 1ms/step - loss: 0.3719 - acc: 0.6407\n",
      "Epoch 17/40\n",
      "2430/2430 [==============================] - 3s 1ms/step - loss: 0.3413 - acc: 0.6798\n",
      "Epoch 18/40\n",
      "2430/2430 [==============================] - 3s 1ms/step - loss: 0.3385 - acc: 0.6967\n",
      "Epoch 19/40\n",
      "2430/2430 [==============================] - 4s 1ms/step - loss: 0.3138 - acc: 0.7012\n",
      "Epoch 20/40\n",
      "2430/2430 [==============================] - 3s 1ms/step - loss: 0.2905 - acc: 0.7259\n",
      "Epoch 21/40\n",
      "2430/2430 [==============================] - 3s 1ms/step - loss: 0.2757 - acc: 0.7494\n",
      "Epoch 22/40\n",
      "2430/2430 [==============================] - 3s 1ms/step - loss: 0.2746 - acc: 0.7424\n",
      "Epoch 23/40\n",
      "2430/2430 [==============================] - 3s 1ms/step - loss: 0.2488 - acc: 0.7761\n",
      "Epoch 24/40\n",
      "2430/2430 [==============================] - 3s 1ms/step - loss: 0.2319 - acc: 0.7930\n",
      "Epoch 25/40\n",
      "2430/2430 [==============================] - 3s 1ms/step - loss: 0.2302 - acc: 0.7930\n",
      "Epoch 26/40\n",
      "2430/2430 [==============================] - 3s 1ms/step - loss: 0.1919 - acc: 0.8300\n",
      "Epoch 27/40\n",
      "2430/2430 [==============================] - 3s 1ms/step - loss: 0.1519 - acc: 0.8745\n",
      "Epoch 28/40\n",
      "2430/2430 [==============================] - 3s 1ms/step - loss: 0.1585 - acc: 0.8671A: 1s - loss: \n",
      "Epoch 29/40\n",
      "2430/2430 [==============================] - 3s 1ms/step - loss: 0.1436 - acc: 0.8782\n",
      "Epoch 30/40\n",
      "2430/2430 [==============================] - 3s 1ms/step - loss: 0.1267 - acc: 0.9078\n",
      "Epoch 31/40\n",
      "2430/2430 [==============================] - 3s 1ms/step - loss: 0.0937 - acc: 0.9366\n",
      "Epoch 32/40\n",
      "2430/2430 [==============================] - 3s 1ms/step - loss: 0.1076 - acc: 0.9218\n",
      "Epoch 33/40\n",
      "2430/2430 [==============================] - 3s 1ms/step - loss: 0.0883 - acc: 0.9428\n",
      "Epoch 34/40\n",
      "2430/2430 [==============================] - 3s 1ms/step - loss: 0.0764 - acc: 0.9514\n",
      "Epoch 35/40\n",
      "2430/2430 [==============================] - 3s 1ms/step - loss: 0.0663 - acc: 0.9572\n",
      "Epoch 36/40\n",
      "2430/2430 [==============================] - 3s 1ms/step - loss: 0.0593 - acc: 0.9687\n",
      "Epoch 37/40\n",
      "2430/2430 [==============================] - 3s 1ms/step - loss: 0.0576 - acc: 0.9683\n",
      "Epoch 38/40\n",
      "2430/2430 [==============================] - 3s 1ms/step - loss: 0.0450 - acc: 0.9798\n",
      "Epoch 39/40\n",
      "2430/2430 [==============================] - 3s 1ms/step - loss: 0.0436 - acc: 0.9757\n",
      "Epoch 40/40\n",
      "2430/2430 [==============================] - 3s 1ms/step - loss: 0.0384 - acc: 0.9827\n"
     ]
    },
    {
     "data": {
      "text/plain": [
       "<keras.callbacks.History at 0x7f55e0b11080>"
      ]
     },
     "execution_count": 10,
     "metadata": {},
     "output_type": "execute_result"
    }
   ],
   "source": [
    "model.fit(X_train, y_train, epochs=40, batch_size=64, class_weight={0:1, 1:6})"
   ]
  },
  {
   "cell_type": "code",
   "execution_count": 11,
   "metadata": {},
   "outputs": [
    {
     "name": "stdout",
     "output_type": "stream",
     "text": [
      "270/270 [==============================] - 0s 464us/step\n"
     ]
    },
    {
     "data": {
      "text/plain": [
       "[0.17590948321201183, 0.77037037125340213]"
      ]
     },
     "execution_count": 11,
     "metadata": {},
     "output_type": "execute_result"
    }
   ],
   "source": [
    "model.evaluate(X_test, y_test, verbose=1)\n"
   ]
  },
  {
   "cell_type": "code",
   "execution_count": 12,
   "metadata": {},
   "outputs": [],
   "source": [
    "y_pred = model.predict_classes(X_test)\n",
    "y_prob = model.predict(X_test)\n",
    "#np.hstack((y_prob, y_pred, y_test.reshape(-1, 1)))"
   ]
  },
  {
   "cell_type": "code",
   "execution_count": 14,
   "metadata": {},
   "outputs": [
    {
     "name": "stdout",
     "output_type": "stream",
     "text": [
      "\n",
      "Accuracy   = 0.7703703703703704\n",
      "Precision  = 0.24242424242424243\n",
      "Recall     = 0.17777777777777778\n",
      "ROC AUC    = 0.5885432098765432\n",
      "\n"
     ]
    }
   ],
   "source": [
    "from sklearn.metrics import precision_score, recall_score, roc_auc_score, accuracy_score\n",
    "\n",
    "precision = precision_score(y_test, y_pred)\n",
    "recall = recall_score(y_test, y_pred)\n",
    "auc = roc_auc_score(y_test, y_prob)\n",
    "accuracy = accuracy_score(y_test, y_pred)\n",
    "\n",
    "print(\"\"\"\n",
    "Accuracy   = {}\n",
    "Precision  = {}\n",
    "Recall     = {}\n",
    "ROC AUC    = {}\n",
    "\"\"\".format(accuracy, precision, recall, auc))"
   ]
  },
  {
   "cell_type": "markdown",
   "metadata": {},
   "source": [
    "# CNN\n",
    "\n",
    "As we consider the last dimension the channels, we should invert the matrix..."
   ]
  },
  {
   "cell_type": "code",
   "execution_count": 32,
   "metadata": {},
   "outputs": [
    {
     "data": {
      "text/plain": [
       "(2700, 14, 104)"
      ]
     },
     "execution_count": 32,
     "metadata": {},
     "output_type": "execute_result"
    }
   ],
   "source": [
    "X.shape"
   ]
  },
  {
   "cell_type": "code",
   "execution_count": 33,
   "metadata": {},
   "outputs": [],
   "source": [
    "X_t = np.transpose(X, (0,2,1))\n"
   ]
  },
  {
   "cell_type": "code",
   "execution_count": 34,
   "metadata": {
    "collapsed": true
   },
   "outputs": [],
   "source": [
    "from sklearn.model_selection import train_test_split\n",
    "\n",
    "X_train, X_test, y_train, y_test= train_test_split(X_t, y, test_size=0.1, stratify=y)"
   ]
  },
  {
   "cell_type": "code",
   "execution_count": 58,
   "metadata": {
    "collapsed": true
   },
   "outputs": [],
   "source": [
    "\n",
    "model = Sequential()\n",
    "\n",
    "input_shape = X.shape[1:]\n",
    "\n",
    "n_kernels = 10\n",
    "model.add(Conv1D(n_kernels, 10, padding='same', \n",
    "                activation='relu', input_shape=(104, 14)))\n",
    "model.add(Conv1D(n_kernels, 20, padding='same', \n",
    "                activation='relu'))\n",
    "model.add(Flatten(input_shape=(14, 104)))\n",
    "model.add(Dropout(0.55))\n",
    "model.add(Dense(128, activation='relu'))\n",
    "model.add(Dense(1, activation='sigmoid'))\n",
    "\n",
    "model.compile(loss='binary_crossentropy', # using the cross-entropy loss function\n",
    "              optimizer='rmsprop', \n",
    "              metrics=['accuracy']) # reporting the accuracy"
   ]
  },
  {
   "cell_type": "code",
   "execution_count": 59,
   "metadata": {},
   "outputs": [
    {
     "name": "stdout",
     "output_type": "stream",
     "text": [
      "Epoch 1/20\n",
      "2430/2430 [==============================] - 1s 376us/step - loss: 1.4220 - acc: 0.4119\n",
      "Epoch 2/20\n",
      "2430/2430 [==============================] - 1s 243us/step - loss: 1.2748 - acc: 0.4457\n",
      "Epoch 3/20\n",
      "2430/2430 [==============================] - 1s 248us/step - loss: 1.2427 - acc: 0.4539\n",
      "Epoch 4/20\n",
      "2430/2430 [==============================] - 1s 251us/step - loss: 1.2169 - acc: 0.4971\n",
      "Epoch 5/20\n",
      "2430/2430 [==============================] - 1s 239us/step - loss: 1.1694 - acc: 0.5560\n",
      "Epoch 6/20\n",
      "2430/2430 [==============================] - 1s 251us/step - loss: 1.1308 - acc: 0.5984\n",
      "Epoch 7/20\n",
      "2430/2430 [==============================] - 1s 242us/step - loss: 1.1073 - acc: 0.6037\n",
      "Epoch 8/20\n",
      "2430/2430 [==============================] - 1s 245us/step - loss: 1.0431 - acc: 0.6436\n",
      "Epoch 9/20\n",
      "2430/2430 [==============================] - 1s 255us/step - loss: 1.0586 - acc: 0.6494\n",
      "Epoch 10/20\n",
      "2430/2430 [==============================] - 1s 250us/step - loss: 1.0303 - acc: 0.6613\n",
      "Epoch 11/20\n",
      "2430/2430 [==============================] - 1s 250us/step - loss: 0.9906 - acc: 0.6905\n",
      "Epoch 12/20\n",
      "2430/2430 [==============================] - 1s 251us/step - loss: 0.9932 - acc: 0.6765\n",
      "Epoch 13/20\n",
      "2430/2430 [==============================] - 1s 258us/step - loss: 0.9615 - acc: 0.7033\n",
      "Epoch 14/20\n",
      "2430/2430 [==============================] - 1s 255us/step - loss: 0.9308 - acc: 0.7066\n",
      "Epoch 15/20\n",
      "2430/2430 [==============================] - 1s 255us/step - loss: 0.9085 - acc: 0.7128\n",
      "Epoch 16/20\n",
      "2430/2430 [==============================] - 1s 262us/step - loss: 0.8945 - acc: 0.7235\n",
      "Epoch 17/20\n",
      "2430/2430 [==============================] - 1s 258us/step - loss: 0.8580 - acc: 0.7428\n",
      "Epoch 18/20\n",
      "2430/2430 [==============================] - 1s 265us/step - loss: 0.8609 - acc: 0.7383 0s - loss: 0.8383 - acc\n",
      "Epoch 19/20\n",
      "2430/2430 [==============================] - 1s 259us/step - loss: 0.8786 - acc: 0.7255\n",
      "Epoch 20/20\n",
      "2430/2430 [==============================] - 1s 266us/step - loss: 0.8439 - acc: 0.7387\n"
     ]
    },
    {
     "data": {
      "text/plain": [
       "<keras.callbacks.History at 0x7f55d91d42e8>"
      ]
     },
     "execution_count": 59,
     "metadata": {},
     "output_type": "execute_result"
    }
   ],
   "source": [
    "model.fit(X_train, y_train, epochs=20, batch_size=64, class_weight={0:1, 1:6})"
   ]
  },
  {
   "cell_type": "code",
   "execution_count": 60,
   "metadata": {},
   "outputs": [
    {
     "name": "stdout",
     "output_type": "stream",
     "text": [
      "\n",
      "Accuracy   = 0.6666666666666666\n",
      "Precision  = 0.1917808219178082\n",
      "Recall     = 0.3111111111111111\n",
      "ROC AUC    = 0.5585185185185185\n",
      "\n"
     ]
    }
   ],
   "source": [
    "y_pred = model.predict_classes(X_test)\n",
    "y_prob = model.predict(X_test)\n",
    "#np.hstack((y_prob, y_pred, y_test.reshape(-1, 1)))\n",
    "\n",
    "from sklearn.metrics import precision_score, recall_score, roc_auc_score, accuracy_score\n",
    "\n",
    "precision = precision_score(y_test, y_pred)\n",
    "recall = recall_score(y_test, y_pred)\n",
    "auc = roc_auc_score(y_test, y_prob)\n",
    "accuracy = accuracy_score(y_test, y_pred)\n",
    "\n",
    "print(\"\"\"\n",
    "Accuracy   = {}\n",
    "Precision  = {}\n",
    "Recall     = {}\n",
    "ROC AUC    = {}\n",
    "\"\"\".format(accuracy, precision, recall, auc))"
   ]
  },
  {
   "cell_type": "markdown",
   "metadata": {},
   "source": [
    "\n",
    "## Second CNN architecture\n",
    "\n",
    "```\n",
    "The network topology is the key feature in the classifier. \n",
    "The network is composed of five layers, which are themselves\n",
    "composed of one or several maps. A map represents a layer entity, \n",
    "which has a specific semantic: Each map of the first hidden layer \n",
    "is a channel combination. The second hidden layer subsamples and \n",
    "transforms the signal in the time  domain.\n",
    "\n",
    "The classifier architecture is presented in Fig. 3. The\n",
    "number of neurons for each map is presented between\n",
    "brackets; the size of the convolution kernel is between hooks.\n",
    "\n",
    "The order of the convolution is chosen in relation to what is\n",
    "traditionally done in BCI. First, optimal spatial filters/\n",
    "channel combinations are set, then the signal is processed in\n",
    "the time domain. \n",
    "\n",
    "The choice of the topology is also justified by\n",
    "the possibility of easily interpreting the trained convolution\n",
    "kernel, i.e., the receptive fields. In the proposed strategy, the\n",
    "kernels are vectors and not matrix, like in CNNs for image\n",
    "recognition. The reason is to not mix in one kernel features\n",
    "related to the space and time domain.\n",
    "The network topology is described as follows:\n",
    "```"
   ]
  },
  {
   "cell_type": "markdown",
   "metadata": {},
   "source": [
    "As we are going to use 2d kernels, we add a Dummy Dimension (as last channel)"
   ]
  },
  {
   "cell_type": "code",
   "execution_count": 80,
   "metadata": {},
   "outputs": [
    {
     "data": {
      "text/plain": [
       "(2700, 14, 104, 1)"
      ]
     },
     "execution_count": 80,
     "metadata": {},
     "output_type": "execute_result"
    }
   ],
   "source": [
    "X_t = X[:, :, :, np.newaxis]\n",
    "\n",
    "X_t.shape"
   ]
  },
  {
   "cell_type": "code",
   "execution_count": 83,
   "metadata": {},
   "outputs": [
    {
     "data": {
      "text/plain": [
       "((2430, 14, 104, 1), (2430,))"
      ]
     },
     "execution_count": 83,
     "metadata": {},
     "output_type": "execute_result"
    }
   ],
   "source": [
    "from sklearn.model_selection import train_test_split\n",
    "\n",
    "X_train, X_test, y_train, y_test= train_test_split(X_t, y, test_size=0.1, stratify=y)\n",
    "\n",
    "X_train.shape, y_train.shape"
   ]
  },
  {
   "cell_type": "code",
   "execution_count": 99,
   "metadata": {},
   "outputs": [],
   "source": [
    "from keras.models import Sequential\n",
    "from keras.layers import Conv1D, Conv2D, Flatten, Dense, Dropout\n",
    "\n",
    "model = Sequential()\n",
    "\n",
    "n_kernels = 10\n",
    "model.add(Conv2D(n_kernels, (14, 1), padding='same', \n",
    "                activation='relu', input_shape=(14, 104, 1)))\n",
    "model.add(Conv2D(5*n_kernels, (1, 13), padding='same',\n",
    "                activation='relu'))\n",
    "model.add(Flatten())\n",
    "model.add(Dropout(0.55))\n",
    "model.add(Dense(128, activation='relu'))\n",
    "model.add(Dense(1, activation='sigmoid'))\n",
    "\n",
    "model.compile(loss='binary_crossentropy', # using the cross-entropy loss function\n",
    "              optimizer='adam', \n",
    "              metrics=['accuracy']) # reporting the accuracy\n"
   ]
  },
  {
   "cell_type": "code",
   "execution_count": 106,
   "metadata": {},
   "outputs": [
    {
     "name": "stdout",
     "output_type": "stream",
     "text": [
      "Epoch 1/10\n",
      "2430/2430 [==============================] - 10s 4ms/step - loss: 0.0143 - acc: 0.9988\n",
      "Epoch 2/10\n",
      "2430/2430 [==============================] - 10s 4ms/step - loss: 0.0127 - acc: 0.9984\n",
      "Epoch 3/10\n",
      "2430/2430 [==============================] - 10s 4ms/step - loss: 0.0087 - acc: 1.0000\n",
      "Epoch 4/10\n",
      "2430/2430 [==============================] - 10s 4ms/step - loss: 0.0081 - acc: 0.9996\n",
      "Epoch 5/10\n",
      "2430/2430 [==============================] - 11s 4ms/step - loss: 0.0059 - acc: 1.0000\n",
      "Epoch 6/10\n",
      "2430/2430 [==============================] - 10s 4ms/step - loss: 0.0047 - acc: 1.0000\n",
      "Epoch 7/10\n",
      "2430/2430 [==============================] - 12s 5ms/step - loss: 0.0049 - acc: 1.0000\n",
      "Epoch 8/10\n",
      "2430/2430 [==============================] - 12s 5ms/step - loss: 0.0052 - acc: 0.9996\n",
      "Epoch 9/10\n",
      "2430/2430 [==============================] - 12s 5ms/step - loss: 0.0076 - acc: 1.0000\n",
      "Epoch 10/10\n",
      "2430/2430 [==============================] - 12s 5ms/step - loss: 0.0140 - acc: 0.9971\n"
     ]
    },
    {
     "data": {
      "text/plain": [
       "<keras.callbacks.History at 0x7f55d0274b70>"
      ]
     },
     "execution_count": 106,
     "metadata": {},
     "output_type": "execute_result"
    }
   ],
   "source": [
    "model.fit(X_train, y_train, epochs=10, batch_size=64, class_weight={0:1, 1:6})"
   ]
  },
  {
   "cell_type": "code",
   "execution_count": 105,
   "metadata": {},
   "outputs": [
    {
     "name": "stdout",
     "output_type": "stream",
     "text": [
      "\n",
      "Accuracy   = 0.7814814814814814\n",
      "Precision  = 0.15\n",
      "Recall     = 0.06666666666666667\n",
      "ROC AUC    = 0.5723456790123457\n",
      "\n"
     ]
    }
   ],
   "source": [
    "y_pred = model.predict_classes(X_test)\n",
    "y_prob = model.predict(X_test)\n",
    "#np.hstack((y_prob, y_pred, y_test.reshape(-1, 1)))\n",
    "\n",
    "from sklearn.metrics import precision_score, recall_score, roc_auc_score, accuracy_score\n",
    "\n",
    "precision = precision_score(y_test, y_pred)\n",
    "recall = recall_score(y_test, y_pred)\n",
    "auc = roc_auc_score(y_test, y_prob)\n",
    "accuracy = accuracy_score(y_test, y_pred)\n",
    "\n",
    "print(\"\"\"\n",
    "Accuracy   = {}\n",
    "Precision  = {}\n",
    "Recall     = {}\n",
    "ROC AUC    = {}\n",
    "\"\"\".format(accuracy, precision, recall, auc))"
   ]
  }
 ],
 "metadata": {
  "kernelspec": {
   "display_name": "Python 3",
   "language": "python",
   "name": "python3"
  }
 },
 "nbformat": 4,
 "nbformat_minor": 2
}
