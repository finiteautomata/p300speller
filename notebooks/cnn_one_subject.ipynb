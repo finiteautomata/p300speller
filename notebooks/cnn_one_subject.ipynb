{
 "cells": [
  {
   "cell_type": "markdown",
   "metadata": {},
   "source": [
    "# CNN for one subject"
   ]
  },
  {
   "cell_type": "code",
   "execution_count": 1,
   "metadata": {},
   "outputs": [
    {
     "name": "stdout",
     "output_type": "stream",
     "text": [
      "Using matplotlib backend: TkAgg\n",
      "Populating the interactive namespace from numpy and matplotlib\n"
     ]
    }
   ],
   "source": [
    "%pylab\n",
    "%matplotlib inline\n",
    "\n",
    "import glob\n",
    "import os\n",
    "\n",
    "CORPORA_PATH = \"~/projects/corpora/P3Speller/P3Speller-old-y-datos/sets/\"\n",
    "\n",
    "file_path = os.path.expanduser(CORPORA_PATH)\n",
    "files = glob.glob(os.path.join(file_path, \"*.set\"))\n",
    "\n",
    "\n",
    "filename = files[109]"
   ]
  },
  {
   "cell_type": "code",
   "execution_count": 2,
   "metadata": {},
   "outputs": [
    {
     "name": "stdout",
     "output_type": "stream",
     "text": [
      "Reading /home/jmperez/projects/corpora/P3Speller/P3Speller-old-y-datos/sets/PruebasMuseo_30261001.fdt\n",
      "Reading 0 ... 94591  =      0.000 ...   738.992 secs...\n",
      "Setting up low-pass filter at 20 Hz\n",
      "h_trans_bandwidth chosen to be 5.0 Hz\n",
      "Filter length of 169 samples (1.320 sec) selected\n"
     ]
    },
    {
     "data": {
      "text/plain": [
       "<RawEEGLAB  |  PruebasMuseo_30261001.fdt, n_channels x n_times : 15 x 94592 (739.0 sec), ~10.9 MB, data loaded>"
      ]
     },
     "execution_count": 2,
     "metadata": {},
     "output_type": "execute_result"
    }
   ],
   "source": [
    "import mne\n",
    "data_mne = mne.io.read_raw_eeglab(\n",
    "    filename, preload=True, event_id={\"0\": 1, \"1\": 2})\n",
    "\n",
    "data_mne.filter(0, 20)"
   ]
  },
  {
   "cell_type": "code",
   "execution_count": 3,
   "metadata": {},
   "outputs": [
    {
     "name": "stdout",
     "output_type": "stream",
     "text": [
      "2700 events found\n",
      "Events id: [1 2]\n"
     ]
    }
   ],
   "source": [
    "events = mne.find_events(data_mne)"
   ]
  },
  {
   "cell_type": "code",
   "execution_count": 4,
   "metadata": {},
   "outputs": [
    {
     "name": "stdout",
     "output_type": "stream",
     "text": [
      "2700 matching events found\n",
      "0 projection items activated\n",
      "Loading data for 2700 events and 104 original time points ...\n",
      "0 bad epochs dropped\n"
     ]
    },
    {
     "data": {
      "text/plain": [
       "<Epochs  |  n_events : 2700 (all good), tmin : -0.1015625 (s), tmax : 0.703125 (s), baseline : (None, 0), ~32.2 MB, data loaded,\n",
       " '1': 2250, '2': 450>"
      ]
     },
     "execution_count": 4,
     "metadata": {},
     "output_type": "execute_result"
    }
   ],
   "source": [
    "epochs = mne.Epochs(\n",
    "        data_mne, events,\n",
    "        baseline=(None, 0), tmin=-0.1, tmax=0.7)\n",
    "\n",
    "epochs.load_data()"
   ]
  },
  {
   "cell_type": "markdown",
   "metadata": {},
   "source": [
    "Targets appear as 2 in the third column\n",
    "\n",
    "\n",
    "We remove last channel as well"
   ]
  },
  {
   "cell_type": "code",
   "execution_count": 5,
   "metadata": {
    "collapsed": true
   },
   "outputs": [],
   "source": [
    "import sklearn.utils\n",
    "\n",
    "X = epochs.get_data()[:, :-1]\n",
    "y = (events[:, 2] == 2).astype('float')\n",
    "\n",
    "def normalize(X):\n",
    "    mean = X.mean(axis=(0, 2)).reshape(-1, 1)\n",
    "    std = X.std(axis=(0, 2)).reshape(-1, 1)\n",
    "    return (X - mean) / std\n",
    "\n",
    "X = normalize(X)"
   ]
  },
  {
   "cell_type": "markdown",
   "metadata": {},
   "source": [
    "We need to balance date, first of all"
   ]
  },
  {
   "cell_type": "code",
   "execution_count": 6,
   "metadata": {},
   "outputs": [
    {
     "data": {
      "image/png": "[encoded data removed]",
      "text/plain": [
       "<matplotlib.figure.Figure at 0x7f6bc852aeb8>"
      ]
     },
     "metadata": {},
     "output_type": "display_data"
    }
   ],
   "source": [
    "plot(X[0][1]);"
   ]
  },
  {
   "cell_type": "code",
   "execution_count": 7,
   "metadata": {},
   "outputs": [
    {
     "name": "stdout",
     "output_type": "stream",
     "text": [
      "Balance Class 0 : 0.8333333333333334 Class 1 0.16666666666666666\n"
     ]
    }
   ],
   "source": [
    "n = y.shape[0]\n",
    "\n",
    "print(\"Balance Class 0 : {} Class 1 {}\".format(sum(y == 0)/n, sum(y==1) / n))"
   ]
  },
  {
   "cell_type": "code",
   "execution_count": 8,
   "metadata": {},
   "outputs": [
    {
     "data": {
      "text/plain": [
       "((2700, 14, 104), (2700,))"
      ]
     },
     "execution_count": 8,
     "metadata": {},
     "output_type": "execute_result"
    }
   ],
   "source": [
    "X.shape, y.shape"
   ]
  },
  {
   "cell_type": "code",
   "execution_count": 65,
   "metadata": {},
   "outputs": [],
   "source": [
    "from sklearn.model_selection import train_test_split\n",
    "\n",
    "train_test_split?\n",
    "X_train, X_test, y_train, y_test= train_test_split(X, y, test_size=0.1, stratify=y)"
   ]
  },
  {
   "cell_type": "markdown",
   "metadata": {},
   "source": [
    "# Simple MLP "
   ]
  },
  {
   "cell_type": "code",
   "execution_count": 121,
   "metadata": {},
   "outputs": [],
   "source": [
    "from keras.models import Sequential\n",
    "from keras.layers import Conv1D, MaxPool2D, Flatten, Dense, Dropout\n",
    "\n",
    "\n",
    "model = Sequential()\n",
    "\n",
    "input_shape = X.shape[1:]\n",
    "\n",
    "#n_kernels = 100\n",
    "#model.add(Conv1D(n_kernels, 10, \n",
    "#                activation='sigmoid', input_shape=(14, 104)))\n",
    "model.add(Flatten(input_shape=(14, 104)))\n",
    "model.add(Dropout(0.55))\n",
    "model.add(Dense(4096, activation='sigmoid'))\n",
    "model.add(Dense(1, activation='sigmoid'))\n",
    "\n",
    "model.compile(loss='mse', # using the cross-entropy loss function\n",
    "              optimizer='adam', \n",
    "              metrics=['accuracy']) # reporting the accuracy"
   ]
  },
  {
   "cell_type": "code",
   "execution_count": 122,
   "metadata": {},
   "outputs": [
    {
     "name": "stdout",
     "output_type": "stream",
     "text": [
      "Epoch 1/40\n",
      "2430/2430 [==============================] - 4s 2ms/step - loss: 0.7753 - acc: 0.4514\n",
      "Epoch 2/40\n",
      "2430/2430 [==============================] - 4s 1ms/step - loss: 0.7540 - acc: 0.5037\n",
      "Epoch 3/40\n",
      "2430/2430 [==============================] - 4s 1ms/step - loss: 0.7607 - acc: 0.4490\n",
      "Epoch 4/40\n",
      "2430/2430 [==============================] - 4s 1ms/step - loss: 0.7402 - acc: 0.4510\n",
      "Epoch 5/40\n",
      "2430/2430 [==============================] - 4s 1ms/step - loss: 0.7195 - acc: 0.4156\n",
      "Epoch 6/40\n",
      "2430/2430 [==============================] - 4s 1ms/step - loss: 0.6566 - acc: 0.5128\n",
      "Epoch 7/40\n",
      "2430/2430 [==============================] - 4s 1ms/step - loss: 0.6599 - acc: 0.4872\n",
      "Epoch 8/40\n",
      "2430/2430 [==============================] - 4s 2ms/step - loss: 0.6267 - acc: 0.5160\n",
      "Epoch 9/40\n",
      "2430/2430 [==============================] - 4s 1ms/step - loss: 0.5446 - acc: 0.5210\n",
      "Epoch 10/40\n",
      "2430/2430 [==============================] - 4s 1ms/step - loss: 0.4878 - acc: 0.5272\n",
      "Epoch 11/40\n",
      "2430/2430 [==============================] - 4s 1ms/step - loss: 0.4823 - acc: 0.5342\n",
      "Epoch 12/40\n",
      "2430/2430 [==============================] - 4s 1ms/step - loss: 0.4255 - acc: 0.5667\n",
      "Epoch 13/40\n",
      "2430/2430 [==============================] - 4s 2ms/step - loss: 0.4175 - acc: 0.5778\n",
      "Epoch 14/40\n",
      "2430/2430 [==============================] - 4s 1ms/step - loss: 0.4497 - acc: 0.5749\n",
      "Epoch 15/40\n",
      "2430/2430 [==============================] - 4s 1ms/step - loss: 0.4378 - acc: 0.5658\n",
      "Epoch 16/40\n",
      "2430/2430 [==============================] - 4s 1ms/step - loss: 0.3659 - acc: 0.6313\n",
      "Epoch 17/40\n",
      "2430/2430 [==============================] - 4s 1ms/step - loss: 0.3337 - acc: 0.7049\n",
      "Epoch 18/40\n",
      "2430/2430 [==============================] - 4s 1ms/step - loss: 0.3426 - acc: 0.6790\n",
      "Epoch 19/40\n",
      "2430/2430 [==============================] - 4s 1ms/step - loss: 0.3145 - acc: 0.7049\n",
      "Epoch 20/40\n",
      "2430/2430 [==============================] - 4s 1ms/step - loss: 0.2821 - acc: 0.7300\n",
      "Epoch 21/40\n",
      "2430/2430 [==============================] - 4s 1ms/step - loss: 0.2760 - acc: 0.7535\n",
      "Epoch 22/40\n",
      "2430/2430 [==============================] - 4s 1ms/step - loss: 0.2536 - acc: 0.7737\n",
      "Epoch 23/40\n",
      "2430/2430 [==============================] - 3s 1ms/step - loss: 0.2269 - acc: 0.8004\n",
      "Epoch 24/40\n",
      "2430/2430 [==============================] - 4s 1ms/step - loss: 0.1991 - acc: 0.8309\n",
      "Epoch 25/40\n",
      "2430/2430 [==============================] - 4s 2ms/step - loss: 0.1824 - acc: 0.8358\n",
      "Epoch 26/40\n",
      "2430/2430 [==============================] - 4s 2ms/step - loss: 0.2117 - acc: 0.8132\n",
      "Epoch 27/40\n",
      "2430/2430 [==============================] - 4s 1ms/step - loss: 0.1747 - acc: 0.8527\n",
      "Epoch 28/40\n",
      "2430/2430 [==============================] - 4s 1ms/step - loss: 0.1443 - acc: 0.8848\n",
      "Epoch 29/40\n",
      "2430/2430 [==============================] - 4s 1ms/step - loss: 0.1241 - acc: 0.9128\n",
      "Epoch 30/40\n",
      "2430/2430 [==============================] - 4s 1ms/step - loss: 0.1302 - acc: 0.9012\n",
      "Epoch 31/40\n",
      "2430/2430 [==============================] - 4s 1ms/step - loss: 0.1073 - acc: 0.9280\n",
      "Epoch 32/40\n",
      "2430/2430 [==============================] - 3s 1ms/step - loss: 0.0813 - acc: 0.9428\n",
      "Epoch 33/40\n",
      "2430/2430 [==============================] - 4s 1ms/step - loss: 0.0887 - acc: 0.9383\n",
      "Epoch 34/40\n",
      "2430/2430 [==============================] - 4s 1ms/step - loss: 0.0899 - acc: 0.9399\n",
      "Epoch 35/40\n",
      "2430/2430 [==============================] - 3s 1ms/step - loss: 0.0758 - acc: 0.9461A: 2s - los\n",
      "Epoch 36/40\n",
      "2430/2430 [==============================] - 4s 1ms/step - loss: 0.0600 - acc: 0.9638\n",
      "Epoch 37/40\n",
      "2430/2430 [==============================] - 4s 1ms/step - loss: 0.0513 - acc: 0.9679\n",
      "Epoch 38/40\n",
      "2430/2430 [==============================] - 4s 2ms/step - loss: 0.0481 - acc: 0.9737\n",
      "Epoch 39/40\n",
      "2430/2430 [==============================] - 4s 1ms/step - loss: 0.0413 - acc: 0.9798\n",
      "Epoch 40/40\n",
      "2430/2430 [==============================] - 4s 2ms/step - loss: 0.0405 - acc: 0.9852\n"
     ]
    },
    {
     "data": {
      "text/plain": [
       "<keras.callbacks.History at 0x7f6b5610e2b0>"
      ]
     },
     "execution_count": 122,
     "metadata": {},
     "output_type": "execute_result"
    }
   ],
   "source": [
    "model.fit(X_train, y_train, epochs=40, batch_size=64, class_weight={0:1, 1:6})"
   ]
  },
  {
   "cell_type": "code",
   "execution_count": 123,
   "metadata": {},
   "outputs": [
    {
     "name": "stdout",
     "output_type": "stream",
     "text": [
      "270/270 [==============================] - 0s 785us/step\n"
     ]
    },
    {
     "data": {
      "text/plain": [
       "[0.212143874168396, 0.71481481437329897]"
      ]
     },
     "execution_count": 123,
     "metadata": {},
     "output_type": "execute_result"
    }
   ],
   "source": [
    "model.evaluate(X_test, y_test, verbose=1)\n"
   ]
  },
  {
   "cell_type": "code",
   "execution_count": 124,
   "metadata": {},
   "outputs": [],
   "source": [
    "y_pred = model.predict_classes(X_test)\n",
    "y_prob = model.predict(X_test)\n",
    "#np.hstack((y_prob, y_pred, y_test.reshape(-1, 1)))"
   ]
  },
  {
   "cell_type": "code",
   "execution_count": 125,
   "metadata": {},
   "outputs": [
    {
     "name": "stdout",
     "output_type": "stream",
     "text": [
      "\n",
      "Accuracy   = 0.7148148148148148\n",
      "Precision  = 0.15217391304347827\n",
      "Recall     = 0.15555555555555556\n",
      "ROC AUC    = 0.4933333333333333\n",
      "\n"
     ]
    }
   ],
   "source": [
    "from sklearn.metrics import precision_score, recall_score, roc_auc_score, accuracy_score\n",
    "\n",
    "precision = precision_score(y_test, y_pred)\n",
    "recall = recall_score(y_test, y_pred)\n",
    "auc = roc_auc_score(y_test, y_prob)\n",
    "accuracy = accuracy_score(y_test, y_pred)\n",
    "\n",
    "print(\"\"\"\n",
    "Accuracy   = {}\n",
    "Precision  = {}\n",
    "Recall     = {}\n",
    "ROC AUC    = {}\n",
    "\"\"\".format(accuracy, precision, recall, auc))"
   ]
  },
  {
   "cell_type": "markdown",
   "metadata": {},
   "source": [
    "Accuracy   = 0.5555555555555556\n",
    "Precision  = 0.1559633027522936\n",
    "Recall     = 0.37777777777777777\n",
    "ROC AUC    = 0.49086419753086424"
   ]
  },
  {
   "cell_type": "markdown",
   "metadata": {},
   "source": [
    "# CNN"
   ]
  },
  {
   "cell_type": "code",
   "execution_count": null,
   "metadata": {
    "collapsed": true
   },
   "outputs": [],
   "source": [
    "\n",
    "model = Sequential()\n",
    "\n",
    "input_shape = X.shape[1:]\n",
    "\n",
    "#n_kernels = 100\n",
    "#model.add(Conv1D(n_kernels, 10, \n",
    "#                activation='sigmoid', input_shape=(14, 104)))\n",
    "model.add(Flatten(input_shape=(14, 104)))\n",
    "model.add(Dropout(0.25))\n",
    "model.add(Dense(1024))\n",
    "model.add(Dense(1, activation='sigmoid'))\n",
    "\n",
    "model.compile(loss='binary_crossentropy', # using the cross-entropy loss function\n",
    "              optimizer='rmsprop', \n",
    "              metrics=['accuracy']) # reporting the accuracy"
   ]
  }
 ],
 "metadata": {
  "kernelspec": {
   "display_name": "Python 3",
   "language": "python",
   "name": "python3"
  },
  "language_info": {
   "codemirror_mode": {
    "name": "ipython",
    "version": 3
   },
   "file_extension": ".py",
   "mimetype": "text/x-python",
   "name": "python",
   "nbconvert_exporter": "python",
   "pygments_lexer": "ipython3",
   "version": "3.6.0"
  }
 },
 "nbformat": 4,
 "nbformat_minor": 2
}
