{
 "cells": [
  {
   "cell_type": "markdown",
   "metadata": {},
   "source": [
    "# Feature Extraction\n",
    "\n",
    "In this notebook, we will extract some features from the EEG signals"
   ]
  },
  {
   "cell_type": "code",
   "execution_count": 1,
   "metadata": {
    "collapsed": true
   },
   "outputs": [],
   "source": [
    "%load_ext autoreload\n",
    "%autoreload 2\n",
    "import os\n",
    "os.chdir(\"..\")"
   ]
  },
  {
   "cell_type": "code",
   "execution_count": 2,
   "metadata": {
    "collapsed": true
   },
   "outputs": [],
   "source": [
    "%matplotlib inline\n",
    "from IPython.core.debugger import Tracer\n",
    "import pandas as pd\n",
    "import numpy as np\n",
    "import seaborn\n",
    "import matplotlib.pyplot as plt\n",
    "\n",
    "df = pd.read_csv(\"output/output.csv\")\n",
    "\n"
   ]
  },
  {
   "cell_type": "code",
   "execution_count": 3,
   "metadata": {
    "collapsed": true
   },
   "outputs": [],
   "source": [
    "index = 6\n",
    "\n",
    "instance = df.iloc[index]"
   ]
  },
  {
   "cell_type": "code",
   "execution_count": 4,
   "metadata": {},
   "outputs": [
    {
     "data": {
      "text/plain": [
       "(15, 104)"
      ]
     },
     "execution_count": 4,
     "metadata": {},
     "output_type": "execute_result"
    }
   ],
   "source": [
    "\n",
    "arr = np.load(instance.array_path)\n",
    "arr.shape"
   ]
  },
  {
   "cell_type": "code",
   "execution_count": 5,
   "metadata": {},
   "outputs": [
    {
     "data": {
      "text/plain": [
       "104"
      ]
     },
     "execution_count": 5,
     "metadata": {},
     "output_type": "execute_result"
    }
   ],
   "source": [
    "t = np.arange(-0.11, 0.7, 1.0/128.0)\n",
    "\n",
    "len(t)"
   ]
  },
  {
   "cell_type": "code",
   "execution_count": 6,
   "metadata": {},
   "outputs": [
    {
     "data": {
      "text/plain": [
       "[<matplotlib.lines.Line2D at 0x7fb41957c748>]"
      ]
     },
     "execution_count": 6,
     "metadata": {},
     "output_type": "execute_result"
    },
    {
     "data": {
      "image/png": "[encoded data removed]",
      "text/plain": [
       "<matplotlib.figure.Figure at 0x7fb44c46cc18>"
      ]
     },
     "metadata": {},
     "output_type": "display_data"
    }
   ],
   "source": [
    "plt.plot(t, arr[14, :])\n"
   ]
  },
  {
   "cell_type": "code",
   "execution_count": 7,
   "metadata": {
    "collapsed": true
   },
   "outputs": [],
   "source": [
    "from scipy import signal"
   ]
  },
  {
   "cell_type": "code",
   "execution_count": 8,
   "metadata": {},
   "outputs": [
    {
     "name": "stdout",
     "output_type": "stream",
     "text": [
      "Help on function welch in module scipy.signal.spectral:\n",
      "\n",
      "welch(x, fs=1.0, window='hann', nperseg=None, noverlap=None, nfft=None, detrend='constant', return_onesided=True, scaling='density', axis=-1)\n",
      "    Estimate power spectral density using Welch's method.\n",
      "    \n",
      "    Welch's method [1]_ computes an estimate of the power spectral\n",
      "    density by dividing the data into overlapping segments, computing a\n",
      "    modified periodogram for each segment and averaging the\n",
      "    periodograms.\n",
      "    \n",
      "    Parameters\n",
      "    ----------\n",
      "    x : array_like\n",
      "        Time series of measurement values\n",
      "    fs : float, optional\n",
      "        Sampling frequency of the `x` time series. Defaults to 1.0.\n",
      "    window : str or tuple or array_like, optional\n",
      "        Desired window to use. See `get_window` for a list of windows\n",
      "        and required parameters. If `window` is array_like it will be\n",
      "        used directly as the window and its length must be nperseg.\n",
      "        Defaults to a Hann window.\n",
      "    nperseg : int, optional\n",
      "        Length of each segment. Defaults to None, but if window is str or\n",
      "        tuple, is set to 256, and if window is array_like, is set to the\n",
      "        length of the window.\n",
      "    noverlap : int, optional\n",
      "        Number of points to overlap between segments. If `None`,\n",
      "        ``noverlap = nperseg // 2``. Defaults to `None`.\n",
      "    nfft : int, optional\n",
      "        Length of the FFT used, if a zero padded FFT is desired. If\n",
      "        `None`, the FFT length is `nperseg`. Defaults to `None`.\n",
      "    detrend : str or function or `False`, optional\n",
      "        Specifies how to detrend each segment. If `detrend` is a\n",
      "        string, it is passed as the `type` argument to the `detrend`\n",
      "        function. If it is a function, it takes a segment and returns a\n",
      "        detrended segment. If `detrend` is `False`, no detrending is\n",
      "        done. Defaults to 'constant'.\n",
      "    return_onesided : bool, optional\n",
      "        If `True`, return a one-sided spectrum for real data. If\n",
      "        `False` return a two-sided spectrum. Note that for complex\n",
      "        data, a two-sided spectrum is always returned.\n",
      "    scaling : { 'density', 'spectrum' }, optional\n",
      "        Selects between computing the power spectral density ('density')\n",
      "        where `Pxx` has units of V**2/Hz and computing the power\n",
      "        spectrum ('spectrum') where `Pxx` has units of V**2, if `x`\n",
      "        is measured in V and `fs` is measured in Hz. Defaults to\n",
      "        'density'\n",
      "    axis : int, optional\n",
      "        Axis along which the periodogram is computed; the default is\n",
      "        over the last axis (i.e. ``axis=-1``).\n",
      "    \n",
      "    Returns\n",
      "    -------\n",
      "    f : ndarray\n",
      "        Array of sample frequencies.\n",
      "    Pxx : ndarray\n",
      "        Power spectral density or power spectrum of x.\n",
      "    \n",
      "    See Also\n",
      "    --------\n",
      "    periodogram: Simple, optionally modified periodogram\n",
      "    lombscargle: Lomb-Scargle periodogram for unevenly sampled data\n",
      "    \n",
      "    Notes\n",
      "    -----\n",
      "    An appropriate amount of overlap will depend on the choice of window\n",
      "    and on your requirements. For the default 'hann' window an overlap\n",
      "    of 50% is a reasonable trade off between accurately estimating the\n",
      "    signal power, while not over counting any of the data. Narrower\n",
      "    windows may require a larger overlap.\n",
      "    \n",
      "    If `noverlap` is 0, this method is equivalent to Bartlett's method\n",
      "    [2]_.\n",
      "    \n",
      "    .. versionadded:: 0.12.0\n",
      "    \n",
      "    References\n",
      "    ----------\n",
      "    .. [1] P. Welch, \"The use of the fast Fourier transform for the\n",
      "           estimation of power spectra: A method based on time averaging\n",
      "           over short, modified periodograms\", IEEE Trans. Audio\n",
      "           Electroacoust. vol. 15, pp. 70-73, 1967.\n",
      "    .. [2] M.S. Bartlett, \"Periodogram Analysis and Continuous Spectra\",\n",
      "           Biometrika, vol. 37, pp. 1-16, 1950.\n",
      "    \n",
      "    Examples\n",
      "    --------\n",
      "    >>> from scipy import signal\n",
      "    >>> import matplotlib.pyplot as plt\n",
      "    >>> np.random.seed(1234)\n",
      "    \n",
      "    Generate a test signal, a 2 Vrms sine wave at 1234 Hz, corrupted by\n",
      "    0.001 V**2/Hz of white noise sampled at 10 kHz.\n",
      "    \n",
      "    >>> fs = 10e3\n",
      "    >>> N = 1e5\n",
      "    >>> amp = 2*np.sqrt(2)\n",
      "    >>> freq = 1234.0\n",
      "    >>> noise_power = 0.001 * fs / 2\n",
      "    >>> time = np.arange(N) / fs\n",
      "    >>> x = amp*np.sin(2*np.pi*freq*time)\n",
      "    >>> x += np.random.normal(scale=np.sqrt(noise_power), size=time.shape)\n",
      "    \n",
      "    Compute and plot the power spectral density.\n",
      "    \n",
      "    >>> f, Pxx_den = signal.welch(x, fs, nperseg=1024)\n",
      "    >>> plt.semilogy(f, Pxx_den)\n",
      "    >>> plt.ylim([0.5e-3, 1])\n",
      "    >>> plt.xlabel('frequency [Hz]')\n",
      "    >>> plt.ylabel('PSD [V**2/Hz]')\n",
      "    >>> plt.show()\n",
      "    \n",
      "    If we average the last half of the spectral density, to exclude the\n",
      "    peak, we can recover the noise power on the signal.\n",
      "    \n",
      "    >>> np.mean(Pxx_den[256:])\n",
      "    0.0009924865443739191\n",
      "    \n",
      "    Now compute and plot the power spectrum.\n",
      "    \n",
      "    >>> f, Pxx_spec = signal.welch(x, fs, 'flattop', 1024, scaling='spectrum')\n",
      "    >>> plt.figure()\n",
      "    >>> plt.semilogy(f, np.sqrt(Pxx_spec))\n",
      "    >>> plt.xlabel('frequency [Hz]')\n",
      "    >>> plt.ylabel('Linear spectrum [V RMS]')\n",
      "    >>> plt.show()\n",
      "    \n",
      "    The peak height in the power spectrum is an estimate of the RMS\n",
      "    amplitude.\n",
      "    \n",
      "    >>> np.sqrt(Pxx_spec.max())\n",
      "    2.0077340678640727\n",
      "\n"
     ]
    }
   ],
   "source": [
    "help(signal.welch)"
   ]
  },
  {
   "cell_type": "code",
   "execution_count": 9,
   "metadata": {},
   "outputs": [
    {
     "name": "stdout",
     "output_type": "stream",
     "text": [
      "(33,)\n"
     ]
    }
   ],
   "source": [
    "freqs, amplitudes = signal.welch(arr[1, :], fs=128, nperseg=65)\n",
    "\n",
    "print(amplitudes.shape)"
   ]
  },
  {
   "cell_type": "code",
   "execution_count": 10,
   "metadata": {},
   "outputs": [
    {
     "data": {
      "text/plain": [
       "[<matplotlib.lines.Line2D at 0x7fb419453898>]"
      ]
     },
     "execution_count": 10,
     "metadata": {},
     "output_type": "execute_result"
    },
    {
     "data": {
      "image/png": "[encoded data removed]",
      "text/plain": [
       "<matplotlib.figure.Figure at 0x7fb44f53aa90>"
      ]
     },
     "metadata": {},
     "output_type": "display_data"
    }
   ],
   "source": [
    "plt.plot(freqs, amplitudes)"
   ]
  },
  {
   "cell_type": "markdown",
   "metadata": {},
   "source": [
    "Perfecto, las magnitudes arriba de 20 son nulas."
   ]
  },
  {
   "cell_type": "markdown",
   "metadata": {},
   "source": [
    "# Calculando todas al mismo tiempo\n",
    "\n",
    "Veamos si signal.welch hace lo mismo si le mando todos los canales de una"
   ]
  },
  {
   "cell_type": "code",
   "execution_count": 11,
   "metadata": {},
   "outputs": [
    {
     "name": "stdout",
     "output_type": "stream",
     "text": [
      "(15, 33)\n"
     ]
    }
   ],
   "source": [
    "freqs, amplitudes = signal.welch(arr, fs=128, nperseg=65)\n",
    "\n",
    "print(amplitudes.shape)"
   ]
  },
  {
   "cell_type": "code",
   "execution_count": 12,
   "metadata": {},
   "outputs": [
    {
     "data": {
      "text/plain": [
       "[<matplotlib.lines.Line2D at 0x7fb419359320>]"
      ]
     },
     "execution_count": 12,
     "metadata": {},
     "output_type": "execute_result"
    },
    {
     "data": {
      "image/png": "[encoded data removed]",
      "text/plain": [
       "<matplotlib.figure.Figure at 0x7fb4194956a0>"
      ]
     },
     "metadata": {},
     "output_type": "display_data"
    }
   ],
   "source": [
    "plt.plot(freqs, amplitudes[1, :])"
   ]
  },
  {
   "cell_type": "code",
   "execution_count": null,
   "metadata": {
    "collapsed": true
   },
   "outputs": [],
   "source": []
  }
 ],
 "metadata": {
  "kernelspec": {
   "display_name": "Python 3",
   "language": "python",
   "name": "python3"
  },
  "language_info": {
   "codemirror_mode": {
    "name": "ipython",
    "version": 3
   },
   "file_extension": ".py",
   "mimetype": "text/x-python",
   "name": "python",
   "nbconvert_exporter": "python",
   "pygments_lexer": "ipython3",
   "version": "3.5.1"
  }
 },
 "nbformat": 4,
 "nbformat_minor": 2
}
