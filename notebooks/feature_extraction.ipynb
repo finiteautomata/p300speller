{
 "cells": [
  {
   "cell_type": "markdown",
   "metadata": {},
   "source": [
    "# Feature Extraction\n",
    "\n",
    "In this notebook, we will extract some features from the EEG signals"
   ]
  },
  {
   "cell_type": "code",
   "execution_count": 1,
   "metadata": {
    "collapsed": true
   },
   "outputs": [],
   "source": [
    "%load_ext autoreload\n",
    "%autoreload 2\n",
    "import os\n",
    "os.chdir(\"..\")"
   ]
  },
  {
   "cell_type": "code",
   "execution_count": 2,
   "metadata": {
    "collapsed": true
   },
   "outputs": [],
   "source": [
    "%matplotlib inline\n",
    "from IPython.core.debugger import Tracer\n",
    "import pandas as pd\n",
    "import numpy as np\n",
    "import seaborn\n",
    "import matplotlib.pyplot as plt\n",
    "\n",
    "df = pd.read_csv(\"output/output.csv\")\n",
    "\n"
   ]
  },
  {
   "cell_type": "code",
   "execution_count": 3,
   "metadata": {
    "collapsed": true
   },
   "outputs": [],
   "source": [
    "index = 6\n",
    "\n",
    "instance = df.iloc[index]"
   ]
  },
  {
   "cell_type": "code",
   "execution_count": 4,
   "metadata": {},
   "outputs": [
    {
     "data": {
      "text/plain": [
       "(15, 104)"
      ]
     },
     "execution_count": 4,
     "metadata": {},
     "output_type": "execute_result"
    }
   ],
   "source": [
    "\n",
    "arr = np.load(instance.array_path)\n",
    "arr.shape"
   ]
  },
  {
   "cell_type": "code",
   "execution_count": 5,
   "metadata": {},
   "outputs": [
    {
     "data": {
      "text/plain": [
       "104"
      ]
     },
     "execution_count": 5,
     "metadata": {},
     "output_type": "execute_result"
    }
   ],
   "source": [
    "t = np.arange(-0.11, 0.7, 1.0/128.0)\n",
    "\n",
    "len(t)"
   ]
  },
  {
   "cell_type": "code",
   "execution_count": 6,
   "metadata": {},
   "outputs": [
    {
     "data": {
      "text/plain": [
       "[<matplotlib.lines.Line2D at 0x7fb41957c748>]"
      ]
     },
     "execution_count": 6,
     "metadata": {},
     "output_type": "execute_result"
    },
    {
     "data": {
      "image/png": "[encoded data removed]",
      "text/plain": [
       "<matplotlib.figure.Figure at 0x7fb44c46cc18>"
      ]
     },
     "metadata": {},
     "output_type": "display_data"
    }
   ],
   "source": [
    "plt.plot(t, arr[14, :])\n"
   ]
  },
  {
   "cell_type": "code",
   "execution_count": 7,
   "metadata": {
    "collapsed": true
   },
   "outputs": [],
   "source": [
    "from scipy import signal"
   ]
  },
  {
   "cell_type": "code",
   "execution_count": 8,
   "metadata": {},
   "outputs": [
    {
     "name": "stdout",
     "output_type": "stream",
     "text": [
      "Help on function welch in module scipy.signal.spectral:\n",
      "\n",
      "welch(x, fs=1.0, window='hann', nperseg=None, noverlap=None, nfft=None, detrend='constant', return_onesided=True, scaling='density', axis=-1)\n",
      "    Estimate power spectral density using Welch's method.\n",
      "    \n",
      "    Welch's method [1]_ computes an estimate of the power spectral\n",
      "    density by dividing the data into overlapping segments, computing a\n",
      "    modified periodogram for each segment and averaging the\n",
      "    periodograms.\n",
      "    \n",
      "    Parameters\n",
      "    ----------\n",
      "    x : array_like\n",
      "        Time series of measurement values\n",
      "    fs : float, optional\n",
      "        Sampling frequency of the `x` time series. Defaults to 1.0.\n",
      "    window : str or tuple or array_like, optional\n",
      "        Desired window to use. See `get_window` for a list of windows\n",
      "        and required parameters. If `window` is array_like it will be\n",
      "        used directly as the window and its length must be nperseg.\n",
      "        Defaults to a Hann window.\n",
      "    nperseg : int, optional\n",
      "        Length of each segment. Defaults to None, but if window is str or\n",
      "        tuple, is set to 256, and if window is array_like, is set to the\n",
      "        length of the window.\n",
      "    noverlap : int, optional\n",
      "        Number of points to overlap between segments. If `None`,\n",
      "        ``noverlap = nperseg // 2``. Defaults to `None`.\n",
      "    nfft : int, optional\n",
      "        Length of the FFT used, if a zero padded FFT is desired. If\n",
      "        `None`, the FFT length is `nperseg`. Defaults to `None`.\n",
      "    detrend : str or function or `False`, optional\n",
      "        Specifies how to detrend each segment. If `detrend` is a\n",
      "        string, it is passed as the `type` argument to the `detrend`\n",
      "        function. If it is a function, it takes a segment and returns a\n",
      "        detrended segment. If `detrend` is `False`, no detrending is\n",
      "        done. Defaults to 'constant'.\n",
      "    return_onesided : bool, optional\n",
      "        If `True`, return a one-sided spectrum for real data. If\n",
      "        `False` return a two-sided spectrum. Note that for complex\n",
      "        data, a two-sided spectrum is always returned.\n",
      "    scaling : { 'density', 'spectrum' }, optional\n",
      "        Selects between computing the power spectral density ('density')\n",
      "        where `Pxx` has units of V**2/Hz and computing the power\n",
      "        spectrum ('spectrum') where `Pxx` has units of V**2, if `x`\n",
      "        is measured in V and `fs` is measured in Hz. Defaults to\n",
      "        'density'\n",
      "    axis : int, optional\n",
      "        Axis along which the periodogram is computed; the default is\n",
      "        over the last axis (i.e. ``axis=-1``).\n",
      "    \n",
      "    Returns\n",
      "    -------\n",
      "    f : ndarray\n",
      "        Array of sample frequencies.\n",
      "    Pxx : ndarray\n",
      "        Power spectral density or power spectrum of x.\n",
      "    \n",
      "    See Also\n",
      "    --------\n",
      "    periodogram: Simple, optionally modified periodogram\n",
      "    lombscargle: Lomb-Scargle periodogram for unevenly sampled data\n",
      "    \n",
      "    Notes\n",
      "    -----\n",
      "    An appropriate amount of overlap will depend on the choice of window\n",
      "    and on your requirements. For the default 'hann' window an overlap\n",
      "    of 50% is a reasonable trade off between accurately estimating the\n",
      "    signal power, while not over counting any of the data. Narrower\n",
      "    windows may require a larger overlap.\n",
      "    \n",
      "    If `noverlap` is 0, this method is equivalent to Bartlett's method\n",
      "    [2]_.\n",
      "    \n",
      "    .. versionadded:: 0.12.0\n",
      "    \n",
      "    References\n",
      "    ----------\n",
      "    .. [1] P. Welch, \"The use of the fast Fourier transform for the\n",
      "           estimation of power spectra: A method based on time averaging\n",
      "           over short, modified periodograms\", IEEE Trans. Audio\n",
      "           Electroacoust. vol. 15, pp. 70-73, 1967.\n",
      "    .. [2] M.S. Bartlett, \"Periodogram Analysis and Continuous Spectra\",\n",
      "           Biometrika, vol. 37, pp. 1-16, 1950.\n",
      "    \n",
      "    Examples\n",
      "    --------\n",
      "    >>> from scipy import signal\n",
      "    >>> import matplotlib.pyplot as plt\n",
      "    >>> np.random.seed(1234)\n",
      "    \n",
      "    Generate a test signal, a 2 Vrms sine wave at 1234 Hz, corrupted by\n",
      "    0.001 V**2/Hz of white noise sampled at 10 kHz.\n",
      "    \n",
      "    >>> fs = 10e3\n",
      "    >>> N = 1e5\n",
      "    >>> amp = 2*np.sqrt(2)\n",
      "    >>> freq = 1234.0\n",
      "    >>> noise_power = 0.001 * fs / 2\n",
      "    >>> time = np.arange(N) / fs\n",
      "    >>> x = amp*np.sin(2*np.pi*freq*time)\n",
      "    >>> x += np.random.normal(scale=np.sqrt(noise_power), size=time.shape)\n",
      "    \n",
      "    Compute and plot the power spectral density.\n",
      "    \n",
      "    >>> f, Pxx_den = signal.welch(x, fs, nperseg=1024)\n",
      "    >>> plt.semilogy(f, Pxx_den)\n",
      "    >>> plt.ylim([0.5e-3, 1])\n",
      "    >>> plt.xlabel('frequency [Hz]')\n",
      "    >>> plt.ylabel('PSD [V**2/Hz]')\n",
      "    >>> plt.show()\n",
      "    \n",
      "    If we average the last half of the spectral density, to exclude the\n",
      "    peak, we can recover the noise power on the signal.\n",
      "    \n",
      "    >>> np.mean(Pxx_den[256:])\n",
      "    0.0009924865443739191\n",
      "    \n",
      "    Now compute and plot the power spectrum.\n",
      "    \n",
      "    >>> f, Pxx_spec = signal.welch(x, fs, 'flattop', 1024, scaling='spectrum')\n",
      "    >>> plt.figure()\n",
      "    >>> plt.semilogy(f, np.sqrt(Pxx_spec))\n",
      "    >>> plt.xlabel('frequency [Hz]')\n",
      "    >>> plt.ylabel('Linear spectrum [V RMS]')\n",
      "    >>> plt.show()\n",
      "    \n",
      "    The peak height in the power spectrum is an estimate of the RMS\n",
      "    amplitude.\n",
      "    \n",
      "    >>> np.sqrt(Pxx_spec.max())\n",
      "    2.0077340678640727\n",
      "\n"
     ]
    }
   ],
   "source": [
    "help(signal.welch)"
   ]
  },
  {
   "cell_type": "code",
   "execution_count": 13,
   "metadata": {},
   "outputs": [
    {
     "name": "stdout",
     "output_type": "stream",
     "text": [
      "(33,)\n"
     ]
    }
   ],
   "source": [
    "freqs, amplitudes = signal.welch(arr[10, :], fs=128, nperseg=65)\n",
    "\n",
    "print(amplitudes.shape)"
   ]
  },
  {
   "cell_type": "code",
   "execution_count": 14,
   "metadata": {},
   "outputs": [
    {
     "data": {
      "text/plain": [
       "[<matplotlib.lines.Line2D at 0x7fb41933df98>]"
      ]
     },
     "execution_count": 14,
     "metadata": {},
     "output_type": "execute_result"
    },
    {
     "data": {
      "image/png": "[encoded data removed]",
      "text/plain": [
       "<matplotlib.figure.Figure at 0x7fb41937ae48>"
      ]
     },
     "metadata": {},
     "output_type": "display_data"
    }
   ],
   "source": [
    "plt.plot(freqs, amplitudes)"
   ]
  },
  {
   "cell_type": "markdown",
   "metadata": {},
   "source": [
    "Perfecto, las magnitudes arriba de 20 son nulas."
   ]
  },
  {
   "cell_type": "markdown",
   "metadata": {},
   "source": [
    "# Calculando todas al mismo tiempo\n",
    "\n",
    "Veamos si signal.welch hace lo mismo si le mando todos los canales de una"
   ]
  },
  {
   "cell_type": "code",
   "execution_count": 15,
   "metadata": {},
   "outputs": [
    {
     "name": "stdout",
     "output_type": "stream",
     "text": [
      "(15, 33)\n"
     ]
    }
   ],
   "source": [
    "freqs, amplitudes = signal.welch(arr, fs=128, nperseg=65)\n",
    "\n",
    "print(amplitudes.shape)"
   ]
  },
  {
   "cell_type": "code",
   "execution_count": 16,
   "metadata": {},
   "outputs": [
    {
     "data": {
      "text/plain": [
       "[<matplotlib.lines.Line2D at 0x7fb41885bac8>]"
      ]
     },
     "execution_count": 16,
     "metadata": {},
     "output_type": "execute_result"
    },
    {
     "data": {
      "image/png": "[encoded data removed]",
      "text/plain": [
       "<matplotlib.figure.Figure at 0x7fb41888b470>"
      ]
     },
     "metadata": {},
     "output_type": "display_data"
    }
   ],
   "source": [
    "plt.plot(freqs, amplitudes[10, :])"
   ]
  },
  {
   "cell_type": "markdown",
   "metadata": {},
   "source": [
    "# Converting to 1-d vector"
   ]
  },
  {
   "cell_type": "code",
   "execution_count": 28,
   "metadata": {},
   "outputs": [
    {
     "data": {
      "text/plain": [
       "array([  1.00534844e-12,   1.05424532e-11,   1.22139255e-11,\n",
       "         9.99979160e-12,   1.82319638e-12,   1.38413858e-12,\n",
       "         1.20558664e-12,   1.63883739e-12,   1.86017125e-12,\n",
       "         1.22574355e-13,   3.45898227e-13,   2.02913055e-13,\n",
       "         7.76559060e-14,   2.92324600e-15,   1.55752234e-17,\n",
       "         2.65933958e-18,   1.07760967e-18,   5.87372373e-19,\n",
       "         3.54359502e-19,   2.27201361e-19,   1.51747052e-19,\n",
       "         1.02353781e-19,   7.19551051e-20,   5.05739238e-20,\n",
       "         3.62884343e-20,   2.63031700e-20,   1.92413450e-20,\n",
       "         1.42025302e-20,   1.06337405e-20,   8.10861597e-21,\n",
       "         6.42678346e-21,   5.36085830e-21,   4.86447485e-21])"
      ]
     },
     "execution_count": 28,
     "metadata": {},
     "output_type": "execute_result"
    }
   ],
   "source": [
    "amplitudes[0, :]"
   ]
  },
  {
   "cell_type": "code",
   "execution_count": 26,
   "metadata": {},
   "outputs": [
    {
     "data": {
      "text/plain": [
       "array([  1.00534844e-12,   1.05424532e-11,   1.22139255e-11,\n",
       "         9.99979160e-12,   1.82319638e-12,   1.38413858e-12,\n",
       "         1.20558664e-12,   1.63883739e-12,   1.86017125e-12,\n",
       "         1.22574355e-13,   3.45898227e-13,   2.02913055e-13,\n",
       "         7.76559060e-14,   2.92324600e-15,   1.55752234e-17,\n",
       "         2.65933958e-18,   1.07760967e-18,   5.87372373e-19,\n",
       "         3.54359502e-19,   2.27201361e-19,   1.51747052e-19,\n",
       "         1.02353781e-19,   7.19551051e-20,   5.05739238e-20,\n",
       "         3.62884343e-20,   2.63031700e-20,   1.92413450e-20,\n",
       "         1.42025302e-20,   1.06337405e-20,   8.10861597e-21,\n",
       "         6.42678346e-21,   5.36085830e-21,   4.86447485e-21,\n",
       "         1.26629855e-10,   2.51222604e-10,   4.95768004e-11,\n",
       "         1.47573346e-11,   3.11369863e-12,   1.92577798e-12,\n",
       "         1.83596863e-12,   4.08765455e-12,   1.15203201e-12,\n",
       "         1.84710753e-12,   1.47240197e-12,   1.06767406e-12,\n",
       "         9.08846178e-14,   1.84090303e-14,   1.29351173e-16,\n",
       "         2.44799267e-17,   9.84228568e-18,   5.14695121e-18,\n",
       "         3.10784147e-18,   2.01577239e-18,   1.36832234e-18,\n",
       "         9.49921912e-19,   6.71052920e-19,   4.76086274e-19,\n",
       "         3.39297609e-19,   2.40213731e-19,   1.68290818e-19,\n",
       "         1.15963204e-19,   7.78580523e-20,   5.06639227e-20,\n",
       "         3.19947761e-20,   2.03230783e-20,   1.47110649e-20,\n",
       "         5.16484926e-13,   2.80537532e-12,   1.66566656e-12,\n",
       "         6.53598974e-13,   2.79163447e-13,   8.89725055e-14,\n",
       "         2.25740903e-14,   7.06814643e-14,   2.88186619e-14,\n",
       "         7.80332430e-15,   2.19774323e-14,   1.30660891e-14,\n",
       "         1.64337070e-15,   5.73008870e-16,   4.78252584e-18,\n",
       "         4.79789812e-19,   1.61231490e-19,   8.04963392e-20,\n",
       "         4.72703032e-20,   3.03691452e-20,   2.04459847e-20,\n",
       "         1.39126718e-20,   9.85923127e-21,   6.89069872e-21,\n",
       "         4.90564444e-21,   3.43849136e-21,   2.42613098e-21,\n",
       "         1.65612900e-21,   1.12594383e-21,   7.35921402e-22,\n",
       "         4.73538155e-22,   3.10325945e-22,   2.31647885e-22,\n",
       "         2.65588942e-12,   3.97549973e-12,   2.04276012e-12,\n",
       "         4.00677753e-12,   8.86461954e-13,   1.68861807e-13,\n",
       "         3.62194705e-13,   5.22973480e-13,   7.29468917e-13,\n",
       "         8.92658947e-14,   2.64609696e-13,   2.15117273e-13,\n",
       "         5.65800684e-14,   3.94562138e-15,   4.55627691e-17,\n",
       "         4.79486050e-18,   1.37449245e-18,   5.51361213e-19,\n",
       "         2.61573325e-19,   1.39176021e-19,   8.09032928e-20,\n",
       "         4.95649480e-20,   3.17503413e-20,   2.13817864e-20,\n",
       "         1.45860699e-20,   1.03510938e-20,   7.50419763e-21,\n",
       "         5.58049916e-21,   4.26489545e-21,   3.37777444e-21,\n",
       "         2.78684238e-21,   2.43004647e-21,   2.25848751e-21,\n",
       "         1.09594280e-12,   5.06994749e-12,   7.88935838e-12,\n",
       "         8.46553590e-12,   2.56236393e-12,   1.56112619e-12,\n",
       "         5.32112673e-13,   1.35929285e-12,   2.50561349e-12,\n",
       "         9.66211574e-14,   1.99407828e-13,   1.31173023e-13,\n",
       "         3.96841891e-14,   3.95988326e-15,   2.41345341e-17,\n",
       "         1.77039861e-18,   3.60003483e-19,   1.19974707e-19,\n",
       "         5.66922967e-20,   3.28247567e-20,   2.09694483e-20,\n",
       "         1.43058455e-20,   1.01564701e-20,   7.15146158e-21,\n",
       "         5.23648661e-21,   3.81590627e-21,   2.81074716e-21,\n",
       "         2.08695005e-21,   1.56418256e-21,   1.18873511e-21,\n",
       "         9.40031020e-22,   7.79970659e-22,   7.05065440e-22,\n",
       "         1.80502094e-12,   4.09336228e-12,   6.85841502e-12,\n",
       "         7.99693562e-12,   2.35407518e-12,   2.30960631e-12,\n",
       "         3.86626507e-12,   6.43335746e-13,   3.92853235e-13,\n",
       "         3.27153249e-13,   1.41991083e-13,   6.38881496e-14,\n",
       "         1.25092956e-13,   1.30808237e-14,   1.94750205e-16,\n",
       "         2.33204711e-17,   6.19556672e-18,   2.28557429e-18,\n",
       "         1.03093892e-18,   5.22796504e-19,   2.94766677e-19,\n",
       "         1.73698136e-19,   1.09620971e-19,   7.06523786e-20,\n",
       "         4.67234815e-20,   3.15200070e-20,   2.14150430e-20,\n",
       "         1.46467108e-20,   9.99885869e-21,   6.85895924e-21,\n",
       "         4.79652185e-21,   3.53314127e-21,   2.93804471e-21,\n",
       "         7.43449186e-12,   3.54891557e-11,   9.77538651e-12,\n",
       "         1.04514834e-11,   6.94798108e-12,   5.17083317e-12,\n",
       "         1.02153917e-11,   4.74055867e-12,   2.38301190e-12,\n",
       "         2.23541788e-12,   1.98259749e-12,   5.49296515e-13,\n",
       "         2.06512450e-13,   1.40642661e-14,   2.57509971e-16,\n",
       "         2.68243956e-17,   7.03870523e-18,   2.57456587e-18,\n",
       "         1.15282752e-18,   5.75673463e-19,   3.19694761e-19,\n",
       "         1.88821971e-19,   1.18119094e-19,   7.69412463e-20,\n",
       "         5.20085234e-20,   3.61901418e-20,   2.59473740e-20,\n",
       "         1.91220840e-20,   1.44798347e-20,   1.13895547e-20,\n",
       "         9.33938710e-21,   8.09604295e-21,   7.51379979e-21,\n",
       "         5.54097421e-12,   2.16860679e-11,   6.84869165e-12,\n",
       "         1.10099678e-11,   9.73346490e-12,   7.62306260e-12,\n",
       "         6.06414519e-12,   5.23985548e-12,   6.03463391e-12,\n",
       "         3.04130919e-12,   3.26000318e-12,   3.47672007e-12,\n",
       "         6.95816751e-13,   1.76910036e-14,   3.22832216e-16,\n",
       "         4.37998726e-17,   1.36471178e-17,   5.60154862e-18,\n",
       "         2.66601070e-18,   1.38625508e-18,   7.85296554e-19,\n",
       "         4.63952388e-19,   2.88229867e-19,   1.84468775e-19,\n",
       "         1.21982674e-19,   8.22777883e-20,   5.69028138e-20,\n",
       "         4.00264665e-20,   2.88338504e-20,   2.13843736e-20,\n",
       "         1.65388378e-20,   1.36277683e-20,   1.22652790e-20,\n",
       "         4.70248578e-12,   2.21633322e-11,   4.94658869e-12,\n",
       "         8.74237695e-12,   8.69413829e-12,   5.27864021e-12,\n",
       "         1.50230826e-12,   2.75473218e-12,   4.44001168e-12,\n",
       "         5.78170186e-13,   8.71261710e-13,   1.04418399e-12,\n",
       "         1.98392134e-13,   1.32779460e-14,   1.48673161e-16,\n",
       "         1.09064047e-17,   4.63737661e-18,   2.50331450e-18,\n",
       "         1.44142451e-18,   8.65953862e-19,   5.47983822e-19,\n",
       "         3.54581914e-19,   2.37699318e-19,   1.61632944e-19,\n",
       "         1.12429478e-19,   7.89311695e-20,   5.62259309e-20,\n",
       "         4.03926747e-20,   2.94001988e-20,   2.17494877e-20,\n",
       "         1.66944017e-20,   1.35652521e-20,   1.20783429e-20,\n",
       "         7.84624351e-12,   1.68509438e-11,   1.53399937e-11,\n",
       "         6.83842858e-12,   6.71418100e-12,   3.47207001e-12,\n",
       "         1.58288679e-12,   1.55083039e-12,   5.25998496e-13,\n",
       "         6.59360045e-13,   1.63617494e-12,   6.23441292e-13,\n",
       "         7.65744097e-14,   5.60573322e-15,   1.02842238e-16,\n",
       "         1.86672702e-17,   5.20090047e-18,   1.89272498e-18,\n",
       "         8.22511030e-19,   4.07069855e-19,   2.23070288e-19,\n",
       "         1.31683867e-19,   8.13467896e-20,   5.39040227e-20,\n",
       "         3.62755346e-20,   2.54484699e-20,   1.82973173e-20,\n",
       "         1.35527860e-20,   1.03384284e-20,   8.12783451e-21,\n",
       "         6.71388076e-21,   5.82864389e-21,   5.42267785e-21,\n",
       "         9.75139111e-12,   2.07001965e-11,   1.23432416e-11,\n",
       "         5.91131768e-12,   3.12224963e-12,   4.69852562e-12,\n",
       "         4.69765037e-12,   2.52698773e-12,   5.02741948e-13,\n",
       "         1.51756384e-13,   8.14882215e-13,   6.55085795e-13,\n",
       "         2.34452528e-13,   1.77590650e-14,   3.90929976e-16,\n",
       "         3.29345369e-17,   8.06295334e-18,   2.90648479e-18,\n",
       "         1.28496406e-18,   6.51698780e-19,   3.65808833e-19,\n",
       "         2.16784649e-19,   1.37789115e-19,   9.11288166e-20,\n",
       "         6.26630832e-20,   4.46287816e-20,   3.28998885e-20,\n",
       "         2.50794784e-20,   1.97726319e-20,   1.61974509e-20,\n",
       "         1.38561410e-20,   1.24300071e-20,   1.17675822e-20,\n",
       "         5.29629807e-12,   1.97966128e-11,   1.88519568e-11,\n",
       "         1.15061348e-11,   2.10958416e-12,   1.76548356e-12,\n",
       "         1.83208046e-12,   1.59231070e-12,   9.12139687e-13,\n",
       "         2.86372274e-13,   5.56865008e-13,   2.81303610e-13,\n",
       "         1.57671322e-13,   3.85953478e-15,   6.21440686e-17,\n",
       "         7.94726052e-18,   2.27354049e-18,   9.68107005e-19,\n",
       "         5.02258310e-19,   2.90843138e-19,   1.81499503e-19,\n",
       "         1.17209452e-19,   7.93385572e-20,   5.45747185e-20,\n",
       "         3.84559265e-20,   2.76368943e-20,   2.01350713e-20,\n",
       "         1.48974979e-20,   1.12997282e-20,   8.73052563e-21,\n",
       "         7.05552098e-21,   6.01054242e-21,   5.51583728e-21,\n",
       "         3.42286476e-12,   6.63094666e-12,   1.08564119e-11,\n",
       "         1.26707518e-11,   3.44384947e-12,   5.79410142e-12,\n",
       "         8.22271070e-12,   6.01410830e-12,   1.28050227e-12,\n",
       "         3.82635175e-13,   7.00414422e-13,   5.55679047e-13,\n",
       "         4.17673261e-13,   1.97914787e-14,   3.41576930e-16,\n",
       "         4.37873433e-17,   1.13285710e-17,   4.13972349e-18,\n",
       "         1.84932849e-18,   9.41381206e-19,   5.24795142e-19,\n",
       "         3.14450990e-19,   1.99933154e-19,   1.32299236e-19,\n",
       "         9.15926200e-20,   6.60157423e-20,   4.93380430e-20,\n",
       "         3.82972930e-20,   3.08619001e-20,   2.58469276e-20,\n",
       "         2.26259213e-20,   2.06371084e-20,   1.97092389e-20,\n",
       "         1.20062012e-11,   3.67389333e-11,   3.93468100e-11,\n",
       "         1.47877585e-11,   2.02656161e-12,   2.19943917e-12,\n",
       "         3.65365380e-12,   2.78667427e-12,   1.18313676e-12,\n",
       "         1.80141389e-13,   7.74321917e-13,   3.19568519e-13,\n",
       "         1.68055569e-13,   4.45880296e-15,   1.14983160e-16,\n",
       "         1.80335336e-17,   6.21423267e-18,   2.97785584e-18,\n",
       "         1.67469686e-18,   1.02348099e-18,   6.64629832e-19,\n",
       "         4.42898145e-19,   3.05052630e-19,   2.11326894e-19,\n",
       "         1.48652465e-19,   1.04708122e-19,   7.36193978e-20,\n",
       "         5.15159083e-20,   3.57617657e-20,   2.46186871e-20,\n",
       "         1.70904994e-20,   1.24164538e-20,   1.01904041e-20,\n",
       "         1.60218692e-07,   1.45944059e-04,   6.68655916e-04,\n",
       "         9.52028379e-05,   6.64622202e-04,   1.00566458e-04,\n",
       "         6.57941204e-04,   1.08549231e-04,   6.48675301e-04,\n",
       "         1.19076623e-04,   6.36911006e-04,   1.32050344e-04,\n",
       "         6.22758159e-04,   1.47349262e-04,   6.06348902e-04,\n",
       "         1.64830533e-04,   5.87836444e-04,   1.84330942e-04,\n",
       "         5.67393630e-04,   2.05668416e-04,   5.45211329e-04,\n",
       "         2.28643735e-04,   5.21496652e-04,   2.53042384e-04,\n",
       "         4.96471016e-04,   2.78636559e-04,   4.70368078e-04,\n",
       "         3.05187295e-04,   4.43431555e-04,   3.32446693e-04,\n",
       "         4.15912946e-04,   3.60160241e-04,   3.88069185e-04])"
      ]
     },
     "execution_count": 26,
     "metadata": {},
     "output_type": "execute_result"
    }
   ],
   "source": [
    "amplitudes.flatten()"
   ]
  },
  {
   "cell_type": "code",
   "execution_count": null,
   "metadata": {
    "collapsed": true
   },
   "outputs": [],
   "source": []
  }
 ],
 "metadata": {
  "kernelspec": {
   "display_name": "Python 3",
   "language": "python",
   "name": "python3"
  },
  "language_info": {
   "codemirror_mode": {
    "name": "ipython",
    "version": 3
   },
   "file_extension": ".py",
   "mimetype": "text/x-python",
   "name": "python",
   "nbconvert_exporter": "python",
   "pygments_lexer": "ipython3",
   "version": "3.5.1"
  }
 },
 "nbformat": 4,
 "nbformat_minor": 2
}
