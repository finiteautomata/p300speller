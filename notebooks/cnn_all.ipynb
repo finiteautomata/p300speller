{
 "cells": [
  {
   "cell_type": "markdown",
   "metadata": {},
   "source": [
    "# CNN for many subjects\n"
   ]
  },
  {
   "cell_type": "markdown",
   "metadata": {},
   "source": [
    "Primero:\n",
    "\n",
    "Cargamos los datos y los normalizamos. Para esto, primero pasamos un filtro pasa-bajo de 0 a 20hz, luego lo normalizamos a $N(0, 1)$"
   ]
  },
  {
   "cell_type": "code",
   "execution_count": 1,
   "metadata": {},
   "outputs": [
    {
     "name": "stdout",
     "output_type": "stream",
     "text": [
      "Using matplotlib backend: TkAgg\n",
      "Populating the interactive namespace from numpy and matplotlib\n"
     ]
    },
    {
     "name": "stderr",
     "output_type": "stream",
     "text": [
      "/home/jmperez/.pyenv/versions/3.6.5/envs/p300/lib/python3.6/site-packages/h5py/__init__.py:36: FutureWarning: Conversion of the second argument of issubdtype from `float` to `np.floating` is deprecated. In future, it will be treated as `np.float64 == np.dtype(float).type`.\n",
      "  from ._conv import register_converters as _register_converters\n",
      "Using TensorFlow backend.\n"
     ]
    },
    {
     "name": "stdout",
     "output_type": "stream",
     "text": [
      "GPU's disponibles = ['/job:localhost/replica:0/task:0/device:GPU:0']\n"
     ]
    }
   ],
   "source": [
    "%pylab\n",
    "%matplotlib inline\n",
    "\n",
    "import sys\n",
    "if \"..\" not in sys.path:\n",
    "    sys.path.append(\"..\")\n",
    "import glob\n",
    "import os\n",
    "import mne\n",
    "from keras import backend as K\n",
    "from p300.preprocessing import normalize_subject, load_data\n",
    "\n",
    "print(\"GPU's disponibles = {}\".format(K.tensorflow_backend._get_available_gpus()))\n",
    "\n",
    "CORPORA_PATH = \"~/projects/corpora/P3Speller/P3Speller-old-y-datos/sets\"\n",
    "\n",
    "file_path = os.path.expanduser(CORPORA_PATH)\n",
    "files = glob.glob(os.path.join(file_path, \"*.set\"))\n",
    "\n"
   ]
  },
  {
   "cell_type": "markdown",
   "metadata": {},
   "source": [
    "Targets appear as 2 in the third column\n",
    "\n",
    "\n",
    "We remove last channel as well"
   ]
  },
  {
   "cell_type": "code",
   "execution_count": 2,
   "metadata": {},
   "outputs": [],
   "source": [
    "%%capture\n",
    "\n",
    "# this line is to avoid output\n",
    "\n",
    "no_subjects_to_use = 30\n",
    "\n",
    "training_files = files[:no_subjects_to_use]\n",
    "\n",
    "\n",
    "X_train, y_train = load_data(training_files)\n"
   ]
  },
  {
   "cell_type": "code",
   "execution_count": 3,
   "metadata": {},
   "outputs": [
    {
     "name": "stdout",
     "output_type": "stream",
     "text": [
      "Class weights: {0: 0.6, 1: 3.0}\n",
      "(58500, 14, 104, 1)\n"
     ]
    }
   ],
   "source": [
    "from sklearn.utils import class_weight\n",
    "y_t = y_train.reshape(-1)\n",
    "class_weights = class_weight.compute_class_weight('balanced', np.unique(y_t), y_t)\n",
    "\n",
    "class_weights = dict(zip([0,1], class_weights))\n",
    "\n",
    "print(\"Class weights: {}\".format(class_weights))\n",
    "print(X_train.shape)"
   ]
  },
  {
   "cell_type": "code",
   "execution_count": 4,
   "metadata": {
    "collapsed": true
   },
   "outputs": [
    {
     "name": "stdout",
     "output_type": "stream",
     "text": [
      "WARNING:tensorflow:From /home/jmperez/.pyenv/versions/3.6.5/envs/p300/lib/python3.6/site-packages/keras/backend/tensorflow_backend.py:1264: calling reduce_prod (from tensorflow.python.ops.math_ops) with keep_dims is deprecated and will be removed in a future version.\n",
      "Instructions for updating:\n",
      "keep_dims is deprecated, use keepdims instead\n",
      "WARNING:tensorflow:From /home/jmperez/.pyenv/versions/3.6.5/envs/p300/lib/python3.6/site-packages/keras/backend/tensorflow_backend.py:1349: calling reduce_mean (from tensorflow.python.ops.math_ops) with keep_dims is deprecated and will be removed in a future version.\n",
      "Instructions for updating:\n",
      "keep_dims is deprecated, use keepdims instead\n"
     ]
    }
   ],
   "source": [
    "from keras.models import Sequential\n",
    "from keras.layers import Conv1D, Conv2D, Flatten, Dense, Dropout\n",
    "\n",
    "model = Sequential()\n",
    "activation = 'relu'\n",
    "\n",
    "n_kernels = 12\n",
    "model.add(Conv2D(n_kernels, (14, 1), padding='same',\n",
    "                activation=activation, input_shape=(14, 104, 1)))\n",
    "model.add(Conv2D(5*n_kernels, (1, 13), padding='same',\n",
    "                activation=activation))\n",
    "model.add(Flatten())\n",
    "model.add(Dropout(0.45))\n",
    "model.add(Dense(128, activation=activation))\n",
    "model.add(Dense(1, activation='sigmoid'))\n",
    "\n",
    "model.compile(loss='binary_crossentropy', # using the cross-entropy loss function\n",
    "              optimizer='rmsprop', \n",
    "              metrics=['accuracy']) # reporting the accuracy\n"
   ]
  },
  {
   "cell_type": "code",
   "execution_count": 5,
   "metadata": {},
   "outputs": [
    {
     "name": "stdout",
     "output_type": "stream",
     "text": [
      "Train on 52650 samples, validate on 5850 samples\n",
      "Epoch 1/40\n",
      "52480/52650 [============================>.] - ETA: 0s - loss: 0.7647 - acc: 0.5283Epoch 00001: val_loss improved from inf to 0.69048, saving model to models/model_cnn_1.h5\n",
      "52650/52650 [==============================] - 10s 181us/step - loss: 0.7646 - acc: 0.5284 - val_loss: 0.6905 - val_acc: 0.4774\n",
      "Epoch 2/40\n",
      "51968/52650 [============================>.] - ETA: 0s - loss: 0.6793 - acc: 0.5577Epoch 00002: val_loss did not improve\n",
      "52650/52650 [==============================] - 5s 103us/step - loss: 0.6791 - acc: 0.5590 - val_loss: 0.6940 - val_acc: 0.5082\n",
      "Epoch 3/40\n",
      "52224/52650 [============================>.] - ETA: 0s - loss: 0.6720 - acc: 0.5731Epoch 00003: val_loss did not improve\n",
      "52650/52650 [==============================] - 5s 102us/step - loss: 0.6719 - acc: 0.5739 - val_loss: 0.6951 - val_acc: 0.4044\n",
      "Epoch 4/40\n",
      "52224/52650 [============================>.] - ETA: 0s - loss: 0.6651 - acc: 0.5839Epoch 00004: val_loss improved from 0.69048 to 0.69042, saving model to models/model_cnn_1.h5\n",
      "52650/52650 [==============================] - 6s 107us/step - loss: 0.6653 - acc: 0.5837 - val_loss: 0.6904 - val_acc: 0.4995\n",
      "Epoch 5/40\n",
      "52224/52650 [============================>.] - ETA: 0s - loss: 0.6579 - acc: 0.5953Epoch 00005: val_loss did not improve\n",
      "52650/52650 [==============================] - 5s 104us/step - loss: 0.6584 - acc: 0.5955 - val_loss: 0.6946 - val_acc: 0.4376\n",
      "Epoch 6/40\n",
      "52224/52650 [============================>.] - ETA: 0s - loss: 0.6507 - acc: 0.6009Epoch 00006: val_loss did not improve\n",
      "52650/52650 [==============================] - 5s 103us/step - loss: 0.6508 - acc: 0.5997 - val_loss: 0.6996 - val_acc: 0.5434\n",
      "Epoch 7/40\n",
      "51968/52650 [============================>.] - ETA: 0s - loss: 0.6460 - acc: 0.6100Epoch 00007: val_loss did not improve\n",
      "52650/52650 [==============================] - 5s 104us/step - loss: 0.6465 - acc: 0.6085 - val_loss: 0.6974 - val_acc: 0.5328\n",
      "Epoch 8/40\n",
      "52224/52650 [============================>.] - ETA: 0s - loss: 0.6365 - acc: 0.6175Epoch 00008: val_loss did not improve\n",
      "52650/52650 [==============================] - 5s 104us/step - loss: 0.6364 - acc: 0.6175 - val_loss: 0.7210 - val_acc: 0.5650\n",
      "Epoch 9/40\n",
      "51968/52650 [============================>.] - ETA: 0s - loss: 0.6301 - acc: 0.6180Epoch 00009: val_loss did not improve\n",
      "52650/52650 [==============================] - 6s 105us/step - loss: 0.6303 - acc: 0.6176 - val_loss: 0.7045 - val_acc: 0.4561\n"
     ]
    },
    {
     "data": {
      "text/plain": [
       "<keras.callbacks.History at 0x7f1097dabe48>"
      ]
     },
     "execution_count": 5,
     "metadata": {},
     "output_type": "execute_result"
    }
   ],
   "source": [
    "from keras.callbacks import ModelCheckpoint, EarlyStopping\n",
    "checkpointer = ModelCheckpoint(filepath='models/model_cnn_1.h5', verbose=1, save_best_only=True)\n",
    "early_stopping = EarlyStopping(monitor='val_loss', patience=5)\n",
    "\n",
    "model.fit(\n",
    "    X_train, y_train, epochs=40, \n",
    "    batch_size=256, class_weight=class_weights, validation_split=0.10,\n",
    "    callbacks=[checkpointer, early_stopping]\n",
    ")"
   ]
  },
  {
   "cell_type": "markdown",
   "metadata": {},
   "source": [
    "Let's fix the first four layers."
   ]
  },
  {
   "cell_type": "code",
   "execution_count": 6,
   "metadata": {},
   "outputs": [
    {
     "data": {
      "text/plain": [
       "[(<keras.layers.convolutional.Conv2D at 0x7f1097da4978>, 'Trainable: False'),\n",
       " (<keras.layers.convolutional.Conv2D at 0x7f1097da4908>, 'Trainable: False'),\n",
       " (<keras.layers.core.Flatten at 0x7f1097da4be0>, 'Trainable: False'),\n",
       " (<keras.layers.core.Dropout at 0x7f1097dc2160>, 'Trainable: False'),\n",
       " (<keras.layers.core.Dense at 0x7f1097dce748>, 'Trainable: True'),\n",
       " (<keras.layers.core.Dense at 0x7f1097dced30>, 'Trainable: True')]"
      ]
     },
     "execution_count": 6,
     "metadata": {},
     "output_type": "execute_result"
    }
   ],
   "source": [
    "\n",
    "def fix_layers(model, fixed_layers):\n",
    "    for i in range(fixed_layers):\n",
    "        model.layers[i].trainable = False\n",
    "    \n",
    "    model.compile(loss='binary_crossentropy',\n",
    "              optimizer='rmsprop', \n",
    "              metrics=['accuracy'])\n",
    "    \n",
    "fix_layers(model, 4)    \n",
    "\n",
    "[(l, \"Trainable: {}\".format(l.trainable)) for l in model.layers]"
   ]
  },
  {
   "cell_type": "markdown",
   "metadata": {},
   "source": [
    "Now, the idea is to train each subject and fine tune the last layers."
   ]
  },
  {
   "cell_type": "code",
   "execution_count": 17,
   "metadata": {},
   "outputs": [],
   "source": [
    "%%capture output\n",
    "from keras import backend as K\n",
    "from keras.models import load_model\n",
    "from sklearn.metrics import (\n",
    "    precision_score, \n",
    "    recall_score, \n",
    "    roc_auc_score, \n",
    "    accuracy_score, \n",
    "    f1_score\n",
    ")\n",
    "from p300.preprocessing import normalize_subject, load_data, load_data_from_subject\n",
    "\n",
    "file = files[130]\n",
    "\n",
    "def get_fine_tune_results(model_path, file):\n",
    "    K.clear_session()\n",
    "    \n",
    "    model = load_model(model_path)\n",
    "    \n",
    "    fix_layers(model, 4)\n",
    "\n",
    "    X_sub, y_sub = load_data([file])\n",
    "\n",
    "    length = X_sub.shape[0] \n",
    "    limit = int(length / 2)\n",
    "    X_sub_train, X_sub_test = X_sub[:limit], X_sub[limit:]\n",
    "    y_sub_train, y_sub_test = y_sub[:limit], y_sub[limit:]\n",
    "    \n",
    "    model.fit(\n",
    "        X_sub_train, y_sub_train, epochs=20, \n",
    "        batch_size=64, class_weight=class_weights, validation_split=0.01,\n",
    "        callbacks=[early_stopping]\n",
    "    )\n",
    "    \n",
    "    y_pred = model.predict_classes(X_sub_test)\n",
    "    y_prob = model.predict(X_sub_test)\n",
    "\n",
    "    precision = precision_score(y_sub_test, y_pred)\n",
    "    recall = recall_score(y_sub_test, y_pred)\n",
    "    auc = roc_auc_score(y_sub_test, y_prob)\n",
    "    accuracy = accuracy_score(y_sub_test, y_pred)\n",
    "    f1 = f1_score(y_sub_test, y_pred)\n",
    "    \n",
    "    subject_name = file.split(\"/\")[-1].split(\".\")[0].split(\"_\")[-1]\n",
    "    K.clear_session()\n",
    "    return {\n",
    "        \"subject\": subject_name,\n",
    "        \"Accuracy\": accuracy,\n",
    "        \"Precision\": precision,\n",
    "        \"Recall\": recall,\n",
    "        \"F1\": f1\n",
    "    }, model\n",
    "    \n",
    "\n",
    "\n",
    "\n",
    "results, _ = get_fine_tune_results('models/model_cnn_1.h5', file)\n",
    "\n"
   ]
  },
  {
   "cell_type": "code",
   "execution_count": 18,
   "metadata": {},
   "outputs": [
    {
     "name": "stdout",
     "output_type": "stream",
     "text": [
      "Reading /home/jmperez/projects/corpora/P3Speller/P3Speller-old-y-datos/sets/PruebasMuseo_17436001.fdt\n",
      "Reading 0 ... 63231  =      0.000 ...   493.992 secs...\n",
      "Setting up low-pass filter at 20 Hz\n",
      "h_trans_bandwidth chosen to be 5.0 Hz\n",
      "Filter length of 169 samples (1.320 sec) selected\n",
      "1800 events found\n",
      "Events id: [1 2]\n",
      "1800 matching events found\n",
      "0 projection items activated\n",
      "Loading data for 1800 events and 104 original time points ...\n",
      "0 bad epochs dropped\n",
      "Train on 891 samples, validate on 9 samples\n",
      "Epoch 1/20\n",
      "891/891 [==============================] - 2s 2ms/step - loss: 0.6712 - acc: 0.6330 - val_loss: 0.6058 - val_acc: 1.0000\n",
      "Epoch 2/20\n",
      "891/891 [==============================] - 0s 142us/step - loss: 0.6099 - acc: 0.7048 - val_loss: 0.5807 - val_acc: 1.0000\n",
      "Epoch 3/20\n",
      "891/891 [==============================] - 0s 145us/step - loss: 0.5555 - acc: 0.7677 - val_loss: 0.5466 - val_acc: 1.0000\n",
      "Epoch 4/20\n",
      "891/891 [==============================] - 0s 148us/step - loss: 0.5240 - acc: 0.8013 - val_loss: 0.5242 - val_acc: 0.8889\n",
      "Epoch 5/20\n",
      "891/891 [==============================] - 0s 147us/step - loss: 0.4656 - acc: 0.8238 - val_loss: 0.5183 - val_acc: 1.0000\n",
      "Epoch 6/20\n",
      "891/891 [==============================] - 0s 147us/step - loss: 0.4252 - acc: 0.8597 - val_loss: 0.4844 - val_acc: 0.8889\n",
      "Epoch 7/20\n",
      "891/891 [==============================] - 0s 146us/step - loss: 0.3806 - acc: 0.8676 - val_loss: 0.5456 - val_acc: 0.8889\n",
      "Epoch 8/20\n",
      "891/891 [==============================] - 0s 145us/step - loss: 0.3367 - acc: 0.8923 - val_loss: 0.5654 - val_acc: 0.7778\n",
      "Epoch 9/20\n",
      "891/891 [==============================] - 0s 146us/step - loss: 0.2994 - acc: 0.8945 - val_loss: 0.5849 - val_acc: 0.7778\n",
      "Epoch 10/20\n",
      "891/891 [==============================] - 0s 170us/step - loss: 0.2545 - acc: 0.9203 - val_loss: 0.5397 - val_acc: 0.8889\n",
      "Epoch 11/20\n",
      "891/891 [==============================] - 0s 162us/step - loss: 0.2259 - acc: 0.9371 - val_loss: 0.6043 - val_acc: 0.7778\n",
      "\n"
     ]
    },
    {
     "data": {
      "text/plain": [
       "{'Accuracy': 0.7244444444444444,\n",
       " 'F1': 0.3333333333333333,\n",
       " 'Precision': 0.27927927927927926,\n",
       " 'Recall': 0.41333333333333333,\n",
       " 'subject': '17436001'}"
      ]
     },
     "execution_count": 18,
     "metadata": {},
     "output_type": "execute_result"
    }
   ],
   "source": [
    "print(output)\n",
    "\n",
    "results"
   ]
  }
 ],
 "metadata": {
  "kernelspec": {
   "display_name": "Python 3",
   "language": "python",
   "name": "python3"
  },
  "language_info": {
   "codemirror_mode": {
    "name": "ipython",
    "version": 3
   },
   "file_extension": ".py",
   "mimetype": "text/x-python",
   "name": "python",
   "nbconvert_exporter": "python",
   "pygments_lexer": "ipython3",
   "version": "3.6.5"
  }
 },
 "nbformat": 4,
 "nbformat_minor": 2
}
