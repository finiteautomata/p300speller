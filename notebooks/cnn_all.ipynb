{
 "cells": [
  {
   "cell_type": "markdown",
   "metadata": {},
   "source": [
    "# CNN for many subjects\n"
   ]
  },
  {
   "cell_type": "markdown",
   "metadata": {},
   "source": [
    "Primero:\n",
    "\n",
    "Cargamos los datos y los normalizamos. Para esto, primero pasamos un filtro pasa-bajo de 0 a 20hz, luego lo normalizamos a $N(0, 1)$"
   ]
  },
  {
   "cell_type": "code",
   "execution_count": 4,
   "metadata": {},
   "outputs": [
    {
     "name": "stdout",
     "output_type": "stream",
     "text": [
      "Using matplotlib backend: TkAgg\n",
      "Populating the interactive namespace from numpy and matplotlib\n",
      "GPU's disponibles = ['/job:localhost/replica:0/task:0/device:GPU:0', '/job:localhost/replica:0/task:0/device:GPU:1']\n"
     ]
    }
   ],
   "source": [
    "%pylab\n",
    "%matplotlib inline\n",
    "\n",
    "import glob\n",
    "import os\n",
    "import mne\n",
    "from keras import backend as K\n",
    "\n",
    "\n",
    "print(\"GPU's disponibles = {}\".format(K.tensorflow_backend._get_available_gpus()))\n",
    "\n",
    "CORPORA_PATH = \"/home/jmperez/projects/corpora/P3Speller/P3Speller-old-y-datos/sets\"\n",
    "\n",
    "file_path = os.path.expanduser(CORPORA_PATH)\n",
    "files = glob.glob(os.path.join(file_path, \"*.set\"))\n",
    "\n",
    "def normalize_subject(X):\n",
    "    mean = X.mean(axis=(0, 2)).reshape(-1, 1)\n",
    "    std = X.std(axis=(0, 2)).reshape(-1, 1)\n",
    "    return (X - mean) / std\n",
    "\n",
    "def load_data(filename, normalize=True):\n",
    "    data_mne = mne.io.read_raw_eeglab(filename, preload=True, event_id={\"0\": 1, \"1\": 2})\n",
    "    data_mne.filter(0, 20)\n",
    "    events = mne.find_events(data_mne)\n",
    "    epochs = mne.Epochs(\n",
    "        data_mne, events,\n",
    "        baseline=(None, 0), tmin=-0.1, tmax=0.7)\n",
    "\n",
    "    epochs.load_data()\n",
    "    \n",
    "    ch_names = epochs.ch_names\n",
    "    \n",
    "    X = epochs.get_data()[:, :-1]\n",
    "    y = (events[:, 2] == 2).astype('float')\n",
    "\n",
    "    if len(events) != len(epochs):\n",
    "        raise ValueError(\"Epochs events mismatch\")\n",
    "    if normalize: \n",
    "        X = normalize_subject(X)\n",
    "    \n",
    "    \n",
    "    return X, y \n"
   ]
  },
  {
   "cell_type": "code",
   "execution_count": 5,
   "metadata": {},
   "outputs": [
    {
     "name": "stdout",
     "output_type": "stream",
     "text": [
      "Usando gpu 0\n"
     ]
    }
   ],
   "source": [
    "gpu_to_use = 0\n",
    "\n",
    "os.environ[\"CUDA_VISIBLE_DEVICES\"]=str(gpu_to_use)\n",
    "\n",
    "print(\"Usando gpu {}\".format(gpu_to_use))"
   ]
  },
  {
   "cell_type": "markdown",
   "metadata": {},
   "source": [
    "Targets appear as 2 in the third column\n",
    "\n",
    "\n",
    "We remove last channel as well"
   ]
  },
  {
   "cell_type": "code",
   "execution_count": 14,
   "metadata": {},
   "outputs": [
    {
     "name": "stdout",
     "output_type": "stream",
     "text": [
      "['/home/jmperez/projects/corpora/P3Speller/P3Speller-old-y-datos/sets/PruebasMuseo_27030001.set', '/home/jmperez/projects/corpora/P3Speller/P3Speller-old-y-datos/sets/PruebasMuseo_26636001.set', '/home/jmperez/projects/corpora/P3Speller/P3Speller-old-y-datos/sets/PruebasMuseo_21011001.set', '/home/jmperez/projects/corpora/P3Speller/P3Speller-old-y-datos/sets/PruebasMuseo_13235001.set', '/home/jmperez/projects/corpora/P3Speller/P3Speller-old-y-datos/sets/PruebasMuseo_16003001.set', '/home/jmperez/projects/corpora/P3Speller/P3Speller-old-y-datos/sets/PruebasMuseo_19561001.set', '/home/jmperez/projects/corpora/P3Speller/P3Speller-old-y-datos/sets/PruebasMuseo_24227001.set', '/home/jmperez/projects/corpora/P3Speller/P3Speller-old-y-datos/sets/PruebasMuseo_1491001.set', '/home/jmperez/projects/corpora/P3Speller/P3Speller-old-y-datos/sets/PruebasMuseo_29789001.set', '/home/jmperez/projects/corpora/P3Speller/P3Speller-old-y-datos/sets/PruebasMuseo_27131001.set', '/home/jmperez/projects/corpora/P3Speller/P3Speller-old-y-datos/sets/PruebasMuseo_6694001.set', '/home/jmperez/projects/corpora/P3Speller/P3Speller-old-y-datos/sets/PruebasMuseo_13863001.set', '/home/jmperez/projects/corpora/P3Speller/P3Speller-old-y-datos/sets/PruebasMuseo_24053001.set', '/home/jmperez/projects/corpora/P3Speller/P3Speller-old-y-datos/sets/PruebasMuseo_17005001.set', '/home/jmperez/projects/corpora/P3Speller/P3Speller-old-y-datos/sets/PruebasMuseo_14998001.set', '/home/jmperez/projects/corpora/P3Speller/P3Speller-old-y-datos/sets/PruebasMuseo_5857001.set', '/home/jmperez/projects/corpora/P3Speller/P3Speller-old-y-datos/sets/PruebasMuseo_22072001.set', '/home/jmperez/projects/corpora/P3Speller/P3Speller-old-y-datos/sets/PruebasMuseo_25871001.set', '/home/jmperez/projects/corpora/P3Speller/P3Speller-old-y-datos/sets/PruebasMuseo_5510001.set', '/home/jmperez/projects/corpora/P3Speller/P3Speller-old-y-datos/sets/PruebasMuseo_6830001.set', '/home/jmperez/projects/corpora/P3Speller/P3Speller-old-y-datos/sets/PruebasMuseo_26721001.set', '/home/jmperez/projects/corpora/P3Speller/P3Speller-old-y-datos/sets/PruebasMuseo_24101001.set', '/home/jmperez/projects/corpora/P3Speller/P3Speller-old-y-datos/sets/PruebasMuseo_27157001.set', '/home/jmperez/projects/corpora/P3Speller/P3Speller-old-y-datos/sets/PruebasMuseo_358001.set', '/home/jmperez/projects/corpora/P3Speller/P3Speller-old-y-datos/sets/PruebasMuseo_12702001.set', '/home/jmperez/projects/corpora/P3Speller/P3Speller-old-y-datos/sets/PruebasMuseo_9689001.set', '/home/jmperez/projects/corpora/P3Speller/P3Speller-old-y-datos/sets/PruebasMuseo_18967001.set', '/home/jmperez/projects/corpora/P3Speller/P3Speller-old-y-datos/sets/PruebasMuseo_16683001.set', '/home/jmperez/projects/corpora/P3Speller/P3Speller-old-y-datos/sets/PruebasMuseo_11627001.set', '/home/jmperez/projects/corpora/P3Speller/P3Speller-old-y-datos/sets/PruebasMuseo_31056001.set', '/home/jmperez/projects/corpora/P3Speller/P3Speller-old-y-datos/sets/PruebasMuseo_28005001.set', '/home/jmperez/projects/corpora/P3Speller/P3Speller-old-y-datos/sets/PruebasMuseo_2089001.set', '/home/jmperez/projects/corpora/P3Speller/P3Speller-old-y-datos/sets/PruebasMuseo_27846001.set', '/home/jmperez/projects/corpora/P3Speller/P3Speller-old-y-datos/sets/PruebasMuseo_12521001.set', '/home/jmperez/projects/corpora/P3Speller/P3Speller-old-y-datos/sets/PruebasMuseo_19845001.set', '/home/jmperez/projects/corpora/P3Speller/P3Speller-old-y-datos/sets/PruebasMuseo_18077001.set', '/home/jmperez/projects/corpora/P3Speller/P3Speller-old-y-datos/sets/PruebasMuseo_20947001.set', '/home/jmperez/projects/corpora/P3Speller/P3Speller-old-y-datos/sets/PruebasMuseo_9503001.set', '/home/jmperez/projects/corpora/P3Speller/P3Speller-old-y-datos/sets/PruebasMuseo_7615001.set', '/home/jmperez/projects/corpora/P3Speller/P3Speller-old-y-datos/sets/PruebasMuseo_27058001.set', '/home/jmperez/projects/corpora/P3Speller/P3Speller-old-y-datos/sets/PruebasMuseo_3800001.set', '/home/jmperez/projects/corpora/P3Speller/P3Speller-old-y-datos/sets/PruebasMuseo_24888001.set', '/home/jmperez/projects/corpora/P3Speller/P3Speller-old-y-datos/sets/PruebasMuseo_8762001.set', '/home/jmperez/projects/corpora/P3Speller/P3Speller-old-y-datos/sets/PruebasMuseo_8982001.set', '/home/jmperez/projects/corpora/P3Speller/P3Speller-old-y-datos/sets/PruebasMuseo_15362001.set', '/home/jmperez/projects/corpora/P3Speller/P3Speller-old-y-datos/sets/PruebasMuseo_4949001.set', '/home/jmperez/projects/corpora/P3Speller/P3Speller-old-y-datos/sets/PruebasMuseo_16943001.set', '/home/jmperez/projects/corpora/P3Speller/P3Speller-old-y-datos/sets/PruebasMuseo_10444001.set', '/home/jmperez/projects/corpora/P3Speller/P3Speller-old-y-datos/sets/PruebasMuseo_29164001.set', '/home/jmperez/projects/corpora/P3Speller/P3Speller-old-y-datos/sets/PruebasMuseo_36001.set', '/home/jmperez/projects/corpora/P3Speller/P3Speller-old-y-datos/sets/PruebasMuseo_2109001.set', '/home/jmperez/projects/corpora/P3Speller/P3Speller-old-y-datos/sets/PruebasMuseo_23344001.set', '/home/jmperez/projects/corpora/P3Speller/P3Speller-old-y-datos/sets/PruebasMuseo_5224001.set', '/home/jmperez/projects/corpora/P3Speller/P3Speller-old-y-datos/sets/PruebasMuseo_26333001.set', '/home/jmperez/projects/corpora/P3Speller/P3Speller-old-y-datos/sets/PruebasMuseo_499001.set', '/home/jmperez/projects/corpora/P3Speller/P3Speller-old-y-datos/sets/PruebasMuseo_630001.set', '/home/jmperez/projects/corpora/P3Speller/P3Speller-old-y-datos/sets/PruebasMuseo_8834001.set', '/home/jmperez/projects/corpora/P3Speller/P3Speller-old-y-datos/sets/PruebasMuseo_7330001.set', '/home/jmperez/projects/corpora/P3Speller/P3Speller-old-y-datos/sets/PruebasMuseo_21668001.set', '/home/jmperez/projects/corpora/P3Speller/P3Speller-old-y-datos/sets/PruebasMuseo_31777001.set', '/home/jmperez/projects/corpora/P3Speller/P3Speller-old-y-datos/sets/PruebasMuseo_7488001.set', '/home/jmperez/projects/corpora/P3Speller/P3Speller-old-y-datos/sets/PruebasMuseo_11632001.set', '/home/jmperez/projects/corpora/P3Speller/P3Speller-old-y-datos/sets/PruebasMuseo_12168001.set', '/home/jmperez/projects/corpora/P3Speller/P3Speller-old-y-datos/sets/PruebasMuseo_10882001.set', '/home/jmperez/projects/corpora/P3Speller/P3Speller-old-y-datos/sets/PruebasMuseo_31102001.set', '/home/jmperez/projects/corpora/P3Speller/P3Speller-old-y-datos/sets/PruebasMuseo_30243001.set', '/home/jmperez/projects/corpora/P3Speller/P3Speller-old-y-datos/sets/PruebasMuseo_4971001.set', '/home/jmperez/projects/corpora/P3Speller/P3Speller-old-y-datos/sets/PruebasMuseo_3703001.set', '/home/jmperez/projects/corpora/P3Speller/P3Speller-old-y-datos/sets/PruebasMuseo_17674001.set', '/home/jmperez/projects/corpora/P3Speller/P3Speller-old-y-datos/sets/PruebasMuseo_27163001.set', '/home/jmperez/projects/corpora/P3Speller/P3Speller-old-y-datos/sets/PruebasMuseo_22233001.set', '/home/jmperez/projects/corpora/P3Speller/P3Speller-old-y-datos/sets/PruebasMuseo_5251001.set', '/home/jmperez/projects/corpora/P3Speller/P3Speller-old-y-datos/sets/PruebasMuseo_17576001.set', '/home/jmperez/projects/corpora/P3Speller/P3Speller-old-y-datos/sets/PruebasMuseo_18112001.set', '/home/jmperez/projects/corpora/P3Speller/P3Speller-old-y-datos/sets/PruebasMuseo_19491001.set', '/home/jmperez/projects/corpora/P3Speller/P3Speller-old-y-datos/sets/PruebasMuseo_4305001.set', '/home/jmperez/projects/corpora/P3Speller/P3Speller-old-y-datos/sets/PruebasMuseo_15641001.set', '/home/jmperez/projects/corpora/P3Speller/P3Speller-old-y-datos/sets/PruebasMuseo_1609001.set', '/home/jmperez/projects/corpora/P3Speller/P3Speller-old-y-datos/sets/PruebasMuseo_25217001.set', '/home/jmperez/projects/corpora/P3Speller/P3Speller-old-y-datos/sets/PruebasMuseo_945001.set', '/home/jmperez/projects/corpora/P3Speller/P3Speller-old-y-datos/sets/PruebasMuseo_3195001.set', '/home/jmperez/projects/corpora/P3Speller/P3Speller-old-y-datos/sets/PruebasMuseo_15424001.set', '/home/jmperez/projects/corpora/P3Speller/P3Speller-old-y-datos/sets/PruebasMuseo_1414001.set', '/home/jmperez/projects/corpora/P3Speller/P3Speller-old-y-datos/sets/PruebasMuseo_28970001.set', '/home/jmperez/projects/corpora/P3Speller/P3Speller-old-y-datos/sets/PruebasMuseo_12137001.set', '/home/jmperez/projects/corpora/P3Speller/P3Speller-old-y-datos/sets/PruebasMuseo_782001.set', '/home/jmperez/projects/corpora/P3Speller/P3Speller-old-y-datos/sets/PruebasMuseo_23298001.set', '/home/jmperez/projects/corpora/P3Speller/P3Speller-old-y-datos/sets/PruebasMuseo_18306001.set', '/home/jmperez/projects/corpora/P3Speller/P3Speller-old-y-datos/sets/PruebasMuseo_17435001.set', '/home/jmperez/projects/corpora/P3Speller/P3Speller-old-y-datos/sets/PruebasMuseo_3109001.set', '/home/jmperez/projects/corpora/P3Speller/P3Speller-old-y-datos/sets/PruebasMuseo_29273001.set', '/home/jmperez/projects/corpora/P3Speller/P3Speller-old-y-datos/sets/PruebasMuseo_7610001.set', '/home/jmperez/projects/corpora/P3Speller/P3Speller-old-y-datos/sets/PruebasMuseo_32505001.set', '/home/jmperez/projects/corpora/P3Speller/P3Speller-old-y-datos/sets/PruebasMuseo_232001.set', '/home/jmperez/projects/corpora/P3Speller/P3Speller-old-y-datos/sets/PruebasMuseo_255001.set', '/home/jmperez/projects/corpora/P3Speller/P3Speller-old-y-datos/sets/PruebasMuseo_11551001.set', '/home/jmperez/projects/corpora/P3Speller/P3Speller-old-y-datos/sets/PruebasMuseo_18046001.set', '/home/jmperez/projects/corpora/P3Speller/P3Speller-old-y-datos/sets/PruebasMuseo_13431001.set', '/home/jmperez/projects/corpora/P3Speller/P3Speller-old-y-datos/sets/PruebasMuseo_27496001.set', '/home/jmperez/projects/corpora/P3Speller/P3Speller-old-y-datos/sets/PruebasMuseo_17962001.set', '/home/jmperez/projects/corpora/P3Speller/P3Speller-old-y-datos/sets/PruebasMuseo_10924001.set', '/home/jmperez/projects/corpora/P3Speller/P3Speller-old-y-datos/sets/PruebasMuseo_27408001.set', '/home/jmperez/projects/corpora/P3Speller/P3Speller-old-y-datos/sets/PruebasMuseo_22650001.set', '/home/jmperez/projects/corpora/P3Speller/P3Speller-old-y-datos/sets/PruebasMuseo_11693001.set', '/home/jmperez/projects/corpora/P3Speller/P3Speller-old-y-datos/sets/PruebasMuseo_26715001.set', '/home/jmperez/projects/corpora/P3Speller/P3Speller-old-y-datos/sets/PruebasMuseo_22109001.set', '/home/jmperez/projects/corpora/P3Speller/P3Speller-old-y-datos/sets/PruebasMuseo_31397001.set', '/home/jmperez/projects/corpora/P3Speller/P3Speller-old-y-datos/sets/PruebasMuseo_20668001.set', '/home/jmperez/projects/corpora/P3Speller/P3Speller-old-y-datos/sets/PruebasMuseo_29426001.set', '/home/jmperez/projects/corpora/P3Speller/P3Speller-old-y-datos/sets/PruebasMuseo_29257001.set', '/home/jmperez/projects/corpora/P3Speller/P3Speller-old-y-datos/sets/PruebasMuseo_10229001.set', '/home/jmperez/projects/corpora/P3Speller/P3Speller-old-y-datos/sets/PruebasMuseo_4824001.set', '/home/jmperez/projects/corpora/P3Speller/P3Speller-old-y-datos/sets/PruebasMuseo_23794001.set', '/home/jmperez/projects/corpora/P3Speller/P3Speller-old-y-datos/sets/PruebasMuseo_23272001.set', '/home/jmperez/projects/corpora/P3Speller/P3Speller-old-y-datos/sets/PruebasMuseo_30261001.set', '/home/jmperez/projects/corpora/P3Speller/P3Speller-old-y-datos/sets/PruebasMuseo_16893001.set', '/home/jmperez/projects/corpora/P3Speller/P3Speller-old-y-datos/sets/PruebasMuseo_12900001.set', '/home/jmperez/projects/corpora/P3Speller/P3Speller-old-y-datos/sets/PruebasMuseo_14023001.set', '/home/jmperez/projects/corpora/P3Speller/P3Speller-old-y-datos/sets/PruebasMuseo_2215001.set', '/home/jmperez/projects/corpora/P3Speller/P3Speller-old-y-datos/sets/PruebasMuseo_21601001.set', '/home/jmperez/projects/corpora/P3Speller/P3Speller-old-y-datos/sets/PruebasMuseo_2681001.set', '/home/jmperez/projects/corpora/P3Speller/P3Speller-old-y-datos/sets/PruebasMuseo_18531001.set', '/home/jmperez/projects/corpora/P3Speller/P3Speller-old-y-datos/sets/PruebasMuseo_16637001.set', '/home/jmperez/projects/corpora/P3Speller/P3Speller-old-y-datos/sets/PruebasMuseo_32459001.set', '/home/jmperez/projects/corpora/P3Speller/P3Speller-old-y-datos/sets/PruebasMuseo_21120001.set', '/home/jmperez/projects/corpora/P3Speller/P3Speller-old-y-datos/sets/PruebasMuseo_1635001.set', '/home/jmperez/projects/corpora/P3Speller/P3Speller-old-y-datos/sets/PruebasMuseo_29063004.set', '/home/jmperez/projects/corpora/P3Speller/P3Speller-old-y-datos/sets/PruebasMuseo_3942001.set', '/home/jmperez/projects/corpora/P3Speller/P3Speller-old-y-datos/sets/PruebasMuseo_10729001.set', '/home/jmperez/projects/corpora/P3Speller/P3Speller-old-y-datos/sets/PruebasMuseo_27946001.set', '/home/jmperez/projects/corpora/P3Speller/P3Speller-old-y-datos/sets/PruebasMuseo_17436001.set', '/home/jmperez/projects/corpora/P3Speller/P3Speller-old-y-datos/sets/PruebasMuseo_20688001.set', '/home/jmperez/projects/corpora/P3Speller/P3Speller-old-y-datos/sets/PruebasMuseo_5568001.set', '/home/jmperez/projects/corpora/P3Speller/P3Speller-old-y-datos/sets/PruebasMuseo_23732001.set', '/home/jmperez/projects/corpora/P3Speller/P3Speller-old-y-datos/sets/PruebasMuseo_25302001.set', '/home/jmperez/projects/corpora/P3Speller/P3Speller-old-y-datos/sets/PruebasMuseo_13252001.set', '/home/jmperez/projects/corpora/P3Speller/P3Speller-old-y-datos/sets/PruebasMuseo_13640002.set', '/home/jmperez/projects/corpora/P3Speller/P3Speller-old-y-datos/sets/PruebasMuseo_24540001.set', '/home/jmperez/projects/corpora/P3Speller/P3Speller-old-y-datos/sets/PruebasMuseo_16266001.set', '/home/jmperez/projects/corpora/P3Speller/P3Speller-old-y-datos/sets/PruebasMuseo_9809001.set', '/home/jmperez/projects/corpora/P3Speller/P3Speller-old-y-datos/sets/PruebasMuseo_28301001.set', '/home/jmperez/projects/corpora/P3Speller/P3Speller-old-y-datos/sets/PruebasMuseo_25922001.set', '/home/jmperez/projects/corpora/P3Speller/P3Speller-old-y-datos/sets/PruebasMuseo_16779001.set', '/home/jmperez/projects/corpora/P3Speller/P3Speller-old-y-datos/sets/PruebasMuseo_22337001.set', '/home/jmperez/projects/corpora/P3Speller/P3Speller-old-y-datos/sets/PruebasMuseo_7385001.set']\n",
      "Reading /home/jmperez/projects/corpora/P3Speller/P3Speller-old-y-datos/sets/PruebasMuseo_27030001.fdt\n"
     ]
    },
    {
     "name": "stdout",
     "output_type": "stream",
     "text": [
      "Reading 0 ... 69503  =      0.000 ...   542.992 secs...\n",
      "Setting up low-pass filter at 20 Hz\n",
      "h_trans_bandwidth chosen to be 5.0 Hz\n",
      "Filter length of 169 samples (1.320 sec) selected\n",
      "1980 events found\n",
      "Events id: [1 2]\n",
      "1980 matching events found\n",
      "0 projection items activated\n",
      "Loading data for 1980 events and 104 original time points ...\n",
      "0 bad epochs dropped\n",
      "Reading /home/jmperez/projects/corpora/P3Speller/P3Speller-old-y-datos/sets/PruebasMuseo_26636001.fdt\n",
      "Reading 0 ... 69503  =      0.000 ...   542.992 secs...\n",
      "Setting up low-pass filter at 20 Hz\n",
      "h_trans_bandwidth chosen to be 5.0 Hz\n",
      "Filter length of 169 samples (1.320 sec) selected\n",
      "1980 events found\n",
      "Events id: [1 2]\n",
      "1980 matching events found\n",
      "0 projection items activated\n",
      "Loading data for 1980 events and 104 original time points ...\n",
      "0 bad epochs dropped\n",
      "(1980, 14, 104) (1980, 14, 104)\n",
      "(1980,) (1980,)\n",
      "Reading /home/jmperez/projects/corpora/P3Speller/P3Speller-old-y-datos/sets/PruebasMuseo_21011001.fdt\n",
      "Reading 0 ... 67495  =      0.000 ...   527.305 secs...\n",
      "Setting up low-pass filter at 20 Hz\n",
      "h_trans_bandwidth chosen to be 5.0 Hz\n",
      "Filter length of 169 samples (1.320 sec) selected\n",
      "1930 events found\n",
      "Events id: [1 2]\n",
      "1930 matching events found\n",
      "0 projection items activated\n",
      "Loading data for 1930 events and 104 original time points ...\n",
      "3 bad epochs dropped\n",
      "Epochs events mismatch\n",
      "Reading /home/jmperez/projects/corpora/P3Speller/P3Speller-old-y-datos/sets/PruebasMuseo_13235001.fdt\n",
      "Reading 0 ... 63231  =      0.000 ...   493.992 secs...\n",
      "Setting up low-pass filter at 20 Hz\n",
      "h_trans_bandwidth chosen to be 5.0 Hz\n",
      "Filter length of 169 samples (1.320 sec) selected\n",
      "1800 events found\n",
      "Events id: [1 2]\n",
      "1800 matching events found\n",
      "0 projection items activated\n",
      "Loading data for 1800 events and 104 original time points ...\n",
      "0 bad epochs dropped\n",
      "(3960, 14, 104) (1800, 14, 104)\n",
      "(3960, 1) (1800,)\n",
      "Reading /home/jmperez/projects/corpora/P3Speller/P3Speller-old-y-datos/sets/PruebasMuseo_16003001.fdt\n",
      "Reading 0 ... 94591  =      0.000 ...   738.992 secs...\n",
      "Setting up low-pass filter at 20 Hz\n",
      "h_trans_bandwidth chosen to be 5.0 Hz\n",
      "Filter length of 169 samples (1.320 sec) selected\n",
      "2700 events found\n",
      "Events id: [1 2]\n",
      "2700 matching events found\n",
      "0 projection items activated\n",
      "Loading data for 2700 events and 104 original time points ...\n",
      "0 bad epochs dropped\n",
      "(5760, 14, 104) (2700, 14, 104)\n",
      "(5760, 1) (2700,)\n",
      "Reading /home/jmperez/projects/corpora/P3Speller/P3Speller-old-y-datos/sets/PruebasMuseo_19561001.fdt\n",
      "Reading 0 ... 88319  =      0.000 ...   689.992 secs...\n",
      "Setting up low-pass filter at 20 Hz\n",
      "h_trans_bandwidth chosen to be 5.0 Hz\n",
      "Filter length of 169 samples (1.320 sec) selected\n",
      "2520 events found\n",
      "Events id: [1 2]\n",
      "2520 matching events found\n",
      "0 projection items activated\n",
      "Loading data for 2520 events and 104 original time points ...\n",
      "0 bad epochs dropped\n",
      "(8460, 14, 104) (2520, 14, 104)\n",
      "(8460, 1) (2520,)\n",
      "Reading /home/jmperez/projects/corpora/P3Speller/P3Speller-old-y-datos/sets/PruebasMuseo_24227001.fdt\n",
      "Reading 0 ... 94591  =      0.000 ...   738.992 secs...\n",
      "Setting up low-pass filter at 20 Hz\n",
      "h_trans_bandwidth chosen to be 5.0 Hz\n",
      "Filter length of 169 samples (1.320 sec) selected\n",
      "2700 events found\n",
      "Events id: [1 2]\n",
      "2700 matching events found\n",
      "0 projection items activated\n",
      "Loading data for 2700 events and 104 original time points ...\n",
      "0 bad epochs dropped\n",
      "(10980, 14, 104) (2700, 14, 104)\n",
      "(10980, 1) (2700,)\n",
      "Reading /home/jmperez/projects/corpora/P3Speller/P3Speller-old-y-datos/sets/PruebasMuseo_1491001.fdt\n",
      "Reading 0 ... 69503  =      0.000 ...   542.992 secs...\n",
      "Setting up low-pass filter at 20 Hz\n",
      "h_trans_bandwidth chosen to be 5.0 Hz\n",
      "Filter length of 169 samples (1.320 sec) selected\n",
      "1980 events found\n",
      "Events id: [1 2]\n",
      "1980 matching events found\n",
      "0 projection items activated\n",
      "Loading data for 1980 events and 104 original time points ...\n",
      "0 bad epochs dropped\n",
      "(13680, 14, 104) (1980, 14, 104)\n",
      "(13680, 1) (1980,)\n",
      "Reading /home/jmperez/projects/corpora/P3Speller/P3Speller-old-y-datos/sets/PruebasMuseo_29789001.fdt\n",
      "Reading 0 ... 31911  =      0.000 ...   249.305 secs...\n",
      "Setting up low-pass filter at 20 Hz\n",
      "h_trans_bandwidth chosen to be 5.0 Hz\n",
      "Filter length of 169 samples (1.320 sec) selected\n",
      "900 events found\n",
      "Events id: [1 2]\n",
      "900 matching events found\n",
      "0 projection items activated\n",
      "Loading data for 900 events and 104 original time points ...\n",
      "0 bad epochs dropped\n",
      "(15660, 14, 104) (900, 14, 104)\n",
      "(15660, 1) (900,)\n",
      "Reading /home/jmperez/projects/corpora/P3Speller/P3Speller-old-y-datos/sets/PruebasMuseo_27131001.fdt\n",
      "Reading 0 ... 63231  =      0.000 ...   493.992 secs...\n",
      "Setting up low-pass filter at 20 Hz\n",
      "h_trans_bandwidth chosen to be 5.0 Hz\n",
      "Filter length of 169 samples (1.320 sec) selected\n",
      "1800 events found\n",
      "Events id: [1 2]\n",
      "1800 matching events found\n",
      "0 projection items activated\n",
      "Loading data for 1800 events and 104 original time points ...\n",
      "0 bad epochs dropped\n",
      "(16560, 14, 104) (1800, 14, 104)\n",
      "(16560, 1) (1800,)\n",
      "Reading /home/jmperez/projects/corpora/P3Speller/P3Speller-old-y-datos/sets/PruebasMuseo_6694001.fdt\n",
      "Reading 0 ... 69503  =      0.000 ...   542.992 secs...\n",
      "Setting up low-pass filter at 20 Hz\n",
      "h_trans_bandwidth chosen to be 5.0 Hz\n",
      "Filter length of 169 samples (1.320 sec) selected\n",
      "1980 events found\n",
      "Events id: [1 2]\n",
      "1980 matching events found\n",
      "0 projection items activated\n",
      "Loading data for 1980 events and 104 original time points ...\n",
      "0 bad epochs dropped\n",
      "(18360, 14, 104) (1980, 14, 104)\n",
      "(18360, 1) (1980,)\n",
      "Reading /home/jmperez/projects/corpora/P3Speller/P3Speller-old-y-datos/sets/PruebasMuseo_13863001.fdt\n",
      "Reading 0 ... 94591  =      0.000 ...   738.992 secs...\n",
      "Setting up low-pass filter at 20 Hz\n",
      "h_trans_bandwidth chosen to be 5.0 Hz\n",
      "Filter length of 169 samples (1.320 sec) selected\n",
      "2700 events found\n",
      "Events id: [1 2]\n",
      "2700 matching events found\n",
      "0 projection items activated\n",
      "Loading data for 2700 events and 104 original time points ...\n",
      "0 bad epochs dropped\n",
      "(20340, 14, 104) (2700, 14, 104)\n",
      "(20340, 1) (2700,)\n",
      "Reading /home/jmperez/projects/corpora/P3Speller/P3Speller-old-y-datos/sets/PruebasMuseo_24053001.fdt\n",
      "Reading 0 ... 69503  =      0.000 ...   542.992 secs...\n",
      "Setting up low-pass filter at 20 Hz\n",
      "h_trans_bandwidth chosen to be 5.0 Hz\n",
      "Filter length of 169 samples (1.320 sec) selected\n",
      "1980 events found\n",
      "Events id: [1 2]\n",
      "1980 matching events found\n",
      "0 projection items activated\n",
      "Loading data for 1980 events and 104 original time points ...\n",
      "0 bad epochs dropped\n",
      "(23040, 14, 104) (1980, 14, 104)\n",
      "(23040, 1) (1980,)\n",
      "Reading /home/jmperez/projects/corpora/P3Speller/P3Speller-old-y-datos/sets/PruebasMuseo_17005001.fdt\n",
      "Reading 0 ... 69503  =      0.000 ...   542.992 secs...\n",
      "Setting up low-pass filter at 20 Hz\n",
      "h_trans_bandwidth chosen to be 5.0 Hz\n",
      "Filter length of 169 samples (1.320 sec) selected\n",
      "1980 events found\n",
      "Events id: [1 2]\n",
      "1980 matching events found\n",
      "0 projection items activated\n",
      "Loading data for 1980 events and 104 original time points ...\n",
      "0 bad epochs dropped\n",
      "(25020, 14, 104) (1980, 14, 104)\n",
      "(25020, 1) (1980,)\n",
      "Reading /home/jmperez/projects/corpora/P3Speller/P3Speller-old-y-datos/sets/PruebasMuseo_14998001.fdt\n",
      "Reading 0 ... 69503  =      0.000 ...   542.992 secs...\n",
      "Setting up low-pass filter at 20 Hz\n",
      "h_trans_bandwidth chosen to be 5.0 Hz\n",
      "Filter length of 169 samples (1.320 sec) selected\n",
      "1980 events found\n",
      "Events id: [1 2]\n",
      "1980 matching events found\n",
      "0 projection items activated\n",
      "Loading data for 1980 events and 104 original time points ...\n",
      "0 bad epochs dropped\n",
      "(27000, 14, 104) (1980, 14, 104)\n",
      "(27000, 1) (1980,)\n",
      "Reading /home/jmperez/projects/corpora/P3Speller/P3Speller-old-y-datos/sets/PruebasMuseo_5857001.fdt\n",
      "Reading 0 ... 69503  =      0.000 ...   542.992 secs...\n",
      "Setting up low-pass filter at 20 Hz\n",
      "h_trans_bandwidth chosen to be 5.0 Hz\n",
      "Filter length of 169 samples (1.320 sec) selected\n",
      "1980 events found\n",
      "Events id: [1 2]\n",
      "1980 matching events found\n",
      "0 projection items activated\n",
      "Loading data for 1980 events and 104 original time points ...\n",
      "0 bad epochs dropped\n",
      "(28980, 14, 104) (1980, 14, 104)\n",
      "(28980, 1) (1980,)\n",
      "Reading /home/jmperez/projects/corpora/P3Speller/P3Speller-old-y-datos/sets/PruebasMuseo_22072001.fdt\n",
      "Reading 0 ... 88319  =      0.000 ...   689.992 secs...\n",
      "Setting up low-pass filter at 20 Hz\n",
      "h_trans_bandwidth chosen to be 5.0 Hz\n",
      "Filter length of 169 samples (1.320 sec) selected\n"
     ]
    },
    {
     "name": "stdout",
     "output_type": "stream",
     "text": [
      "2520 events found\n",
      "Events id: [1 2]\n",
      "2520 matching events found\n",
      "0 projection items activated\n",
      "Loading data for 2520 events and 104 original time points ...\n",
      "0 bad epochs dropped\n",
      "(30960, 14, 104) (2520, 14, 104)\n",
      "(30960, 1) (2520,)\n",
      "Reading /home/jmperez/projects/corpora/P3Speller/P3Speller-old-y-datos/sets/PruebasMuseo_25871001.fdt\n",
      "Reading 0 ... 63231  =      0.000 ...   493.992 secs...\n",
      "Setting up low-pass filter at 20 Hz\n",
      "h_trans_bandwidth chosen to be 5.0 Hz\n",
      "Filter length of 169 samples (1.320 sec) selected\n",
      "1800 events found\n",
      "Events id: [1 2]\n",
      "1800 matching events found\n",
      "0 projection items activated\n",
      "Loading data for 1800 events and 104 original time points ...\n",
      "0 bad epochs dropped\n",
      "(33480, 14, 104) (1800, 14, 104)\n",
      "(33480, 1) (1800,)\n",
      "Reading /home/jmperez/projects/corpora/P3Speller/P3Speller-old-y-datos/sets/PruebasMuseo_5510001.fdt\n",
      "Reading 0 ... 69503  =      0.000 ...   542.992 secs...\n",
      "Setting up low-pass filter at 20 Hz\n",
      "h_trans_bandwidth chosen to be 5.0 Hz\n",
      "Filter length of 169 samples (1.320 sec) selected\n",
      "1980 events found\n",
      "Events id: [1 2]\n",
      "1980 matching events found\n",
      "0 projection items activated\n",
      "Loading data for 1980 events and 104 original time points ...\n",
      "0 bad epochs dropped\n",
      "(35280, 14, 104) (1980, 14, 104)\n",
      "(35280, 1) (1980,)\n",
      "Reading /home/jmperez/projects/corpora/P3Speller/P3Speller-old-y-datos/sets/PruebasMuseo_6830001.fdt\n",
      "Reading 0 ... 69503  =      0.000 ...   542.992 secs...\n",
      "Setting up low-pass filter at 20 Hz\n",
      "h_trans_bandwidth chosen to be 5.0 Hz\n",
      "Filter length of 169 samples (1.320 sec) selected\n",
      "1980 events found\n",
      "Events id: [1 2]\n",
      "1980 matching events found\n",
      "0 projection items activated\n",
      "Loading data for 1980 events and 104 original time points ...\n",
      "0 bad epochs dropped\n",
      "(37260, 14, 104) (1980, 14, 104)\n",
      "(37260, 1) (1980,)\n",
      "Reading /home/jmperez/projects/corpora/P3Speller/P3Speller-old-y-datos/sets/PruebasMuseo_26721001.fdt\n",
      "Reading 0 ... 94591  =      0.000 ...   738.992 secs...\n",
      "Setting up low-pass filter at 20 Hz\n",
      "h_trans_bandwidth chosen to be 5.0 Hz\n",
      "Filter length of 169 samples (1.320 sec) selected\n",
      "2700 events found\n",
      "Events id: [1 2]\n",
      "2700 matching events found\n",
      "0 projection items activated\n",
      "Loading data for 2700 events and 104 original time points ...\n",
      "0 bad epochs dropped\n",
      "(39240, 14, 104) (2700, 14, 104)\n",
      "(39240, 1) (2700,)\n",
      "Reading /home/jmperez/projects/corpora/P3Speller/P3Speller-old-y-datos/sets/PruebasMuseo_24101001.fdt\n",
      "Reading 0 ... 69503  =      0.000 ...   542.992 secs...\n",
      "Setting up low-pass filter at 20 Hz\n",
      "h_trans_bandwidth chosen to be 5.0 Hz\n",
      "Filter length of 169 samples (1.320 sec) selected\n",
      "1980 events found\n",
      "Events id: [1 2]\n",
      "1980 matching events found\n",
      "0 projection items activated\n",
      "Loading data for 1980 events and 104 original time points ...\n",
      "0 bad epochs dropped\n",
      "(41940, 14, 104) (1980, 14, 104)\n",
      "(41940, 1) (1980,)\n",
      "Reading /home/jmperez/projects/corpora/P3Speller/P3Speller-old-y-datos/sets/PruebasMuseo_27157001.fdt\n",
      "Reading 0 ... 63231  =      0.000 ...   493.992 secs...\n",
      "Setting up low-pass filter at 20 Hz\n",
      "h_trans_bandwidth chosen to be 5.0 Hz\n",
      "Filter length of 169 samples (1.320 sec) selected\n",
      "1800 events found\n",
      "Events id: [1 2]\n",
      "1800 matching events found\n",
      "0 projection items activated\n",
      "Loading data for 1800 events and 104 original time points ...\n",
      "0 bad epochs dropped\n",
      "(43920, 14, 104) (1800, 14, 104)\n",
      "(43920, 1) (1800,)\n",
      "Reading /home/jmperez/projects/corpora/P3Speller/P3Speller-old-y-datos/sets/PruebasMuseo_358001.fdt\n",
      "Reading 0 ... 63231  =      0.000 ...   493.992 secs...\n",
      "Setting up low-pass filter at 20 Hz\n",
      "h_trans_bandwidth chosen to be 5.0 Hz\n",
      "Filter length of 169 samples (1.320 sec) selected\n",
      "1800 events found\n",
      "Events id: [1 2]\n",
      "1800 matching events found\n",
      "0 projection items activated\n",
      "Loading data for 1800 events and 104 original time points ...\n",
      "0 bad epochs dropped\n",
      "(45720, 14, 104) (1800, 14, 104)\n",
      "(45720, 1) (1800,)\n",
      "Reading /home/jmperez/projects/corpora/P3Speller/P3Speller-old-y-datos/sets/PruebasMuseo_12702001.fdt\n",
      "Reading 0 ... 63231  =      0.000 ...   493.992 secs...\n",
      "Setting up low-pass filter at 20 Hz\n",
      "h_trans_bandwidth chosen to be 5.0 Hz\n",
      "Filter length of 169 samples (1.320 sec) selected\n",
      "1800 events found\n",
      "Events id: [1 2]\n",
      "1800 matching events found\n",
      "0 projection items activated\n",
      "Loading data for 1800 events and 104 original time points ...\n",
      "0 bad epochs dropped\n",
      "(47520, 14, 104) (1800, 14, 104)\n",
      "(47520, 1) (1800,)\n",
      "Reading /home/jmperez/projects/corpora/P3Speller/P3Speller-old-y-datos/sets/PruebasMuseo_9689001.fdt\n",
      "Reading 0 ... 63231  =      0.000 ...   493.992 secs...\n",
      "Setting up low-pass filter at 20 Hz\n",
      "h_trans_bandwidth chosen to be 5.0 Hz\n",
      "Filter length of 169 samples (1.320 sec) selected\n",
      "1800 events found\n",
      "Events id: [1 2]\n",
      "1800 matching events found\n",
      "0 projection items activated\n",
      "Loading data for 1800 events and 104 original time points ...\n",
      "0 bad epochs dropped\n",
      "(49320, 14, 104) (1800, 14, 104)\n",
      "(49320, 1) (1800,)\n",
      "Reading /home/jmperez/projects/corpora/P3Speller/P3Speller-old-y-datos/sets/PruebasMuseo_18967001.fdt\n",
      "Reading 0 ... 31871  =      0.000 ...   248.992 secs...\n",
      "Setting up low-pass filter at 20 Hz\n",
      "h_trans_bandwidth chosen to be 5.0 Hz\n",
      "Filter length of 169 samples (1.320 sec) selected\n",
      "900 events found\n",
      "Events id: [1 2]\n",
      "900 matching events found\n",
      "0 projection items activated\n",
      "Loading data for 900 events and 104 original time points ...\n",
      "0 bad epochs dropped\n",
      "(51120, 14, 104) (900, 14, 104)\n",
      "(51120, 1) (900,)\n",
      "Reading /home/jmperez/projects/corpora/P3Speller/P3Speller-old-y-datos/sets/PruebasMuseo_16683001.fdt\n",
      "Reading 0 ... 69503  =      0.000 ...   542.992 secs...\n",
      "Setting up low-pass filter at 20 Hz\n",
      "h_trans_bandwidth chosen to be 5.0 Hz\n",
      "Filter length of 169 samples (1.320 sec) selected\n",
      "1980 events found\n",
      "Events id: [1 2]\n",
      "1980 matching events found\n",
      "0 projection items activated\n",
      "Loading data for 1980 events and 104 original time points ...\n",
      "0 bad epochs dropped\n",
      "(52020, 14, 104) (1980, 14, 104)\n",
      "(52020, 1) (1980,)\n",
      "Reading /home/jmperez/projects/corpora/P3Speller/P3Speller-old-y-datos/sets/PruebasMuseo_11627001.fdt\n",
      "Reading 0 ... 63231  =      0.000 ...   493.992 secs...\n",
      "Setting up low-pass filter at 20 Hz\n",
      "h_trans_bandwidth chosen to be 5.0 Hz\n",
      "Filter length of 169 samples (1.320 sec) selected\n",
      "1800 events found\n",
      "Events id: [1 2]\n",
      "1800 matching events found\n",
      "0 projection items activated\n",
      "Loading data for 1800 events and 104 original time points ...\n",
      "0 bad epochs dropped\n",
      "(54000, 14, 104) (1800, 14, 104)\n",
      "(54000, 1) (1800,)\n",
      "Reading /home/jmperez/projects/corpora/P3Speller/P3Speller-old-y-datos/sets/PruebasMuseo_31056001.fdt\n",
      "Reading 0 ... 94591  =      0.000 ...   738.992 secs...\n",
      "Setting up low-pass filter at 20 Hz\n",
      "h_trans_bandwidth chosen to be 5.0 Hz\n",
      "Filter length of 169 samples (1.320 sec) selected\n",
      "2700 events found\n",
      "Events id: [1 2]\n",
      "2700 matching events found\n",
      "0 projection items activated\n",
      "Loading data for 2700 events and 104 original time points ...\n",
      "0 bad epochs dropped\n",
      "(55800, 14, 104) (2700, 14, 104)\n",
      "(55800, 1) (2700,)\n"
     ]
    }
   ],
   "source": [
    "from IPython.core.debugger import set_trace as bp\n",
    "\n",
    "filenames = files\n",
    "\n",
    "\n",
    "X = None\n",
    "y = None\n",
    "print(filenames)\n",
    "for filename in filenames[:30]:\n",
    "    try:\n",
    "        X_subject, y_subject = load_data(filename)\n",
    "\n",
    "        if X is None:\n",
    "            X, y = X_subject, y_subject\n",
    "        else:\n",
    "            print(X.shape, X_subject.shape)\n",
    "            X = np.vstack((X, X_subject))\n",
    "            print(y.shape, y_subject.shape)\n",
    "            y = np.vstack((y.reshape(-1,1), y_subject.reshape(-1,1)))\n",
    "    except ValueError as e:\n",
    "        print(e)"
   ]
  },
  {
   "cell_type": "code",
   "execution_count": 15,
   "metadata": {},
   "outputs": [
    {
     "data": {
      "text/plain": [
       "(58500, 14, 104)"
      ]
     },
     "execution_count": 15,
     "metadata": {},
     "output_type": "execute_result"
    }
   ],
   "source": [
    "X.shape"
   ]
  },
  {
   "cell_type": "code",
   "execution_count": 16,
   "metadata": {},
   "outputs": [
    {
     "data": {
      "text/plain": [
       "(58500, 14, 104, 1)"
      ]
     },
     "execution_count": 16,
     "metadata": {},
     "output_type": "execute_result"
    }
   ],
   "source": [
    "X_t = X[:, :, :, np.newaxis]\n",
    "\n",
    "X_t.shape"
   ]
  },
  {
   "cell_type": "code",
   "execution_count": 17,
   "metadata": {},
   "outputs": [
    {
     "data": {
      "text/plain": [
       "0.16666666666666666"
      ]
     },
     "execution_count": 17,
     "metadata": {},
     "output_type": "execute_result"
    }
   ],
   "source": [
    " sum(y) / len(y)"
   ]
  },
  {
   "cell_type": "code",
   "execution_count": 18,
   "metadata": {},
   "outputs": [
    {
     "data": {
      "text/plain": [
       "((52650, 14, 104, 1), (52650, 1))"
      ]
     },
     "execution_count": 18,
     "metadata": {},
     "output_type": "execute_result"
    }
   ],
   "source": [
    "from sklearn.model_selection import train_test_split\n",
    "\n",
    "X_train, X_test, y_train, y_test= train_test_split(X_t, y, test_size=0.1, stratify=y)\n",
    "\n",
    "X_train.shape, y_train.shape\n",
    "\n"
   ]
  },
  {
   "cell_type": "code",
   "execution_count": 26,
   "metadata": {
    "collapsed": true
   },
   "outputs": [],
   "source": [
    "from keras.models import Sequential\n",
    "from keras.layers import Conv1D, Conv2D, Flatten, Dense, Dropout\n",
    "\n",
    "model = Sequential()\n",
    "\n",
    "n_kernels = 12\n",
    "model.add(Conv2D(n_kernels, (14, 1), padding='same', \n",
    "                activation='sigmoid', input_shape=(14, 104, 1)))\n",
    "model.add(Conv2D(5*n_kernels, (1, 13), padding='same',\n",
    "                activation='sigmoid'))\n",
    "model.add(Flatten())\n",
    "model.add(Dropout(0.35))\n",
    "model.add(Dense(256, activation='sigmoid'))\n",
    "model.add(Dense(1, activation='sigmoid'))\n",
    "\n",
    "model.compile(loss='binary_crossentropy', # using the cross-entropy loss function\n",
    "              optimizer='rmsprop', \n",
    "              metrics=['accuracy']) # reporting the accuracy\n"
   ]
  },
  {
   "cell_type": "code",
   "execution_count": 27,
   "metadata": {},
   "outputs": [
    {
     "name": "stdout",
     "output_type": "stream",
     "text": [
      "Train on 52123 samples, validate on 527 samples\n",
      "Epoch 1/10\n",
      "51968/52123 [============================>.] - ETA: 0s - loss: 2.2428 - acc: 0.4433Epoch 00001: val_loss improved from inf to 1.30246, saving model to model.h5\n",
      "52123/52123 [==============================] - 7s 132us/step - loss: 2.2398 - acc: 0.4424 - val_loss: 1.3025 - val_acc: 0.1803\n",
      "Epoch 2/10\n",
      "51968/52123 [============================>.] - ETA: 0s - loss: 1.2655 - acc: 0.1988Epoch 00002: val_loss improved from 1.30246 to 1.30059, saving model to model.h5\n",
      "52123/52123 [==============================] - 6s 119us/step - loss: 1.2658 - acc: 0.1988 - val_loss: 1.3006 - val_acc: 0.1803\n",
      "Epoch 3/10\n",
      "51968/52123 [============================>.] - ETA: 0s - loss: 1.2644 - acc: 0.1926Epoch 00003: val_loss did not improve\n",
      "52123/52123 [==============================] - 6s 116us/step - loss: 1.2653 - acc: 0.1929 - val_loss: 1.3064 - val_acc: 0.1803\n",
      "Epoch 4/10\n",
      "51968/52123 [============================>.] - ETA: 0s - loss: 1.2655 - acc: 0.1962Epoch 00004: val_loss did not improve\n",
      "52123/52123 [==============================] - 6s 115us/step - loss: 1.2655 - acc: 0.1961 - val_loss: 1.3006 - val_acc: 0.1803\n",
      "Epoch 5/10\n",
      "51968/52123 [============================>.] - ETA: 0s - loss: 1.2654 - acc: 0.1981Epoch 00005: val_loss did not improve\n",
      "52123/52123 [==============================] - 6s 115us/step - loss: 1.2652 - acc: 0.1980 - val_loss: 1.3110 - val_acc: 0.1803\n"
     ]
    },
    {
     "data": {
      "text/plain": [
       "<keras.callbacks.History at 0x7f17d0cb77b8>"
      ]
     },
     "execution_count": 27,
     "metadata": {},
     "output_type": "execute_result"
    }
   ],
   "source": [
    "from keras.callbacks import ModelCheckpoint, EarlyStopping\n",
    "checkpointer = ModelCheckpoint(filepath='model.h5', verbose=1, save_best_only=True)\n",
    "early_stopping = EarlyStopping(monitor='val_loss', patience=3)\n",
    "\n",
    "model.fit(\n",
    "    X_train, y_train, epochs=10, \n",
    "    batch_size=256, class_weight={0:1, 1:6}, validation_split=0.01,\n",
    "    callbacks=[checkpointer, early_stopping]\n",
    ")"
   ]
  },
  {
   "cell_type": "code",
   "execution_count": 22,
   "metadata": {},
   "outputs": [
    {
     "name": "stdout",
     "output_type": "stream",
     "text": [
      "\n",
      "Accuracy   = 0.5974358974358974\n",
      "Precision  = 0.21951219512195122\n",
      "Recall     = 0.5538461538461539\n",
      "ROC AUC    = 0.6111644444444445\n",
      "\n"
     ]
    }
   ],
   "source": [
    "y_pred = model.predict_classes(X_test)\n",
    "y_prob = model.predict(X_test)\n",
    "\n",
    "\n",
    "from sklearn.metrics import precision_score, recall_score, roc_auc_score, accuracy_score\n",
    "\n",
    "precision = precision_score(y_test, y_pred)\n",
    "recall = recall_score(y_test, y_pred)\n",
    "auc = roc_auc_score(y_test, y_prob)\n",
    "accuracy = accuracy_score(y_test, y_pred)\n",
    "\n",
    "print(\"\"\"\n",
    "Accuracy   = {}\n",
    "Precision  = {}\n",
    "Recall     = {}\n",
    "ROC AUC    = {}\n",
    "\"\"\".format(accuracy, precision, recall, auc))"
   ]
  },
  {
   "cell_type": "code",
   "execution_count": null,
   "metadata": {
    "collapsed": true
   },
   "outputs": [],
   "source": [
    "model.save(\"model.2.h5\")"
   ]
  },
  {
   "cell_type": "code",
   "execution_count": null,
   "metadata": {
    "collapsed": true
   },
   "outputs": [],
   "source": [
    "from keras.models import load_model\n",
    "\n",
    "model_2 = load_model(\"model.h5\")\n",
    "\n",
    "y_pred = model_2.predict_classes(X_test)\n",
    "y_prob = model_2.predict(X_test)\n",
    "\n",
    "\n",
    "from sklearn.metrics import precision_score, recall_score, roc_auc_score, accuracy_score\n",
    "\n",
    "precision = precision_score(y_test, y_pred)\n",
    "recall = recall_score(y_test, y_pred)\n",
    "auc = roc_auc_score(y_test, y_prob)\n",
    "accuracy = accuracy_score(y_test, y_pred)\n",
    "\n",
    "print(\"\"\"\n",
    "Accuracy   = {}\n",
    "Precision  = {}\n",
    "Recall     = {}\n",
    "ROC AUC    = {}\n",
    "\"\"\".format(accuracy, precision, recall, auc))"
   ]
  },
  {
   "cell_type": "code",
   "execution_count": null,
   "metadata": {
    "collapsed": true
   },
   "outputs": [],
   "source": [
    "from keras.models import Sequential\n",
    "from keras.layers import Conv1D, Conv2D, Flatten, Dense, Dropout, MaxPool2D\n",
    "\n",
    "model = Sequential()\n",
    "\n",
    "n_kernels = 10\n",
    "model.add(Conv2D(n_kernels, (14, 1), padding='same', \n",
    "                activation='relu', input_shape=(14, 104, 1)))\n",
    "model.add(Conv2D(5*n_kernels, (1, 13), padding='same',\n",
    "                activation='relu'))\n",
    "model.add(MaxPool2D((1, 4)))\n",
    "model.add(Flatten())\n",
    "model.add(Dropout(0.35))\n",
    "model.add(Dense(128, activation='relu'))\n",
    "model.add(Dense(1, activation='sigmoid'))\n",
    "\n",
    "model.compile(loss='binary_crossentropy', # using the cross-entropy loss function\n",
    "              optimizer='rmsprop', \n",
    "              metrics=['accuracy']) # reporting the accuracy"
   ]
  },
  {
   "cell_type": "code",
   "execution_count": null,
   "metadata": {
    "collapsed": true
   },
   "outputs": [],
   "source": [
    "from keras.callbacks import ModelCheckpoint, EarlyStopping\n",
    "checkpointer = ModelCheckpoint(filepath='model.with_maxpool.h5', verbose=1, save_best_only=True)\n",
    "early_stopping = EarlyStopping(monitor='val_loss', patience=3)\n",
    "\n",
    "model.fit(\n",
    "    X_train, y_train, epochs=30, \n",
    "    batch_size=256, class_weight={0:1, 1:6}, validation_split=0.01,\n",
    "    callbacks=[checkpointer, early_stopping]\n",
    ")"
   ]
  },
  {
   "cell_type": "code",
   "execution_count": null,
   "metadata": {
    "collapsed": true
   },
   "outputs": [],
   "source": [
    "from keras.models import load_model\n",
    "\n",
    "\n",
    "y_pred = model.predict_classes(X_test)\n",
    "y_prob = model.predict(X_test)\n",
    "\n",
    "\n",
    "from sklearn.metrics import precision_score, recall_score, roc_auc_score, accuracy_score\n",
    "\n",
    "precision = precision_score(y_test, y_pred)\n",
    "recall = recall_score(y_test, y_pred)\n",
    "auc = roc_auc_score(y_test, y_prob)\n",
    "accuracy = accuracy_score(y_test, y_pred)\n",
    "\n",
    "print(\"\"\"\n",
    "Accuracy   = {}\n",
    "Precision  = {}\n",
    "Recall     = {}\n",
    "ROC AUC    = {}\n",
    "\"\"\".format(accuracy, precision, recall, auc))"
   ]
  },
  {
   "cell_type": "markdown",
   "metadata": {},
   "source": [
    "## Model with two layers"
   ]
  },
  {
   "cell_type": "code",
   "execution_count": 23,
   "metadata": {
    "collapsed": true
   },
   "outputs": [],
   "source": [
    "from keras.models import Sequential\n",
    "from keras.layers import Conv1D, Conv2D, Flatten, Dense, Dropout, MaxPool2D\n",
    "\n",
    "model = Sequential()\n",
    "\n",
    "n_kernels = 10\n",
    "model.add(Conv2D(2*n_kernels, (14, 1), padding='same', \n",
    "                activation='relu', input_shape=(14, 104, 1)))\n",
    "model.add(Conv2D(5*n_kernels, (1, 13), padding='same',\n",
    "                activation='relu'))\n",
    "model.add(MaxPool2D((1, 4)))\n",
    "model.add(Conv2D(n_kernels, (14, 1), padding='same', \n",
    "                activation='relu', input_shape=(14, 104, 1)))\n",
    "model.add(Conv2D(2*n_kernels, (1, 13), padding='same',\n",
    "                activation='relu'))\n",
    "model.add(MaxPool2D((1, 4)))\n",
    "\n",
    "model.add(Flatten())\n",
    "model.add(Dropout(0.35))\n",
    "model.add(Dense(256, activation='relu'))\n",
    "model.add(Dense(1, activation='sigmoid'))\n",
    "\n",
    "model.compile(loss='binary_crossentropy', # using the cross-entropy loss function\n",
    "              optimizer='rmsprop', \n",
    "              metrics=['accuracy']) # reporting the accuracy"
   ]
  },
  {
   "cell_type": "code",
   "execution_count": 24,
   "metadata": {},
   "outputs": [
    {
     "name": "stdout",
     "output_type": "stream",
     "text": [
      "Train on 52123 samples, validate on 527 samples\n",
      "Epoch 1/30\n",
      "51712/52123 [============================>.] - ETA: 0s - loss: 1.2567 - acc: 0.2697Epoch 00001: val_loss improved from inf to 1.24586, saving model to model.2conv_with_maxpool.h5\n",
      "52123/52123 [==============================] - 5s 95us/step - loss: 1.2564 - acc: 0.2712 - val_loss: 1.2459 - val_acc: 0.3871\n",
      "Epoch 2/30\n",
      "51712/52123 [============================>.] - ETA: 0s - loss: 1.2407 - acc: 0.3842Epoch 00002: val_loss improved from 1.24586 to 1.24166, saving model to model.2conv_with_maxpool.h5\n",
      "52123/52123 [==============================] - 4s 79us/step - loss: 1.2400 - acc: 0.3843 - val_loss: 1.2417 - val_acc: 0.4573\n",
      "Epoch 3/30\n",
      "51712/52123 [============================>.] - ETA: 0s - loss: 1.2285 - acc: 0.4453Epoch 00003: val_loss improved from 1.24166 to 1.22759, saving model to model.2conv_with_maxpool.h5\n",
      "52123/52123 [==============================] - 4s 80us/step - loss: 1.2282 - acc: 0.4461 - val_loss: 1.2276 - val_acc: 0.5427\n",
      "Epoch 4/30\n",
      "51712/52123 [============================>.] - ETA: 0s - loss: 1.2188 - acc: 0.4749Epoch 00004: val_loss improved from 1.22759 to 1.21570, saving model to model.2conv_with_maxpool.h5\n",
      "52123/52123 [==============================] - 4s 80us/step - loss: 1.2184 - acc: 0.4752 - val_loss: 1.2157 - val_acc: 0.5655\n",
      "Epoch 5/30\n",
      "51712/52123 [============================>.] - ETA: 0s - loss: 1.2146 - acc: 0.4867Epoch 00005: val_loss did not improve\n",
      "52123/52123 [==============================] - 4s 79us/step - loss: 1.2145 - acc: 0.4868 - val_loss: 1.2358 - val_acc: 0.5769\n",
      "Epoch 6/30\n",
      "51712/52123 [============================>.] - ETA: 0s - loss: 1.2063 - acc: 0.5034Epoch 00006: val_loss did not improve\n",
      "52123/52123 [==============================] - 4s 78us/step - loss: 1.2059 - acc: 0.5036 - val_loss: 1.2186 - val_acc: 0.5958\n",
      "Epoch 7/30\n",
      "51712/52123 [============================>.] - ETA: 0s - loss: 1.2006 - acc: 0.5120Epoch 00007: val_loss improved from 1.21570 to 1.20388, saving model to model.2conv_with_maxpool.h5\n",
      "52123/52123 [==============================] - 4s 79us/step - loss: 1.2012 - acc: 0.5120 - val_loss: 1.2039 - val_acc: 0.4554\n",
      "Epoch 8/30\n",
      "51712/52123 [============================>.] - ETA: 0s - loss: 1.1921 - acc: 0.5257Epoch 00008: val_loss did not improve\n",
      "52123/52123 [==============================] - 4s 80us/step - loss: 1.1921 - acc: 0.5261 - val_loss: 1.2378 - val_acc: 0.5598\n",
      "Epoch 9/30\n",
      "51712/52123 [============================>.] - ETA: 0s - loss: 1.1875 - acc: 0.5373Epoch 00009: val_loss did not improve\n",
      "52123/52123 [==============================] - 4s 79us/step - loss: 1.1870 - acc: 0.5380 - val_loss: 1.2167 - val_acc: 0.5522\n",
      "Epoch 10/30\n",
      "51712/52123 [============================>.] - ETA: 0s - loss: 1.1790 - acc: 0.5407Epoch 00010: val_loss did not improve\n",
      "52123/52123 [==============================] - 4s 80us/step - loss: 1.1791 - acc: 0.5409 - val_loss: 1.2187 - val_acc: 0.5066\n"
     ]
    },
    {
     "data": {
      "text/plain": [
       "<keras.callbacks.History at 0x7f17d87f0978>"
      ]
     },
     "execution_count": 24,
     "metadata": {},
     "output_type": "execute_result"
    }
   ],
   "source": [
    "from keras.callbacks import ModelCheckpoint, EarlyStopping\n",
    "checkpointer = ModelCheckpoint(filepath='model.2conv_with_maxpool.h5', verbose=1, save_best_only=True)\n",
    "early_stopping = EarlyStopping(monitor='val_loss', patience=3)\n",
    "\n",
    "model.fit(\n",
    "    X_train, y_train, epochs=30, \n",
    "    batch_size=256, class_weight={0:1, 1:6}, validation_split=0.01,\n",
    "    callbacks=[checkpointer, early_stopping]\n",
    ")"
   ]
  },
  {
   "cell_type": "code",
   "execution_count": 25,
   "metadata": {},
   "outputs": [
    {
     "name": "stdout",
     "output_type": "stream",
     "text": [
      "\n",
      "Accuracy   = 0.5034188034188034\n",
      "Precision  = 0.2088111044055522\n",
      "Recall     = 0.7097435897435898\n",
      "ROC AUC    = 0.6256837343852728\n",
      "\n"
     ]
    }
   ],
   "source": [
    "from keras.models import load_model\n",
    "\n",
    "\n",
    "y_pred = model.predict_classes(X_test)\n",
    "y_prob = model.predict(X_test)\n",
    "\n",
    "\n",
    "from sklearn.metrics import precision_score, recall_score, roc_auc_score, accuracy_score\n",
    "\n",
    "precision = precision_score(y_test, y_pred)\n",
    "recall = recall_score(y_test, y_pred)\n",
    "auc = roc_auc_score(y_test, y_prob)\n",
    "accuracy = accuracy_score(y_test, y_pred)\n",
    "\n",
    "print(\"\"\"\n",
    "Accuracy   = {}\n",
    "Precision  = {}\n",
    "Recall     = {}\n",
    "ROC AUC    = {}\n",
    "\"\"\".format(accuracy, precision, recall, auc))"
   ]
  },
  {
   "cell_type": "markdown",
   "metadata": {},
   "source": [
    "## Conv with two layers but one simple"
   ]
  },
  {
   "cell_type": "code",
   "execution_count": null,
   "metadata": {
    "collapsed": true
   },
   "outputs": [],
   "source": [
    "from keras.models import Sequential\n",
    "from keras.layers import Conv1D, Conv2D, Flatten, Dense, Dropout, MaxPool2D\n",
    "\n",
    "model = Sequential()\n",
    "\n",
    "n_kernels = 10\n",
    "model.add(Conv2D(2*n_kernels, (14, 1), padding='same', \n",
    "                activation='relu', input_shape=(14, 104, 1)))\n",
    "model.add(Conv2D(5*n_kernels, (1, 13), padding='same',\n",
    "                activation='relu'))\n",
    "model.add(MaxPool2D((1, 4)))\n",
    "model.add(Conv2D(n_kernels, (14, 5), padding='same', \n",
    "                activation='relu', input_shape=(14, 104, 1)))\n",
    "model.add(Flatten())\n",
    "model.add(Dropout(0.35))\n",
    "model.add(Dense(256, activation='relu'))\n",
    "model.add(Dense(1, activation='sigmoid'))\n",
    "\n",
    "model.compile(loss='binary_crossentropy', # using the cross-entropy loss function\n",
    "              optimizer='rmsprop', \n",
    "              metrics=['accuracy']) # reporting the accuracy"
   ]
  },
  {
   "cell_type": "code",
   "execution_count": null,
   "metadata": {
    "collapsed": true
   },
   "outputs": [],
   "source": [
    "from keras.callbacks import ModelCheckpoint, EarlyStopping\n",
    "checkpointer = ModelCheckpoint(filepath='model.2conv_with_maxpool.h5', verbose=1, save_best_only=True)\n",
    "early_stopping = EarlyStopping(monitor='val_loss', patience=3)\n",
    "\n",
    "model.fit(\n",
    "    X_train, y_train, epochs=30, \n",
    "    batch_size=256, class_weight={0:1, 1:6}, validation_split=0.01,\n",
    "    callbacks=[checkpointer, early_stopping]\n",
    ")"
   ]
  },
  {
   "cell_type": "code",
   "execution_count": null,
   "metadata": {
    "collapsed": true
   },
   "outputs": [],
   "source": [
    "from keras.models import load_model\n",
    "\n",
    "\n",
    "y_pred = model.predict_classes(X_test)\n",
    "y_prob = model.predict(X_test)\n",
    "\n",
    "\n",
    "from sklearn.metrics import precision_score, recall_score, roc_auc_score, accuracy_score\n",
    "\n",
    "precision = precision_score(y_test, y_pred)\n",
    "recall = recall_score(y_test, y_pred)\n",
    "auc = roc_auc_score(y_test, y_prob)\n",
    "accuracy = accuracy_score(y_test, y_pred)\n",
    "\n",
    "print(\"\"\"\n",
    "Accuracy   = {}\n",
    "Precision  = {}\n",
    "Recall     = {}\n",
    "ROC AUC    = {}\n",
    "\"\"\".format(accuracy, precision, recall, auc))"
   ]
  }
 ],
 "metadata": {
  "kernelspec": {
   "display_name": "Python 3",
   "language": "python",
   "name": "python3"
  },
  "language_info": {
   "codemirror_mode": {
    "name": "ipython",
    "version": 3
   },
   "file_extension": ".py",
   "mimetype": "text/x-python",
   "name": "python",
   "nbconvert_exporter": "python",
   "pygments_lexer": "ipython3",
   "version": "3.6.5"
  }
 },
 "nbformat": 4,
 "nbformat_minor": 2
}
