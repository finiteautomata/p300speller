{
 "cells": [
  {
   "cell_type": "markdown",
   "metadata": {},
   "source": [
    "# Feature Extraction\n",
    "\n",
    "In this notebook, we will extract some features from the EEG signals"
   ]
  },
  {
   "cell_type": "code",
   "execution_count": 1,
   "metadata": {},
   "outputs": [],
   "source": [
    "import os\n",
    "os.chdir(\"..\")"
   ]
  },
  {
   "cell_type": "code",
   "execution_count": 2,
   "metadata": {},
   "outputs": [],
   "source": [
    "%matplotlib inline\n",
    "\n",
    "import pandas as pd\n",
    "import numpy as np\n",
    "import seaborn\n",
    "import matplotlib.pyplot as plt\n",
    "\n",
    "df = pd.read_csv(\"output/output.csv\")\n",
    "\n"
   ]
  },
  {
   "cell_type": "code",
   "execution_count": 32,
   "metadata": {},
   "outputs": [],
   "source": [
    "index = 12\n",
    "\n",
    "instance = df.iloc[index]"
   ]
  },
  {
   "cell_type": "code",
   "execution_count": 33,
   "metadata": {},
   "outputs": [
    {
     "data": {
      "text/plain": [
       "(15, 104)"
      ]
     },
     "execution_count": 33,
     "metadata": {},
     "output_type": "execute_result"
    }
   ],
   "source": [
    "\n",
    "arr = np.load(instance.array_path)\n",
    "arr.shape"
   ]
  },
  {
   "cell_type": "code",
   "execution_count": 34,
   "metadata": {},
   "outputs": [
    {
     "data": {
      "text/plain": [
       "104"
      ]
     },
     "execution_count": 34,
     "metadata": {},
     "output_type": "execute_result"
    }
   ],
   "source": [
    "t = np.arange(-0.11, 0.7, 1.0/128.0)\n",
    "\n",
    "len(t)"
   ]
  },
  {
   "cell_type": "code",
   "execution_count": 35,
   "metadata": {},
   "outputs": [
    {
     "data": {
      "text/plain": [
       "[<matplotlib.lines.Line2D at 0x7f8af9da17b8>]"
      ]
     },
     "execution_count": 35,
     "metadata": {},
     "output_type": "execute_result"
    },
    {
     "data": {
      "image/png": "[encoded data removed]",
      "text/plain": [
       "<matplotlib.figure.Figure at 0x7f8afa5454e0>"
      ]
     },
     "metadata": {},
     "output_type": "display_data"
    }
   ],
   "source": [
    "plt.plot(t, arr[14, :])\n"
   ]
  },
  {
   "cell_type": "code",
   "execution_count": 37,
   "metadata": {},
   "outputs": [],
   "source": [
    "from scipy import signal"
   ]
  },
  {
   "cell_type": "code",
   "execution_count": 40,
   "metadata": {},
   "outputs": [
    {
     "name": "stdout",
     "output_type": "stream",
     "text": [
      "Help on function welch in module scipy.signal.spectral:\n",
      "\n",
      "welch(x, fs=1.0, window='hann', nperseg=None, noverlap=None, nfft=None, detrend='constant', return_onesided=True, scaling='density', axis=-1)\n",
      "    Estimate power spectral density using Welch's method.\n",
      "    \n",
      "    Welch's method [1]_ computes an estimate of the power spectral\n",
      "    density by dividing the data into overlapping segments, computing a\n",
      "    modified periodogram for each segment and averaging the\n",
      "    periodograms.\n",
      "    \n",
      "    Parameters\n",
      "    ----------\n",
      "    x : array_like\n",
      "        Time series of measurement values\n",
      "    fs : float, optional\n",
      "        Sampling frequency of the `x` time series. Defaults to 1.0.\n",
      "    window : str or tuple or array_like, optional\n",
      "        Desired window to use. See `get_window` for a list of windows\n",
      "        and required parameters. If `window` is array_like it will be\n",
      "        used directly as the window and its length must be nperseg.\n",
      "        Defaults to a Hann window.\n",
      "    nperseg : int, optional\n",
      "        Length of each segment. Defaults to None, but if window is str or\n",
      "        tuple, is set to 256, and if window is array_like, is set to the\n",
      "        length of the window.\n",
      "    noverlap : int, optional\n",
      "        Number of points to overlap between segments. If `None`,\n",
      "        ``noverlap = nperseg // 2``. Defaults to `None`.\n",
      "    nfft : int, optional\n",
      "        Length of the FFT used, if a zero padded FFT is desired. If\n",
      "        `None`, the FFT length is `nperseg`. Defaults to `None`.\n",
      "    detrend : str or function or `False`, optional\n",
      "        Specifies how to detrend each segment. If `detrend` is a\n",
      "        string, it is passed as the `type` argument to the `detrend`\n",
      "        function. If it is a function, it takes a segment and returns a\n",
      "        detrended segment. If `detrend` is `False`, no detrending is\n",
      "        done. Defaults to 'constant'.\n",
      "    return_onesided : bool, optional\n",
      "        If `True`, return a one-sided spectrum for real data. If\n",
      "        `False` return a two-sided spectrum. Note that for complex\n",
      "        data, a two-sided spectrum is always returned.\n",
      "    scaling : { 'density', 'spectrum' }, optional\n",
      "        Selects between computing the power spectral density ('density')\n",
      "        where `Pxx` has units of V**2/Hz and computing the power\n",
      "        spectrum ('spectrum') where `Pxx` has units of V**2, if `x`\n",
      "        is measured in V and `fs` is measured in Hz. Defaults to\n",
      "        'density'\n",
      "    axis : int, optional\n",
      "        Axis along which the periodogram is computed; the default is\n",
      "        over the last axis (i.e. ``axis=-1``).\n",
      "    \n",
      "    Returns\n",
      "    -------\n",
      "    f : ndarray\n",
      "        Array of sample frequencies.\n",
      "    Pxx : ndarray\n",
      "        Power spectral density or power spectrum of x.\n",
      "    \n",
      "    See Also\n",
      "    --------\n",
      "    periodogram: Simple, optionally modified periodogram\n",
      "    lombscargle: Lomb-Scargle periodogram for unevenly sampled data\n",
      "    \n",
      "    Notes\n",
      "    -----\n",
      "    An appropriate amount of overlap will depend on the choice of window\n",
      "    and on your requirements. For the default 'hann' window an overlap\n",
      "    of 50% is a reasonable trade off between accurately estimating the\n",
      "    signal power, while not over counting any of the data. Narrower\n",
      "    windows may require a larger overlap.\n",
      "    \n",
      "    If `noverlap` is 0, this method is equivalent to Bartlett's method\n",
      "    [2]_.\n",
      "    \n",
      "    .. versionadded:: 0.12.0\n",
      "    \n",
      "    References\n",
      "    ----------\n",
      "    .. [1] P. Welch, \"The use of the fast Fourier transform for the\n",
      "           estimation of power spectra: A method based on time averaging\n",
      "           over short, modified periodograms\", IEEE Trans. Audio\n",
      "           Electroacoust. vol. 15, pp. 70-73, 1967.\n",
      "    .. [2] M.S. Bartlett, \"Periodogram Analysis and Continuous Spectra\",\n",
      "           Biometrika, vol. 37, pp. 1-16, 1950.\n",
      "    \n",
      "    Examples\n",
      "    --------\n",
      "    >>> from scipy import signal\n",
      "    >>> import matplotlib.pyplot as plt\n",
      "    >>> np.random.seed(1234)\n",
      "    \n",
      "    Generate a test signal, a 2 Vrms sine wave at 1234 Hz, corrupted by\n",
      "    0.001 V**2/Hz of white noise sampled at 10 kHz.\n",
      "    \n",
      "    >>> fs = 10e3\n",
      "    >>> N = 1e5\n",
      "    >>> amp = 2*np.sqrt(2)\n",
      "    >>> freq = 1234.0\n",
      "    >>> noise_power = 0.001 * fs / 2\n",
      "    >>> time = np.arange(N) / fs\n",
      "    >>> x = amp*np.sin(2*np.pi*freq*time)\n",
      "    >>> x += np.random.normal(scale=np.sqrt(noise_power), size=time.shape)\n",
      "    \n",
      "    Compute and plot the power spectral density.\n",
      "    \n",
      "    >>> f, Pxx_den = signal.welch(x, fs, nperseg=1024)\n",
      "    >>> plt.semilogy(f, Pxx_den)\n",
      "    >>> plt.ylim([0.5e-3, 1])\n",
      "    >>> plt.xlabel('frequency [Hz]')\n",
      "    >>> plt.ylabel('PSD [V**2/Hz]')\n",
      "    >>> plt.show()\n",
      "    \n",
      "    If we average the last half of the spectral density, to exclude the\n",
      "    peak, we can recover the noise power on the signal.\n",
      "    \n",
      "    >>> np.mean(Pxx_den[256:])\n",
      "    0.0009924865443739191\n",
      "    \n",
      "    Now compute and plot the power spectrum.\n",
      "    \n",
      "    >>> f, Pxx_spec = signal.welch(x, fs, 'flattop', 1024, scaling='spectrum')\n",
      "    >>> plt.figure()\n",
      "    >>> plt.semilogy(f, np.sqrt(Pxx_spec))\n",
      "    >>> plt.xlabel('frequency [Hz]')\n",
      "    >>> plt.ylabel('Linear spectrum [V RMS]')\n",
      "    >>> plt.show()\n",
      "    \n",
      "    The peak height in the power spectrum is an estimate of the RMS\n",
      "    amplitude.\n",
      "    \n",
      "    >>> np.sqrt(Pxx_spec.max())\n",
      "    2.0077340678640727\n",
      "\n"
     ]
    }
   ],
   "source": [
    "help(signal.welch)"
   ]
  },
  {
   "cell_type": "code",
   "execution_count": 41,
   "metadata": {},
   "outputs": [
    {
     "data": {
      "text/plain": [
       "(array([  0.  ,   1.28,   2.56,   3.84,   5.12,   6.4 ,   7.68,   8.96,\n",
       "         10.24,  11.52,  12.8 ,  14.08,  15.36,  16.64,  17.92,  19.2 ,\n",
       "         20.48,  21.76,  23.04,  24.32,  25.6 ,  26.88,  28.16,  29.44,\n",
       "         30.72,  32.  ,  33.28,  34.56,  35.84,  37.12,  38.4 ,  39.68,\n",
       "         40.96,  42.24,  43.52,  44.8 ,  46.08,  47.36,  48.64,  49.92,\n",
       "         51.2 ,  52.48,  53.76,  55.04,  56.32,  57.6 ,  58.88,  60.16,\n",
       "         61.44,  62.72,  64.  ]),\n",
       " array([  6.90918709e-13,   1.84073799e-11,   9.68984393e-12,\n",
       "          8.28621627e-12,   1.29787993e-11,   5.89343178e-12,\n",
       "          8.39146100e-13,   1.70792408e-12,   1.44527671e-12,\n",
       "          5.48190586e-13,   4.70121334e-12,   7.37374366e-12,\n",
       "          1.25886380e-12,   3.80554108e-13,   3.81917692e-12,\n",
       "          6.05141153e-12,   6.08712713e-13,   6.52938971e-13,\n",
       "          1.35186382e-13,   1.51407165e-14,   5.91661733e-15,\n",
       "          4.34600869e-18,   1.34246176e-18,   7.87810486e-19,\n",
       "          5.16180689e-19,   3.64474196e-19,   2.61371568e-19,\n",
       "          1.92966000e-19,   1.44339104e-19,   1.10958112e-19,\n",
       "          8.47639393e-20,   6.62808223e-20,   5.21136081e-20,\n",
       "          4.05284596e-20,   3.22059966e-20,   2.59439690e-20,\n",
       "          2.00834758e-20,   1.61139388e-20,   1.26948199e-20,\n",
       "          9.94181043e-21,   7.75784654e-21,   5.94037182e-21,\n",
       "          4.51674391e-21,   3.37952370e-21,   2.41714609e-21,\n",
       "          1.69224341e-21,   1.12460131e-21,   7.02955224e-22,\n",
       "          4.11748098e-22,   2.39108547e-22,   9.25512523e-23]))"
      ]
     },
     "execution_count": 41,
     "metadata": {},
     "output_type": "execute_result"
    }
   ],
   "source": [
    "signal.welch(arr[1, :], fs=128, nperseg=100)\n"
   ]
  },
  {
   "cell_type": "code",
   "execution_count": null,
   "metadata": {
    "collapsed": true
   },
   "outputs": [],
   "source": []
  }
 ],
 "metadata": {
  "kernelspec": {
   "display_name": "Python 3",
   "language": "python",
   "name": "python3"
  },
  "language_info": {
   "codemirror_mode": {
    "name": "ipython",
    "version": 3
   },
   "file_extension": ".py",
   "mimetype": "text/x-python",
   "name": "python",
   "nbconvert_exporter": "python",
   "pygments_lexer": "ipython3",
   "version": "3.5.1"
  }
 },
 "nbformat": 4,
 "nbformat_minor": 2
}
