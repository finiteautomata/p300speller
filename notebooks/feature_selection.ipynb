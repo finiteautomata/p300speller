{
 "cells": [
  {
   "cell_type": "markdown",
   "metadata": {},
   "source": [
    "# Feature Selection\n"
   ]
  },
  {
   "cell_type": "code",
   "execution_count": 1,
   "metadata": {
    "collapsed": true
   },
   "outputs": [],
   "source": [
    "%load_ext autoreload\n",
    "%autoreload 2\n",
    "%matplotlib inline\n",
    "import os\n",
    "os.chdir(\"..\")"
   ]
  },
  {
   "cell_type": "code",
   "execution_count": 2,
   "metadata": {
    "collapsed": true
   },
   "outputs": [],
   "source": [
    "from IPython.core.debugger import Tracer\n",
    "import pandas as pd\n",
    "import numpy as np\n",
    "import seaborn\n",
    "import matplotlib.pyplot as plt\n",
    "from scipy.signal import welch\n",
    "from IPython.core.debugger import Tracer\n",
    "from sklearn_pandas import DataFrameMapper, cross_val_score\n",
    "from p300.feature_extraction import BaseTransformer"
   ]
  },
  {
   "cell_type": "code",
   "execution_count": 3,
   "metadata": {},
   "outputs": [
    {
     "data": {
      "text/plain": [
       "['/subjects/s10229001',\n",
       " '/subjects/s10444001',\n",
       " '/subjects/s10729001',\n",
       " '/subjects/s10882001',\n",
       " '/subjects/s10924001',\n",
       " '/subjects/s11551001',\n",
       " '/subjects/s11627001',\n",
       " '/subjects/s11632001',\n",
       " '/subjects/s11693001',\n",
       " '/subjects/s12137001',\n",
       " '/subjects/s12168001',\n",
       " '/subjects/s12521001',\n",
       " '/subjects/s12702001',\n",
       " '/subjects/s12900001',\n",
       " '/subjects/s13235001',\n",
       " '/subjects/s13252001',\n",
       " '/subjects/s13431001',\n",
       " '/subjects/s13640002',\n",
       " '/subjects/s13863001',\n",
       " '/subjects/s14023001',\n",
       " '/subjects/s1414001',\n",
       " '/subjects/s1491001',\n",
       " '/subjects/s14998001',\n",
       " '/subjects/s15362001',\n",
       " '/subjects/s15424001',\n",
       " '/subjects/s15641001',\n",
       " '/subjects/s16003001',\n",
       " '/subjects/s1609001',\n",
       " '/subjects/s16266001',\n",
       " '/subjects/s1635001',\n",
       " '/subjects/s16637001',\n",
       " '/subjects/s16683001',\n",
       " '/subjects/s16779001',\n",
       " '/subjects/s16893001',\n",
       " '/subjects/s16943001',\n",
       " '/subjects/s17005001',\n",
       " '/subjects/s17435001',\n",
       " '/subjects/s17436001',\n",
       " '/subjects/s17576001',\n",
       " '/subjects/s17674001',\n",
       " '/subjects/s17962001',\n",
       " '/subjects/s18046001',\n",
       " '/subjects/s18077001',\n",
       " '/subjects/s18112001',\n",
       " '/subjects/s18531001',\n",
       " '/subjects/s18967001',\n",
       " '/subjects/s19491001',\n",
       " '/subjects/s19561001',\n",
       " '/subjects/s19845001',\n",
       " '/subjects/s20668001',\n",
       " '/subjects/s20688001',\n",
       " '/subjects/s2089001',\n",
       " '/subjects/s20947001',\n",
       " '/subjects/s2109001',\n",
       " '/subjects/s21120001',\n",
       " '/subjects/s21601001',\n",
       " '/subjects/s21668001',\n",
       " '/subjects/s22072001',\n",
       " '/subjects/s22109001',\n",
       " '/subjects/s2215001',\n",
       " '/subjects/s22233001',\n",
       " '/subjects/s22337001',\n",
       " '/subjects/s22650001',\n",
       " '/subjects/s232001',\n",
       " '/subjects/s23272001',\n",
       " '/subjects/s23298001',\n",
       " '/subjects/s23344001',\n",
       " '/subjects/s23732001',\n",
       " '/subjects/s23794001',\n",
       " '/subjects/s24053001',\n",
       " '/subjects/s24101001',\n",
       " '/subjects/s24227001',\n",
       " '/subjects/s24540001',\n",
       " '/subjects/s24888001',\n",
       " '/subjects/s25217001',\n",
       " '/subjects/s25302001',\n",
       " '/subjects/s255001',\n",
       " '/subjects/s25871001',\n",
       " '/subjects/s25922001',\n",
       " '/subjects/s26333001',\n",
       " '/subjects/s26636001',\n",
       " '/subjects/s26715001',\n",
       " '/subjects/s26721001',\n",
       " '/subjects/s2681001',\n",
       " '/subjects/s27030001',\n",
       " '/subjects/s27058001',\n",
       " '/subjects/s27131001',\n",
       " '/subjects/s27157001',\n",
       " '/subjects/s27163001',\n",
       " '/subjects/s27496001',\n",
       " '/subjects/s27846001',\n",
       " '/subjects/s27946001',\n",
       " '/subjects/s28005001',\n",
       " '/subjects/s28970001',\n",
       " '/subjects/s29063004',\n",
       " '/subjects/s29164001',\n",
       " '/subjects/s29257001',\n",
       " '/subjects/s29273001',\n",
       " '/subjects/s29426001',\n",
       " '/subjects/s29789001',\n",
       " '/subjects/s30243001',\n",
       " '/subjects/s30261001',\n",
       " '/subjects/s31056001',\n",
       " '/subjects/s3109001',\n",
       " '/subjects/s31102001',\n",
       " '/subjects/s31397001',\n",
       " '/subjects/s31777001',\n",
       " '/subjects/s3195001',\n",
       " '/subjects/s32459001',\n",
       " '/subjects/s32505001',\n",
       " '/subjects/s358001',\n",
       " '/subjects/s36001',\n",
       " '/subjects/s3703001',\n",
       " '/subjects/s3800001',\n",
       " '/subjects/s3942001',\n",
       " '/subjects/s4305001',\n",
       " '/subjects/s4824001',\n",
       " '/subjects/s4949001',\n",
       " '/subjects/s4971001',\n",
       " '/subjects/s499001',\n",
       " '/subjects/s5224001',\n",
       " '/subjects/s5251001',\n",
       " '/subjects/s5510001',\n",
       " '/subjects/s5568001',\n",
       " '/subjects/s5857001',\n",
       " '/subjects/s630001',\n",
       " '/subjects/s6694001',\n",
       " '/subjects/s6830001',\n",
       " '/subjects/s7330001',\n",
       " '/subjects/s7385001',\n",
       " '/subjects/s7488001',\n",
       " '/subjects/s7610001',\n",
       " '/subjects/s7615001',\n",
       " '/subjects/s782001',\n",
       " '/subjects/s8762001',\n",
       " '/subjects/s8834001',\n",
       " '/subjects/s8982001',\n",
       " '/subjects/s945001',\n",
       " '/subjects/s9503001',\n",
       " '/subjects/s9689001',\n",
       " '/subjects/s9809001']"
      ]
     },
     "execution_count": 3,
     "metadata": {},
     "output_type": "execute_result"
    }
   ],
   "source": [
    "hdf = pd.HDFStore(\"output/instances.h5\")\n",
    "\n",
    "\n",
    "hdf.keys()"
   ]
  },
  {
   "cell_type": "markdown",
   "metadata": {},
   "source": [
    "Veamos cuántos sujetos tenemos"
   ]
  },
  {
   "cell_type": "markdown",
   "metadata": {},
   "source": [
    "Tomemos uno: 29164001"
   ]
  },
  {
   "cell_type": "code",
   "execution_count": 4,
   "metadata": {},
   "outputs": [
    {
     "data": {
      "text/plain": [
       "(1980, 112)"
      ]
     },
     "execution_count": 4,
     "metadata": {},
     "output_type": "execute_result"
    }
   ],
   "source": [
    "from sklearn.model_selection import cross_val_score\n",
    "\n",
    "non_features = ['id', 'array_path', 'ch_names', 'event_time', 'event_type', 'index',\n",
    "       'sfreq', 'subject_id', 'target']\n",
    "\n",
    "def get_data_from_subject(hdf, key):\n",
    "    df = hdf[key]\n",
    "    X = df[df.columns.difference(non_features)]\n",
    "    y = df.target.as_matrix()\n",
    "    \n",
    "    return X.as_matrix(), y, X.columns\n",
    "\n",
    "X, y, names = get_data_from_subject(hdf, '/subjects/s5224001')\n",
    "\n",
    "X.shape"
   ]
  },
  {
   "cell_type": "code",
   "execution_count": 5,
   "metadata": {},
   "outputs": [],
   "source": [
    "from sklearn.discriminant_analysis import LinearDiscriminantAnalysis\n",
    "from sklearn.feature_selection import RFE\n",
    "\n",
    "clf = LinearDiscriminantAnalysis()\n",
    "\n",
    "selector = RFE(clf, 40, step=1)"
   ]
  },
  {
   "cell_type": "code",
   "execution_count": 6,
   "metadata": {},
   "outputs": [
    {
     "data": {
      "text/plain": [
       "RFE(estimator=LinearDiscriminantAnalysis(n_components=None, priors=None, shrinkage=None,\n",
       "              solver='svd', store_covariance=False, tol=0.0001),\n",
       "  n_features_to_select=40, step=1, verbose=0)"
      ]
     },
     "execution_count": 6,
     "metadata": {},
     "output_type": "execute_result"
    }
   ],
   "source": [
    "selector.fit(X, y)"
   ]
  },
  {
   "cell_type": "code",
   "execution_count": 7,
   "metadata": {},
   "outputs": [
    {
     "data": {
      "text/plain": [
       "Index(['subsample___AF3_2', 'subsample___F3_1', 'subsample___F4_1',\n",
       "       'subsample___FC5_7', 'subsample___F7_1', 'subsample___F7_0',\n",
       "       'subsample___FC6_7', 'subsample___F4_6', 'subsample___AF4_1',\n",
       "       'subsample___FC5_3', 'subsample___F4_0', 'subsample___F8_2',\n",
       "       'subsample___O2_0', 'subsample___F4_4', 'subsample___F7_4',\n",
       "       'subsample___AF4_6', 'subsample___AF3_1', 'subsample___F3_2',\n",
       "       'subsample___F3_3', 'subsample___F3_4', 'subsample___AF3_1',\n",
       "       'subsample___AF3_1', 'subsample___O1_3', 'subsample___F3_7',\n",
       "       'subsample___AF3_1', 'subsample___F7_3', 'subsample___F7_2',\n",
       "       'subsample___AF3_1', 'subsample___O1_4', 'subsample___AF3_1',\n",
       "       'subsample___FC5_5', 'subsample___F3_6', 'subsample___FC6_3',\n",
       "       'subsample___O1_0', 'subsample___O1_6', 'subsample___O1_7',\n",
       "       'subsample___FC6_4', 'subsample___FC6_5', 'subsample___F8_7',\n",
       "       'subsample___F8_6'],\n",
       "      dtype='object')"
      ]
     },
     "execution_count": 7,
     "metadata": {},
     "output_type": "execute_result"
    }
   ],
   "source": [
    "names[selector.ranking_[:40]]"
   ]
  },
  {
   "cell_type": "code",
   "execution_count": 16,
   "metadata": {},
   "outputs": [
    {
     "data": {
      "text/plain": [
       "(1980, 112)"
      ]
     },
     "execution_count": 16,
     "metadata": {},
     "output_type": "execute_result"
    }
   ],
   "source": [
    "selector = RFE(clf, 20, step=1)\n",
    "clf = LinearDiscriminantAnalysis()\n",
    "X, y, names = get_data_from_subject(hdf, '/subjects/s26333001')\n",
    "\n",
    "X.shape"
   ]
  },
  {
   "cell_type": "code",
   "execution_count": 17,
   "metadata": {},
   "outputs": [
    {
     "data": {
      "text/plain": [
       "Index(['subsample___AF3_1', 'subsample___F4_2', 'subsample___FC6_0',\n",
       "       'subsample___FC5_7', 'subsample___O1_1', 'subsample___P8_5',\n",
       "       'subsample___FC5_6', 'subsample___FC5_4', 'subsample___AF3_1',\n",
       "       'subsample___AF3_1', 'subsample___AF3_4', 'subsample___FC5_0',\n",
       "       'subsample___O1_5', 'subsample___FC5_1', 'subsample___O2_1',\n",
       "       'subsample___F8_7', 'subsample___AF3_1', 'subsample___AF3_1',\n",
       "       'subsample___AF3_3', 'subsample___AF3_1'],\n",
       "      dtype='object')"
      ]
     },
     "execution_count": 17,
     "metadata": {},
     "output_type": "execute_result"
    }
   ],
   "source": [
    "selector.fit(X, y)\n",
    "\n",
    "names[selector.ranking_[:20]]"
   ]
  },
  {
   "cell_type": "markdown",
   "metadata": {},
   "source": [
    "Al parecer, los sensores más importantes son los frontales."
   ]
  },
  {
   "cell_type": "code",
   "execution_count": 21,
   "metadata": {},
   "outputs": [
    {
     "data": {
      "text/plain": [
       "0.5757208448117539"
      ]
     },
     "execution_count": 21,
     "metadata": {},
     "output_type": "execute_result"
    }
   ],
   "source": [
    "from sklearn.model_selection import cross_val_score\n",
    "\n",
    "cross_val_score(selector, X, y, scoring='roc_auc', cv=10).mean()"
   ]
  },
  {
   "cell_type": "code",
   "execution_count": null,
   "metadata": {
    "collapsed": true
   },
   "outputs": [],
   "source": []
  }
 ],
 "metadata": {
  "kernelspec": {
   "display_name": "Python 3",
   "language": "python",
   "name": "python3"
  },
  "language_info": {
   "codemirror_mode": {
    "name": "ipython",
    "version": 3
   },
   "file_extension": ".py",
   "mimetype": "text/x-python",
   "name": "python",
   "nbconvert_exporter": "python",
   "pygments_lexer": "ipython3",
   "version": "3.5.1"
  }
 },
 "nbformat": 4,
 "nbformat_minor": 2
}
