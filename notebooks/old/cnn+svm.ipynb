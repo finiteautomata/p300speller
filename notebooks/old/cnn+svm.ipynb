{
 "cells": [
  {
   "cell_type": "markdown",
   "metadata": {},
   "source": [
    "# Fine Tuning of the convolutional network"
   ]
  },
  {
   "cell_type": "code",
   "execution_count": 1,
   "metadata": {},
   "outputs": [
    {
     "name": "stdout",
     "output_type": "stream",
     "text": [
      "Using matplotlib backend: TkAgg\n",
      "Populating the interactive namespace from numpy and matplotlib\n"
     ]
    }
   ],
   "source": [
    "%pylab\n",
    "%matplotlib inline\n",
    "\n",
    "import glob\n",
    "import os\n",
    "import mne\n",
    "CORPORA_PATH = \"~/corpora/sets\"\n",
    "\n",
    "file_path = os.path.expanduser(CORPORA_PATH)\n",
    "files = glob.glob(os.path.join(file_path, \"*.set\"))\n",
    "\n",
    "def normalize_subject(X):\n",
    "    mean = X.mean(axis=(0, 2)).reshape(-1, 1)\n",
    "    std = X.std(axis=(0, 2)).reshape(-1, 1)\n",
    "    return (X - mean) / std\n",
    "\n",
    "def load_data(filename, normalize=True):\n",
    "    data_mne = mne.io.read_raw_eeglab(filename, preload=True, event_id={\"0\": 1, \"1\": 2})\n",
    "    data_mne.filter(0, 20)\n",
    "    events = mne.find_events(data_mne)\n",
    "    epochs = mne.Epochs(\n",
    "        data_mne, events,\n",
    "        baseline=(None, 0), tmin=-0.1, tmax=0.7)\n",
    "\n",
    "    epochs.load_data()\n",
    "    \n",
    "    ch_names = epochs.ch_names\n",
    "    \n",
    "    X = epochs.get_data()[:, :-1]\n",
    "    y = (events[:, 2] == 2).astype('float')\n",
    "\n",
    "    if len(events) != len(epochs):\n",
    "        raise ValueError(\"Epochs events mismatch\")\n",
    "    if normalize: \n",
    "        X = normalize_subject(X)\n",
    "    X = X[..., np.newaxis]\n",
    "    \n",
    "    return X, y \n"
   ]
  },
  {
   "cell_type": "code",
   "execution_count": 2,
   "metadata": {},
   "outputs": [
    {
     "name": "stderr",
     "output_type": "stream",
     "text": [
      "Using TensorFlow backend.\n",
      "/home/jmperez/.pyenv/versions/3.6.0/lib/python3.6/importlib/_bootstrap.py:205: RuntimeWarning: compiletime version 3.5 of module 'tensorflow.python.framework.fast_tensor_util' does not match runtime version 3.6\n",
      "  return f(*args, **kwds)\n"
     ]
    }
   ],
   "source": [
    "from keras.models import load_model\n",
    "channels = ['AF3', 'F7', 'F3', 'FC5', 'T7', 'P7', 'O1', 'O2', 'P8', 'T8', 'FC6', 'F4', 'F8', 'AF4', 'STI 014']\n",
    "\n",
    "model = load_model(\"models/model.h5\")"
   ]
  },
  {
   "cell_type": "code",
   "execution_count": 5,
   "metadata": {},
   "outputs": [
    {
     "name": "stdout",
     "output_type": "stream",
     "text": [
      "Reading /home/jmperez/corpora/sets/PruebasMuseo_358001.fdt\n",
      "Reading 0 ... 63231  =      0.000 ...   493.992 secs...\n",
      "Setting up low-pass filter at 20 Hz\n",
      "h_trans_bandwidth chosen to be 5.0 Hz\n",
      "Filter length of 169 samples (1.320 sec) selected\n",
      "1800 events found\n",
      "Events id: [1 2]\n",
      "1800 matching events found\n",
      "0 projection items activated\n",
      "Loading data for 1800 events and 104 original time points ...\n",
      "0 bad epochs dropped\n"
     ]
    }
   ],
   "source": [
    "X, y = load_data(files[143])"
   ]
  },
  {
   "cell_type": "code",
   "execution_count": 6,
   "metadata": {},
   "outputs": [],
   "source": [
    "from sklearn.model_selection import train_test_split\n",
    "\n",
    "X_train, X_test, y_train, y_test= train_test_split(X, y, test_size=0.1, stratify=y)"
   ]
  },
  {
   "cell_type": "code",
   "execution_count": 7,
   "metadata": {},
   "outputs": [
    {
     "name": "stdout",
     "output_type": "stream",
     "text": [
      "\n",
      "    Accuracy   = 0.5555555555555556\n",
      "    Precision  = 0.20238095238095238\n",
      "    Recall     = 0.5666666666666667\n",
      "    ROC AUC    = 0.589111111111111\n",
      "    \n"
     ]
    }
   ],
   "source": [
    "\n",
    "\n",
    "from sklearn.metrics import precision_score, recall_score, roc_auc_score, accuracy_score\n",
    "\n",
    "def print_metrics(model, X_test, y_test):\n",
    "    y_pred = model.predict_classes(X_test)\n",
    "    y_prob = model.predict(X_test)\n",
    "\n",
    "    precision = precision_score(y_test, y_pred)\n",
    "    recall = recall_score(y_test, y_pred)\n",
    "    auc = roc_auc_score(y_test, y_prob)\n",
    "    accuracy = accuracy_score(y_test, y_pred)\n",
    "\n",
    "    print(\"\"\"\n",
    "    Accuracy   = {}\n",
    "    Precision  = {}\n",
    "    Recall     = {}\n",
    "    ROC AUC    = {}\n",
    "    \"\"\".format(accuracy, precision, recall, auc))\n",
    "    \n",
    "print_metrics(model, X_test, y_test)"
   ]
  },
  {
   "cell_type": "code",
   "execution_count": 8,
   "metadata": {},
   "outputs": [
    {
     "data": {
      "text/plain": [
       "[<keras.layers.convolutional.Conv2D at 0x7f2865c58ba8>,\n",
       " <keras.layers.convolutional.Conv2D at 0x7f2865c58e80>,\n",
       " <keras.layers.core.Flatten at 0x7f2865c58e10>,\n",
       " <keras.layers.core.Dropout at 0x7f2865c1f438>,\n",
       " <keras.layers.core.Dense at 0x7f2865c17d68>,\n",
       " <keras.layers.core.Dense at 0x7f2865bc9fd0>]"
      ]
     },
     "execution_count": 8,
     "metadata": {},
     "output_type": "execute_result"
    }
   ],
   "source": [
    "model.layers"
   ]
  },
  {
   "cell_type": "markdown",
   "metadata": {},
   "source": [
    "Let's fix the first two convolutional layers"
   ]
  },
  {
   "cell_type": "code",
   "execution_count": 20,
   "metadata": {},
   "outputs": [
    {
     "data": {
      "text/plain": [
       "[(<keras.layers.convolutional.Conv2D at 0x7f2862607ef0>, 'Trainable: False'),\n",
       " (<keras.layers.convolutional.Conv2D at 0x7f2860a3c240>, 'Trainable: False'),\n",
       " (<keras.layers.core.Flatten at 0x7f2860a3c160>, 'Trainable: False'),\n",
       " (<keras.layers.core.Dropout at 0x7f286076c4a8>, 'Trainable: False'),\n",
       " (<keras.layers.core.Dense at 0x7f28607d5ba8>, 'Trainable: True'),\n",
       " (<keras.layers.core.Dense at 0x7f286073c860>, 'Trainable: True')]"
      ]
     },
     "execution_count": 20,
     "metadata": {},
     "output_type": "execute_result"
    }
   ],
   "source": [
    "\n",
    "for i in range(4):\n",
    "    model.layers[i].trainable = False\n",
    "\n",
    "\n",
    "\n",
    "model.compile(loss='binary_crossentropy', # using the cross-entropy loss function\n",
    "              optimizer='rmsprop', \n",
    "              metrics=['accuracy']) # reporting the accuracy\n",
    "[(l, \"Trainable: {}\".format(l.trainable)) for l in model.layers]"
   ]
  },
  {
   "cell_type": "code",
   "execution_count": 21,
   "metadata": {},
   "outputs": [
    {
     "ename": "ValueError",
     "evalue": "Error when checking input: expected conv2d_3_input to have 4 dimensions, but got array with shape (1620, 87360)",
     "output_type": "error",
     "traceback": [
      "\u001b[0;31m---------------------------------------------------------------------------\u001b[0m",
      "\u001b[0;31mValueError\u001b[0m                                Traceback (most recent call last)",
      "\u001b[0;32m<ipython-input-21-853bdd3d7891>\u001b[0m in \u001b[0;36m<module>\u001b[0;34m()\u001b[0m\n\u001b[1;32m      6\u001b[0m     \u001b[0mX_train\u001b[0m\u001b[0;34m,\u001b[0m \u001b[0my_train\u001b[0m\u001b[0;34m,\u001b[0m \u001b[0mepochs\u001b[0m\u001b[0;34m=\u001b[0m\u001b[0;36m30\u001b[0m\u001b[0;34m,\u001b[0m\u001b[0;34m\u001b[0m\u001b[0m\n\u001b[1;32m      7\u001b[0m     \u001b[0mbatch_size\u001b[0m\u001b[0;34m=\u001b[0m\u001b[0;36m64\u001b[0m\u001b[0;34m,\u001b[0m \u001b[0mclass_weight\u001b[0m\u001b[0;34m=\u001b[0m\u001b[0;34m{\u001b[0m\u001b[0;36m0\u001b[0m\u001b[0;34m:\u001b[0m\u001b[0;36m1\u001b[0m\u001b[0;34m,\u001b[0m \u001b[0;36m1\u001b[0m\u001b[0;34m:\u001b[0m\u001b[0;36m6\u001b[0m\u001b[0;34m}\u001b[0m\u001b[0;34m,\u001b[0m \u001b[0mvalidation_split\u001b[0m\u001b[0;34m=\u001b[0m\u001b[0;36m0.01\u001b[0m\u001b[0;34m,\u001b[0m\u001b[0;34m\u001b[0m\u001b[0m\n\u001b[0;32m----> 8\u001b[0;31m     \u001b[0mcallbacks\u001b[0m\u001b[0;34m=\u001b[0m\u001b[0;34m[\u001b[0m\u001b[0mcheckpointer\u001b[0m\u001b[0;34m,\u001b[0m \u001b[0mearly_stopping\u001b[0m\u001b[0;34m]\u001b[0m\u001b[0;34m\u001b[0m\u001b[0m\n\u001b[0m\u001b[1;32m      9\u001b[0m )\n",
      "\u001b[0;32m/home/jmperez/.pyenv/versions/3.6.0/envs/p300/lib/python3.6/site-packages/keras/models.py\u001b[0m in \u001b[0;36mfit\u001b[0;34m(self, x, y, batch_size, epochs, verbose, callbacks, validation_split, validation_data, shuffle, class_weight, sample_weight, initial_epoch, steps_per_epoch, validation_steps, **kwargs)\u001b[0m\n\u001b[1;32m    958\u001b[0m                               \u001b[0minitial_epoch\u001b[0m\u001b[0;34m=\u001b[0m\u001b[0minitial_epoch\u001b[0m\u001b[0;34m,\u001b[0m\u001b[0;34m\u001b[0m\u001b[0m\n\u001b[1;32m    959\u001b[0m                               \u001b[0msteps_per_epoch\u001b[0m\u001b[0;34m=\u001b[0m\u001b[0msteps_per_epoch\u001b[0m\u001b[0;34m,\u001b[0m\u001b[0;34m\u001b[0m\u001b[0m\n\u001b[0;32m--> 960\u001b[0;31m                               validation_steps=validation_steps)\n\u001b[0m\u001b[1;32m    961\u001b[0m \u001b[0;34m\u001b[0m\u001b[0m\n\u001b[1;32m    962\u001b[0m     def evaluate(self, x, y, batch_size=32, verbose=1,\n",
      "\u001b[0;32m/home/jmperez/.pyenv/versions/3.6.0/envs/p300/lib/python3.6/site-packages/keras/engine/training.py\u001b[0m in \u001b[0;36mfit\u001b[0;34m(self, x, y, batch_size, epochs, verbose, callbacks, validation_split, validation_data, shuffle, class_weight, sample_weight, initial_epoch, steps_per_epoch, validation_steps, **kwargs)\u001b[0m\n\u001b[1;32m   1579\u001b[0m             \u001b[0mclass_weight\u001b[0m\u001b[0;34m=\u001b[0m\u001b[0mclass_weight\u001b[0m\u001b[0;34m,\u001b[0m\u001b[0;34m\u001b[0m\u001b[0m\n\u001b[1;32m   1580\u001b[0m             \u001b[0mcheck_batch_axis\u001b[0m\u001b[0;34m=\u001b[0m\u001b[0;32mFalse\u001b[0m\u001b[0;34m,\u001b[0m\u001b[0;34m\u001b[0m\u001b[0m\n\u001b[0;32m-> 1581\u001b[0;31m             batch_size=batch_size)\n\u001b[0m\u001b[1;32m   1582\u001b[0m         \u001b[0;31m# Prepare validation data.\u001b[0m\u001b[0;34m\u001b[0m\u001b[0;34m\u001b[0m\u001b[0m\n\u001b[1;32m   1583\u001b[0m         \u001b[0mdo_validation\u001b[0m \u001b[0;34m=\u001b[0m \u001b[0;32mFalse\u001b[0m\u001b[0;34m\u001b[0m\u001b[0m\n",
      "\u001b[0;32m/home/jmperez/.pyenv/versions/3.6.0/envs/p300/lib/python3.6/site-packages/keras/engine/training.py\u001b[0m in \u001b[0;36m_standardize_user_data\u001b[0;34m(self, x, y, sample_weight, class_weight, check_batch_axis, batch_size)\u001b[0m\n\u001b[1;32m   1412\u001b[0m                                     \u001b[0mself\u001b[0m\u001b[0;34m.\u001b[0m\u001b[0m_feed_input_shapes\u001b[0m\u001b[0;34m,\u001b[0m\u001b[0;34m\u001b[0m\u001b[0m\n\u001b[1;32m   1413\u001b[0m                                     \u001b[0mcheck_batch_axis\u001b[0m\u001b[0;34m=\u001b[0m\u001b[0;32mFalse\u001b[0m\u001b[0;34m,\u001b[0m\u001b[0;34m\u001b[0m\u001b[0m\n\u001b[0;32m-> 1414\u001b[0;31m                                     exception_prefix='input')\n\u001b[0m\u001b[1;32m   1415\u001b[0m         y = _standardize_input_data(y, self._feed_output_names,\n\u001b[1;32m   1416\u001b[0m                                     \u001b[0moutput_shapes\u001b[0m\u001b[0;34m,\u001b[0m\u001b[0;34m\u001b[0m\u001b[0m\n",
      "\u001b[0;32m/home/jmperez/.pyenv/versions/3.6.0/envs/p300/lib/python3.6/site-packages/keras/engine/training.py\u001b[0m in \u001b[0;36m_standardize_input_data\u001b[0;34m(data, names, shapes, check_batch_axis, exception_prefix)\u001b[0m\n\u001b[1;32m    139\u001b[0m                                  \u001b[0;34m' to have '\u001b[0m \u001b[0;34m+\u001b[0m \u001b[0mstr\u001b[0m\u001b[0;34m(\u001b[0m\u001b[0mlen\u001b[0m\u001b[0;34m(\u001b[0m\u001b[0mshapes\u001b[0m\u001b[0;34m[\u001b[0m\u001b[0mi\u001b[0m\u001b[0;34m]\u001b[0m\u001b[0;34m)\u001b[0m\u001b[0;34m)\u001b[0m \u001b[0;34m+\u001b[0m\u001b[0;34m\u001b[0m\u001b[0m\n\u001b[1;32m    140\u001b[0m                                  \u001b[0;34m' dimensions, but got array with shape '\u001b[0m \u001b[0;34m+\u001b[0m\u001b[0;34m\u001b[0m\u001b[0m\n\u001b[0;32m--> 141\u001b[0;31m                                  str(array.shape))\n\u001b[0m\u001b[1;32m    142\u001b[0m             \u001b[0;32mfor\u001b[0m \u001b[0mj\u001b[0m\u001b[0;34m,\u001b[0m \u001b[0;34m(\u001b[0m\u001b[0mdim\u001b[0m\u001b[0;34m,\u001b[0m \u001b[0mref_dim\u001b[0m\u001b[0;34m)\u001b[0m \u001b[0;32min\u001b[0m \u001b[0menumerate\u001b[0m\u001b[0;34m(\u001b[0m\u001b[0mzip\u001b[0m\u001b[0;34m(\u001b[0m\u001b[0marray\u001b[0m\u001b[0;34m.\u001b[0m\u001b[0mshape\u001b[0m\u001b[0;34m,\u001b[0m \u001b[0mshapes\u001b[0m\u001b[0;34m[\u001b[0m\u001b[0mi\u001b[0m\u001b[0;34m]\u001b[0m\u001b[0;34m)\u001b[0m\u001b[0;34m)\u001b[0m\u001b[0;34m:\u001b[0m\u001b[0;34m\u001b[0m\u001b[0m\n\u001b[1;32m    143\u001b[0m                 \u001b[0;32mif\u001b[0m \u001b[0;32mnot\u001b[0m \u001b[0mj\u001b[0m \u001b[0;32mand\u001b[0m \u001b[0;32mnot\u001b[0m \u001b[0mcheck_batch_axis\u001b[0m\u001b[0;34m:\u001b[0m\u001b[0;34m\u001b[0m\u001b[0m\n",
      "\u001b[0;31mValueError\u001b[0m: Error when checking input: expected conv2d_3_input to have 4 dimensions, but got array with shape (1620, 87360)"
     ]
    }
   ],
   "source": [
    "from keras.callbacks import ModelCheckpoint, EarlyStopping\n",
    "checkpointer = ModelCheckpoint(filepath='model.h5', verbose=1, save_best_only=True)\n",
    "early_stopping = EarlyStopping(monitor='val_loss', patience=3)\n",
    "\n",
    "model.fit(\n",
    "    X_train, y_train, epochs=30, \n",
    "    batch_size=64, class_weight={0:1, 1:6}, validation_split=0.01,\n",
    "    callbacks=[checkpointer, early_stopping]\n",
    ")"
   ]
  },
  {
   "cell_type": "code",
   "execution_count": 11,
   "metadata": {},
   "outputs": [
    {
     "name": "stdout",
     "output_type": "stream",
     "text": [
      "\n",
      "    Accuracy   = 0.5388888888888889\n",
      "    Precision  = 0.20224719101123595\n",
      "    Recall     = 0.6\n",
      "    ROC AUC    = 0.6077777777777778\n",
      "    \n"
     ]
    }
   ],
   "source": [
    "print_metrics(model, X_test, y_test)"
   ]
  },
  {
   "cell_type": "code",
   "execution_count": 12,
   "metadata": {},
   "outputs": [
    {
     "data": {
      "text/plain": [
       "array([[ 0.49438933,  0.        ],\n",
       "       [ 0.59221601,  1.        ],\n",
       "       [ 0.44325417,  0.        ],\n",
       "       [ 0.49404421,  0.        ],\n",
       "       [ 0.54224604,  0.        ],\n",
       "       [ 0.48226279,  0.        ],\n",
       "       [ 0.78814924,  1.        ],\n",
       "       [ 0.57949287,  0.        ],\n",
       "       [ 0.49402833,  0.        ],\n",
       "       [ 0.53376693,  0.        ],\n",
       "       [ 0.55322862,  0.        ],\n",
       "       [ 0.49195325,  0.        ],\n",
       "       [ 0.45938343,  0.        ],\n",
       "       [ 0.39896855,  0.        ],\n",
       "       [ 0.44019067,  1.        ],\n",
       "       [ 0.65102875,  0.        ],\n",
       "       [ 0.50291926,  0.        ],\n",
       "       [ 0.46069604,  0.        ],\n",
       "       [ 0.49177676,  0.        ],\n",
       "       [ 0.45464355,  0.        ],\n",
       "       [ 0.45160869,  0.        ],\n",
       "       [ 0.56659019,  0.        ],\n",
       "       [ 0.47286335,  0.        ],\n",
       "       [ 0.6067099 ,  0.        ],\n",
       "       [ 0.4832212 ,  0.        ],\n",
       "       [ 0.56725192,  1.        ],\n",
       "       [ 0.42826706,  0.        ],\n",
       "       [ 0.46378893,  1.        ],\n",
       "       [ 0.4404662 ,  0.        ],\n",
       "       [ 0.49404421,  0.        ],\n",
       "       [ 0.47258666,  0.        ],\n",
       "       [ 0.44520408,  0.        ],\n",
       "       [ 0.96007562,  1.        ],\n",
       "       [ 0.53726035,  0.        ],\n",
       "       [ 0.68367583,  0.        ],\n",
       "       [ 0.57041889,  0.        ],\n",
       "       [ 0.49188358,  0.        ],\n",
       "       [ 0.45204392,  0.        ],\n",
       "       [ 0.53975862,  1.        ],\n",
       "       [ 0.61845011,  0.        ],\n",
       "       [ 0.54432744,  0.        ],\n",
       "       [ 0.36829564,  0.        ],\n",
       "       [ 0.47173762,  0.        ],\n",
       "       [ 0.6546039 ,  0.        ],\n",
       "       [ 0.495626  ,  0.        ],\n",
       "       [ 0.67878795,  0.        ],\n",
       "       [ 0.34325659,  0.        ],\n",
       "       [ 0.49462223,  1.        ],\n",
       "       [ 0.49404421,  1.        ],\n",
       "       [ 0.45395014,  0.        ],\n",
       "       [ 0.83571184,  0.        ],\n",
       "       [ 0.52437228,  0.        ],\n",
       "       [ 0.4999969 ,  0.        ],\n",
       "       [ 0.60773301,  0.        ],\n",
       "       [ 0.5134567 ,  0.        ],\n",
       "       [ 0.50616443,  0.        ],\n",
       "       [ 0.51892096,  1.        ],\n",
       "       [ 0.58740312,  0.        ],\n",
       "       [ 0.50821847,  0.        ],\n",
       "       [ 0.43755412,  0.        ],\n",
       "       [ 0.58934373,  0.        ],\n",
       "       [ 0.60741431,  0.        ],\n",
       "       [ 0.44006741,  0.        ],\n",
       "       [ 0.40279013,  1.        ],\n",
       "       [ 0.59580016,  0.        ],\n",
       "       [ 0.4345786 ,  0.        ],\n",
       "       [ 0.48411191,  0.        ],\n",
       "       [ 0.61098403,  0.        ],\n",
       "       [ 0.55326235,  0.        ],\n",
       "       [ 0.44029298,  1.        ],\n",
       "       [ 0.60628378,  0.        ],\n",
       "       [ 0.41978788,  0.        ],\n",
       "       [ 0.56161344,  0.        ],\n",
       "       [ 0.46048099,  0.        ],\n",
       "       [ 0.56116784,  0.        ],\n",
       "       [ 0.36423075,  1.        ],\n",
       "       [ 0.52342027,  0.        ],\n",
       "       [ 0.43873534,  0.        ],\n",
       "       [ 0.66556036,  1.        ],\n",
       "       [ 0.49404421,  1.        ],\n",
       "       [ 0.50121778,  0.        ],\n",
       "       [ 0.54363072,  0.        ],\n",
       "       [ 0.49404421,  0.        ],\n",
       "       [ 0.54441351,  0.        ],\n",
       "       [ 0.33264348,  0.        ],\n",
       "       [ 0.67369419,  1.        ],\n",
       "       [ 0.56542879,  0.        ],\n",
       "       [ 0.63858724,  0.        ],\n",
       "       [ 0.61243528,  0.        ],\n",
       "       [ 0.55093861,  0.        ],\n",
       "       [ 0.52482152,  0.        ],\n",
       "       [ 0.52989334,  0.        ],\n",
       "       [ 0.60677391,  1.        ],\n",
       "       [ 0.4192268 ,  0.        ],\n",
       "       [ 0.49509043,  0.        ],\n",
       "       [ 0.52186078,  0.        ],\n",
       "       [ 0.4286707 ,  0.        ],\n",
       "       [ 0.38418418,  0.        ],\n",
       "       [ 0.67209041,  0.        ],\n",
       "       [ 0.50274688,  0.        ],\n",
       "       [ 0.5617739 ,  1.        ],\n",
       "       [ 0.46778491,  0.        ],\n",
       "       [ 0.66509151,  0.        ],\n",
       "       [ 0.43616953,  0.        ],\n",
       "       [ 0.53595054,  0.        ],\n",
       "       [ 0.51535201,  0.        ],\n",
       "       [ 0.57556927,  1.        ],\n",
       "       [ 0.44720161,  0.        ],\n",
       "       [ 0.41756651,  0.        ],\n",
       "       [ 0.50869453,  0.        ],\n",
       "       [ 0.52927464,  1.        ],\n",
       "       [ 0.66448641,  0.        ],\n",
       "       [ 0.36597684,  0.        ],\n",
       "       [ 0.53189141,  0.        ],\n",
       "       [ 0.43688238,  0.        ],\n",
       "       [ 0.47103757,  0.        ],\n",
       "       [ 0.56484455,  0.        ],\n",
       "       [ 0.48549265,  0.        ],\n",
       "       [ 0.47761744,  0.        ],\n",
       "       [ 0.41365564,  0.        ],\n",
       "       [ 0.49404421,  0.        ],\n",
       "       [ 0.71462387,  1.        ],\n",
       "       [ 0.46501768,  0.        ],\n",
       "       [ 0.70566601,  1.        ],\n",
       "       [ 0.63728905,  0.        ],\n",
       "       [ 0.46157873,  0.        ],\n",
       "       [ 0.5078038 ,  0.        ],\n",
       "       [ 0.38894784,  0.        ],\n",
       "       [ 0.64773959,  0.        ],\n",
       "       [ 0.65912616,  0.        ],\n",
       "       [ 0.69274074,  1.        ],\n",
       "       [ 0.45209616,  1.        ],\n",
       "       [ 0.55178779,  0.        ],\n",
       "       [ 0.41292524,  0.        ],\n",
       "       [ 0.46783453,  1.        ],\n",
       "       [ 0.4497079 ,  0.        ],\n",
       "       [ 0.53594041,  0.        ],\n",
       "       [ 0.65356946,  0.        ],\n",
       "       [ 0.44862252,  0.        ],\n",
       "       [ 0.78657776,  0.        ],\n",
       "       [ 0.60936189,  0.        ],\n",
       "       [ 0.60024649,  0.        ],\n",
       "       [ 0.77824503,  0.        ],\n",
       "       [ 0.45420083,  0.        ],\n",
       "       [ 0.60765165,  0.        ],\n",
       "       [ 0.38676271,  0.        ],\n",
       "       [ 0.40298766,  0.        ],\n",
       "       [ 0.44339249,  0.        ],\n",
       "       [ 0.3953574 ,  0.        ],\n",
       "       [ 0.46042237,  0.        ],\n",
       "       [ 0.45886287,  0.        ],\n",
       "       [ 0.44569418,  0.        ],\n",
       "       [ 0.58420199,  1.        ],\n",
       "       [ 0.56704736,  1.        ],\n",
       "       [ 0.57199043,  0.        ],\n",
       "       [ 0.45493004,  1.        ],\n",
       "       [ 0.81005782,  0.        ],\n",
       "       [ 0.43797934,  0.        ],\n",
       "       [ 0.44923368,  0.        ],\n",
       "       [ 0.47169805,  0.        ],\n",
       "       [ 0.41866684,  0.        ],\n",
       "       [ 0.65268791,  0.        ],\n",
       "       [ 0.31051585,  0.        ],\n",
       "       [ 0.46300501,  0.        ],\n",
       "       [ 0.69400698,  1.        ],\n",
       "       [ 0.63814503,  0.        ],\n",
       "       [ 0.48686931,  0.        ],\n",
       "       [ 0.54932296,  0.        ],\n",
       "       [ 0.34424508,  0.        ],\n",
       "       [ 0.61945802,  0.        ],\n",
       "       [ 0.44373706,  0.        ],\n",
       "       [ 0.77030587,  0.        ],\n",
       "       [ 0.39124462,  1.        ],\n",
       "       [ 0.47555026,  0.        ],\n",
       "       [ 0.41793212,  0.        ],\n",
       "       [ 0.44950807,  0.        ],\n",
       "       [ 0.60466886,  0.        ],\n",
       "       [ 0.70973384,  0.        ],\n",
       "       [ 0.42353359,  0.        ],\n",
       "       [ 0.46773508,  0.        ]])"
      ]
     },
     "execution_count": 12,
     "metadata": {},
     "output_type": "execute_result"
    }
   ],
   "source": [
    "np.hstack([model.predict(X_test).reshape(-1, 1), y_test.reshape(-1, 1)])"
   ]
  },
  {
   "cell_type": "markdown",
   "metadata": {},
   "source": [
    "## Training an SVM"
   ]
  },
  {
   "cell_type": "code",
   "execution_count": 13,
   "metadata": {},
   "outputs": [
    {
     "data": {
      "text/plain": [
       "SVC(C=3, cache_size=200, class_weight=None, coef0=0.0,\n",
       "  decision_function_shape=None, degree=3, gamma='auto', kernel='rbf',\n",
       "  max_iter=-1, probability=True, random_state=None, shrinking=True,\n",
       "  tol=0.001, verbose=False)"
      ]
     },
     "execution_count": 13,
     "metadata": {},
     "output_type": "execute_result"
    }
   ],
   "source": [
    "from sklearn.svm import SVC\n",
    "\n",
    "clf = SVC(probability=True, C=3)\n",
    "X_tr = X_train.reshape(X_train.shape[0], -1)\n",
    "X_te = X_test.reshape(X_test.shape[0], -1)\n",
    "clf.fit(X_tr, y_train)"
   ]
  },
  {
   "cell_type": "code",
   "execution_count": 14,
   "metadata": {},
   "outputs": [
    {
     "name": "stdout",
     "output_type": "stream",
     "text": [
      "\n",
      "Accuracy   = 0.8333333333333334\n",
      "Precision  = 0.0\n",
      "Recall     = 0.0\n",
      "ROC AUC    = 0.41555555555555557\n",
      "\n"
     ]
    },
    {
     "name": "stderr",
     "output_type": "stream",
     "text": [
      "/home/jmperez/.pyenv/versions/3.6.0/envs/p300/lib/python3.6/site-packages/sklearn/metrics/classification.py:1113: UndefinedMetricWarning: Precision is ill-defined and being set to 0.0 due to no predicted samples.\n",
      "  'precision', 'predicted', average, warn_for)\n"
     ]
    }
   ],
   "source": [
    "y_pred = clf.predict(X_te)\n",
    "y_prob = clf.predict_proba(X_te)[:, 0]\n",
    "\n",
    "precision = precision_score(y_test, y_pred)\n",
    "recall = recall_score(y_test, y_pred)\n",
    "auc = roc_auc_score(y_test, y_prob)\n",
    "accuracy = accuracy_score(y_test, y_pred)\n",
    "\n",
    "print(\"\"\"\n",
    "Accuracy   = {}\n",
    "Precision  = {}\n",
    "Recall     = {}\n",
    "ROC AUC    = {}\n",
    "\"\"\".format(accuracy, precision, recall, auc))"
   ]
  },
  {
   "cell_type": "markdown",
   "metadata": {},
   "source": [
    "## Training SVM using features from the conv net"
   ]
  },
  {
   "cell_type": "code",
   "execution_count": 15,
   "metadata": {},
   "outputs": [
    {
     "name": "stdout",
     "output_type": "stream",
     "text": [
      "[<keras.layers.convolutional.Conv2D object at 0x7f2862607ef0>, <keras.layers.convolutional.Conv2D object at 0x7f2860a3c240>, <keras.layers.core.Flatten object at 0x7f2860a3c160>, <keras.layers.core.Dropout object at 0x7f286076c4a8>, <keras.layers.core.Dense object at 0x7f28607d5ba8>, <keras.layers.core.Dense object at 0x7f286073c860>]\n"
     ]
    }
   ],
   "source": [
    "from keras import Model\n",
    "\n",
    "model = load_model(\"models/model.h5\")\n",
    "\n",
    "print(model.layers)\n",
    "\n"
   ]
  },
  {
   "cell_type": "code",
   "execution_count": 16,
   "metadata": {},
   "outputs": [],
   "source": [
    "intermediate_layer_model = Model(inputs=model.input,\n",
    "                                 outputs=model.layers[2].output)\n",
    "\n",
    "new_X = intermediate_layer_model.predict(X)\n",
    "\n",
    "new_X = new_X.reshape(new_X.shape[0], -1)"
   ]
  },
  {
   "cell_type": "code",
   "execution_count": 17,
   "metadata": {},
   "outputs": [],
   "source": [
    "\n",
    "from sklearn.model_selection import train_test_split\n",
    "\n",
    "X_train, X_test, y_train, y_test= train_test_split(new_X, y, test_size=0.1, stratify=y)\n"
   ]
  },
  {
   "cell_type": "code",
   "execution_count": 18,
   "metadata": {},
   "outputs": [
    {
     "data": {
      "text/plain": [
       "LinearSVC(C=2, class_weight='balanced', dual=True, fit_intercept=True,\n",
       "     intercept_scaling=1, loss='squared_hinge', max_iter=1000,\n",
       "     multi_class='ovr', penalty='l2', random_state=None, tol=0.0001,\n",
       "     verbose=0)"
      ]
     },
     "execution_count": 18,
     "metadata": {},
     "output_type": "execute_result"
    }
   ],
   "source": [
    "from sklearn.svm import LinearSVC\n",
    "\n",
    "clf = LinearSVC(C=2, class_weight=\"balanced\")\n",
    "\n",
    "\n",
    "clf.fit(X_train, y_train)"
   ]
  },
  {
   "cell_type": "code",
   "execution_count": 19,
   "metadata": {},
   "outputs": [
    {
     "name": "stdout",
     "output_type": "stream",
     "text": [
      "\n",
      "Accuracy   = 0.7388888888888889\n",
      "Precision  = 0.2702702702702703\n",
      "Recall     = 0.3333333333333333\n",
      "\n"
     ]
    }
   ],
   "source": [
    "y_pred = clf.predict(X_test)\n",
    "\n",
    "precision = precision_score(y_test, y_pred)\n",
    "recall = recall_score(y_test, y_pred)\n",
    "\n",
    "accuracy = accuracy_score(y_test, y_pred)\n",
    "\n",
    "print(\"\"\"\n",
    "Accuracy   = {}\n",
    "Precision  = {}\n",
    "Recall     = {}\n",
    "\"\"\".format(accuracy, precision, recall))"
   ]
  },
  {
   "cell_type": "code",
   "execution_count": null,
   "metadata": {
    "collapsed": true
   },
   "outputs": [],
   "source": []
  }
 ],
 "metadata": {
  "kernelspec": {
   "display_name": "Python 3",
   "language": "python",
   "name": "python3"
  },
  "language_info": {
   "codemirror_mode": {
    "name": "ipython",
    "version": 3
   },
   "file_extension": ".py",
   "mimetype": "text/x-python",
   "name": "python",
   "nbconvert_exporter": "python",
   "pygments_lexer": "ipython3",
   "version": "3.6.0"
  }
 },
 "nbformat": 4,
 "nbformat_minor": 2
}
