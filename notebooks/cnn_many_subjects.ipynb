{
 "cells": [
  {
   "cell_type": "markdown",
   "metadata": {},
   "source": [
    "# CNN for sample data"
   ]
  },
  {
   "cell_type": "code",
   "execution_count": 1,
   "metadata": {},
   "outputs": [
    {
     "name": "stdout",
     "output_type": "stream",
     "text": [
      "Using matplotlib backend: TkAgg\n",
      "Populating the interactive namespace from numpy and matplotlib\n"
     ]
    }
   ],
   "source": [
    "%pylab\n",
    "%matplotlib inline\n",
    "\n",
    "import glob\n",
    "import os\n",
    "\n",
    "\n",
    "CORPORA_PATH = \"~/projects/corpora/sets/sample\"\n",
    "\n",
    "file_path = os.path.expanduser(CORPORA_PATH)\n",
    "files = glob.glob(os.path.join(file_path, \"*.set\"))\n",
    "\n",
    "\n"
   ]
  },
  {
   "cell_type": "code",
   "execution_count": 2,
   "metadata": {},
   "outputs": [],
   "source": [
    "%%capture\n",
    "from helpers import load_multiple_data\n",
    "X, y = load_multiple_data(files)"
   ]
  },
  {
   "cell_type": "markdown",
   "metadata": {},
   "source": [
    "Agrego una dimensión dummy ya que `keras` va a tratar esto como una imagen"
   ]
  },
  {
   "cell_type": "code",
   "execution_count": 3,
   "metadata": {},
   "outputs": [
    {
     "data": {
      "text/plain": [
       "(42480, 14, 104, 1)"
      ]
     },
     "execution_count": 3,
     "metadata": {},
     "output_type": "execute_result"
    }
   ],
   "source": [
    "X_t = X[:, :, :, np.newaxis]\n",
    "\n",
    "X_t.shape"
   ]
  },
  {
   "cell_type": "code",
   "execution_count": 4,
   "metadata": {},
   "outputs": [
    {
     "data": {
      "text/plain": [
       "((38232, 14, 104, 1), (38232, 1))"
      ]
     },
     "execution_count": 4,
     "metadata": {},
     "output_type": "execute_result"
    }
   ],
   "source": [
    "from sklearn.model_selection import train_test_split\n",
    "\n",
    "X_train, X_test, y_train, y_test= train_test_split(X_t, y, test_size=0.1, stratify=y)\n",
    "\n",
    "X_train.shape, y_train.shape"
   ]
  },
  {
   "cell_type": "markdown",
   "metadata": {},
   "source": [
    "## Función de activación sigmoidea\n",
    "No estoy muy seguro del porqué ocurre esto, pero la función de activación sigmoidea pareciera estar overfitteando. Esto no ocurre cuando uso reLU."
   ]
  },
  {
   "cell_type": "code",
   "execution_count": 11,
   "metadata": {},
   "outputs": [],
   "source": [
    "from keras.models import Sequential\n",
    "from keras.layers import Conv1D, Conv2D, Flatten, Dense, Dropout, MaxPool2D\n",
    "\n",
    "\n",
    "\n",
    "def build_model(activation_function='relu', dropout_probs=[0.55], n_kernels=5):\n",
    "    model = Sequential()\n",
    "    \n",
    "    model.add(Conv2D(n_kernels, (14, 1), padding='same', \n",
    "                    activation=activation_function, input_shape=(14, 104, 1)))\n",
    "    model.add(Conv2D(3*n_kernels, (1, 10), padding='same',\n",
    "                    activation=activation_function))\n",
    "    model.add(Flatten())\n",
    "    if len(dropout_probs) > 0:\n",
    "        model.add(Dropout(dropout_probs[0]))\n",
    "    model.add(Dense(32, activation=activation_function))\n",
    "    if len(dropout_probs) > 1:\n",
    "        model.add(Dropout(dropout_probs[1]))\n",
    "    model.add(Dense(1, activation='sigmoid'))\n",
    "\n",
    "    return model\n",
    "\n",
    "model = build_model(activation_function='sigmoid')\n",
    "\n",
    "model.compile(\n",
    "  loss='binary_crossentropy', # using the cross-entropy loss function\n",
    "  optimizer='rmsprop', \n",
    "  metrics=['accuracy']) # reporting the accuracy\n"
   ]
  },
  {
   "cell_type": "code",
   "execution_count": 12,
   "metadata": {},
   "outputs": [
    {
     "name": "stdout",
     "output_type": "stream",
     "text": [
      "Train on 36320 samples, validate on 1912 samples\n",
      "Epoch 1/3\n",
      "36288/36320 [============================>.] - ETA: 0s - loss: 1.5221 - acc: 0.1676Epoch 00001: val_loss improved from inf to 1.25939, saving model to sample_model.h5\n",
      "36320/36320 [==============================] - 39s 1ms/step - loss: 1.5220 - acc: 0.1676 - val_loss: 1.2594 - val_acc: 0.1647\n",
      "Epoch 2/3\n",
      "36288/36320 [============================>.] - ETA: 0s - loss: 1.2643 - acc: 0.1668Epoch 00002: val_loss did not improve\n",
      "36320/36320 [==============================] - 39s 1ms/step - loss: 1.2641 - acc: 0.1668 - val_loss: 1.2599 - val_acc: 0.1647\n",
      "Epoch 3/3\n",
      "36288/36320 [============================>.] - ETA: 0s - loss: 1.2643 - acc: 0.1668Epoch 00003: val_loss improved from 1.25939 to 1.25795, saving model to sample_model.h5\n",
      "36320/36320 [==============================] - 37s 1ms/step - loss: 1.2642 - acc: 0.1668 - val_loss: 1.2580 - val_acc: 0.1647\n"
     ]
    },
    {
     "data": {
      "text/plain": [
       "<keras.callbacks.History at 0x7f0f50a60c50>"
      ]
     },
     "execution_count": 12,
     "metadata": {},
     "output_type": "execute_result"
    }
   ],
   "source": [
    "from keras.callbacks import ModelCheckpoint, EarlyStopping\n",
    "\n",
    "checkpointer = ModelCheckpoint(filepath='sample_model.h5', verbose=1, save_best_only=True)\n",
    "early_stopping = EarlyStopping(monitor='val_loss', patience=2)\n",
    "\n",
    "model.fit(\n",
    "    X_train, y_train, epochs=3,\n",
    "    batch_size=64, class_weight={0:1, 1:6}, validation_split=0.05,\n",
    "    callbacks=[checkpointer, early_stopping]\n",
    ")"
   ]
  },
  {
   "cell_type": "code",
   "execution_count": 13,
   "metadata": {},
   "outputs": [
    {
     "name": "stdout",
     "output_type": "stream",
     "text": [
      "\n",
      "Accuracy   = 0.16666666666666666\n",
      "Precision  = 0.16666666666666666\n",
      "Recall     = 1.0\n",
      "ROC AUC    = 0.5\n",
      "\n"
     ]
    }
   ],
   "source": [
    "y_pred = model.predict_classes(X_test)\n",
    "y_prob = model.predict(X_test)\n",
    "\n",
    "\n",
    "from sklearn.metrics import precision_score, recall_score, roc_auc_score, accuracy_score\n",
    "\n",
    "precision = precision_score(y_test, y_pred)\n",
    "recall = recall_score(y_test, y_pred)\n",
    "auc = roc_auc_score(y_test, y_prob)\n",
    "accuracy = accuracy_score(y_test, y_pred)\n",
    "\n",
    "print(\"\"\"\n",
    "Accuracy   = {}\n",
    "Precision  = {}\n",
    "Recall     = {}\n",
    "ROC AUC    = {}\n",
    "\"\"\".format(accuracy, precision, recall, auc))"
   ]
  },
  {
   "cell_type": "markdown",
   "metadata": {},
   "source": [
    "## Usando reLU"
   ]
  },
  {
   "cell_type": "code",
   "execution_count": 14,
   "metadata": {
    "collapsed": true
   },
   "outputs": [],
   "source": [
    "model = build_model(activation_function='relu')\n",
    "\n",
    "model.compile(\n",
    "  loss='binary_crossentropy', # using the cross-entropy loss function\n",
    "  optimizer='rmsprop', \n",
    "  metrics=['accuracy']) # reporting the accuracy"
   ]
  },
  {
   "cell_type": "code",
   "execution_count": 15,
   "metadata": {},
   "outputs": [
    {
     "name": "stdout",
     "output_type": "stream",
     "text": [
      "Train on 36320 samples, validate on 1912 samples\n",
      "Epoch 1/3\n",
      "36288/36320 [============================>.] - ETA: 0s - loss: 1.2820 - acc: 0.2588Epoch 00001: val_loss improved from inf to 1.25695, saving model to sample_model.h5\n",
      "36320/36320 [==============================] - 39s 1ms/step - loss: 1.2824 - acc: 0.2588 - val_loss: 1.2570 - val_acc: 0.1763\n",
      "Epoch 2/3\n",
      "36288/36320 [============================>.] - ETA: 0s - loss: 1.2650 - acc: 0.2604Epoch 00002: val_loss improved from 1.25695 to 1.25370, saving model to sample_model.h5\n",
      "36320/36320 [==============================] - 38s 1ms/step - loss: 1.2648 - acc: 0.2605 - val_loss: 1.2537 - val_acc: 0.3687\n",
      "Epoch 3/3\n",
      "36288/36320 [============================>.] - ETA: 0s - loss: 1.2592 - acc: 0.3218Epoch 00003: val_loss improved from 1.25370 to 1.25277, saving model to sample_model.h5\n",
      "36320/36320 [==============================] - 41s 1ms/step - loss: 1.2589 - acc: 0.3216 - val_loss: 1.2528 - val_acc: 0.2312\n"
     ]
    },
    {
     "data": {
      "text/plain": [
       "<keras.callbacks.History at 0x7f0f50a60d68>"
      ]
     },
     "execution_count": 15,
     "metadata": {},
     "output_type": "execute_result"
    }
   ],
   "source": [
    "checkpointer = ModelCheckpoint(filepath='sample_model.h5', verbose=1, save_best_only=True)\n",
    "early_stopping = EarlyStopping(monitor='val_loss', patience=2)\n",
    "\n",
    "model.fit(\n",
    "    X_train, y_train, epochs=3,\n",
    "    batch_size=64, class_weight={0:1, 1:6}, validation_split=0.05,\n",
    "    callbacks=[checkpointer, early_stopping]\n",
    ")"
   ]
  },
  {
   "cell_type": "code",
   "execution_count": 16,
   "metadata": {},
   "outputs": [
    {
     "name": "stdout",
     "output_type": "stream",
     "text": [
      "\n",
      "Accuracy   = 0.2245762711864407\n",
      "Precision  = 0.16914022517911975\n",
      "Recall     = 0.9336158192090396\n",
      "ROC AUC    = 0.5694113281624055\n",
      "\n"
     ]
    }
   ],
   "source": [
    "y_pred = model.predict_classes(X_test)\n",
    "y_prob = model.predict(X_test)\n",
    "\n",
    "\n",
    "from sklearn.metrics import precision_score, recall_score, roc_auc_score, accuracy_score\n",
    "\n",
    "precision = precision_score(y_test, y_pred)\n",
    "recall = recall_score(y_test, y_pred)\n",
    "auc = roc_auc_score(y_test, y_prob)\n",
    "accuracy = accuracy_score(y_test, y_pred)\n",
    "\n",
    "print(\"\"\"\n",
    "Accuracy   = {}\n",
    "Precision  = {}\n",
    "Recall     = {}\n",
    "ROC AUC    = {}\n",
    "\"\"\".format(accuracy, precision, recall, auc))"
   ]
  },
  {
   "cell_type": "code",
   "execution_count": null,
   "metadata": {
    "collapsed": true
   },
   "outputs": [],
   "source": []
  }
 ],
 "metadata": {
  "kernelspec": {
   "display_name": "Python 3",
   "language": "python",
   "name": "python3"
  },
  "language_info": {
   "codemirror_mode": {
    "name": "ipython",
    "version": 3
   },
   "file_extension": ".py",
   "mimetype": "text/x-python",
   "name": "python",
   "nbconvert_exporter": "python",
   "pygments_lexer": "ipython3",
   "version": "3.6.0"
  }
 },
 "nbformat": 4,
 "nbformat_minor": 2
}
