{
 "cells": [
  {
   "cell_type": "markdown",
   "metadata": {},
   "source": [
    "# CNN for many subjects"
   ]
  },
  {
   "cell_type": "code",
   "execution_count": 1,
   "metadata": {},
   "outputs": [
    {
     "name": "stdout",
     "output_type": "stream",
     "text": [
      "Using matplotlib backend: TkAgg\n",
      "Populating the interactive namespace from numpy and matplotlib\n"
     ]
    }
   ],
   "source": [
    "%pylab\n",
    "%matplotlib inline\n",
    "\n",
    "import glob\n",
    "import os\n",
    "import mne\n",
    "CORPORA_PATH = \"~/projects/corpora/P3Speller/P3Speller-old-y-datos/sets/\"\n",
    "\n",
    "file_path = os.path.expanduser(CORPORA_PATH)\n",
    "files = glob.glob(os.path.join(file_path, \"*.set\"))\n",
    "\n",
    "def normalize_subject(X):\n",
    "    mean = X.mean(axis=(0, 2)).reshape(-1, 1)\n",
    "    std = X.std(axis=(0, 2)).reshape(-1, 1)\n",
    "    return (X - mean) / std\n",
    "\n",
    "def load_data(filename, normalize=True):\n",
    "    data_mne = mne.io.read_raw_eeglab(filename, preload=True, event_id={\"0\": 1, \"1\": 2})\n",
    "    data_mne.filter(0, 20)\n",
    "    events = mne.find_events(data_mne)\n",
    "    epochs = mne.Epochs(\n",
    "        data_mne, events,\n",
    "        baseline=(None, 0), tmin=-0.1, tmax=0.7)\n",
    "\n",
    "    epochs.load_data()\n",
    "    \n",
    "    ch_names = epochs.ch_names\n",
    "    \n",
    "    X = epochs.get_data()[:, :-1]\n",
    "    y = (events[:, 2] == 2).astype('float')\n",
    "\n",
    "    if normalize: \n",
    "        X = normalize_subject(X)\n",
    "    \n",
    "    return X, y \n"
   ]
  },
  {
   "cell_type": "markdown",
   "metadata": {},
   "source": [
    "Targets appear as 2 in the third column\n",
    "\n",
    "\n",
    "We remove last channel as well"
   ]
  },
  {
   "cell_type": "markdown",
   "metadata": {},
   "source": [
    "# CNN with more data"
   ]
  },
  {
   "cell_type": "code",
   "execution_count": 2,
   "metadata": {},
   "outputs": [
    {
     "name": "stdout",
     "output_type": "stream",
     "text": [
      "['/home/jmperez/projects/corpora/P3Speller/P3Speller-old-y-datos/sets/PruebasMuseo_29426001.set', '/home/jmperez/projects/corpora/P3Speller/P3Speller-old-y-datos/sets/PruebasMuseo_12521001.set', '/home/jmperez/projects/corpora/P3Speller/P3Speller-old-y-datos/sets/PruebasMuseo_14023001.set', '/home/jmperez/projects/corpora/P3Speller/P3Speller-old-y-datos/sets/PruebasMuseo_18531001.set', '/home/jmperez/projects/corpora/P3Speller/P3Speller-old-y-datos/sets/PruebasMuseo_16893001.set', '/home/jmperez/projects/corpora/P3Speller/P3Speller-old-y-datos/sets/PruebasMuseo_945001.set', '/home/jmperez/projects/corpora/P3Speller/P3Speller-old-y-datos/sets/PruebasMuseo_23794001.set', '/home/jmperez/projects/corpora/P3Speller/P3Speller-old-y-datos/sets/PruebasMuseo_1414001.set', '/home/jmperez/projects/corpora/P3Speller/P3Speller-old-y-datos/sets/PruebasMuseo_5568001.set', '/home/jmperez/projects/corpora/P3Speller/P3Speller-old-y-datos/sets/PruebasMuseo_27946001.set']\n",
      "Reading /home/jmperez/projects/corpora/P3Speller/P3Speller-old-y-datos/sets/PruebasMuseo_29426001.fdt\n",
      "Reading 0 ... 69503  =      0.000 ...   542.992 secs...\n",
      "Setting up low-pass filter at 20 Hz\n",
      "h_trans_bandwidth chosen to be 5.0 Hz\n",
      "Filter length of 169 samples (1.320 sec) selected\n",
      "1980 events found\n",
      "Events id: [1 2]\n",
      "1980 matching events found\n",
      "0 projection items activated\n",
      "Loading data for 1980 events and 104 original time points ...\n",
      "0 bad epochs dropped\n",
      "Reading /home/jmperez/projects/corpora/P3Speller/P3Speller-old-y-datos/sets/PruebasMuseo_12521001.fdt\n",
      "Reading 0 ... 69503  =      0.000 ...   542.992 secs...\n",
      "Setting up low-pass filter at 20 Hz\n",
      "h_trans_bandwidth chosen to be 5.0 Hz\n",
      "Filter length of 169 samples (1.320 sec) selected\n",
      "1980 events found\n",
      "Events id: [1 2]\n",
      "1980 matching events found\n",
      "0 projection items activated\n",
      "Loading data for 1980 events and 104 original time points ...\n",
      "0 bad epochs dropped\n",
      "(1980, 14, 104) (1980, 14, 104)\n",
      "(1980,) (1980,)\n",
      "Reading /home/jmperez/projects/corpora/P3Speller/P3Speller-old-y-datos/sets/PruebasMuseo_14023001.fdt\n",
      "Reading 0 ... 94591  =      0.000 ...   738.992 secs...\n",
      "Setting up low-pass filter at 20 Hz\n",
      "h_trans_bandwidth chosen to be 5.0 Hz\n",
      "Filter length of 169 samples (1.320 sec) selected\n",
      "2700 events found\n",
      "Events id: [1 2]\n",
      "2700 matching events found\n",
      "0 projection items activated\n",
      "Loading data for 2700 events and 104 original time points ...\n",
      "0 bad epochs dropped\n",
      "(3960, 14, 104) (2700, 14, 104)\n",
      "(3960, 1) (2700,)\n",
      "Reading /home/jmperez/projects/corpora/P3Speller/P3Speller-old-y-datos/sets/PruebasMuseo_18531001.fdt\n",
      "Reading 0 ... 69503  =      0.000 ...   542.992 secs...\n",
      "Setting up low-pass filter at 20 Hz\n",
      "h_trans_bandwidth chosen to be 5.0 Hz\n",
      "Filter length of 169 samples (1.320 sec) selected\n",
      "1980 events found\n",
      "Events id: [1 2]\n",
      "1980 matching events found\n",
      "0 projection items activated\n",
      "Loading data for 1980 events and 104 original time points ...\n",
      "0 bad epochs dropped\n",
      "(6660, 14, 104) (1980, 14, 104)\n",
      "(6660, 1) (1980,)\n",
      "Reading /home/jmperez/projects/corpora/P3Speller/P3Speller-old-y-datos/sets/PruebasMuseo_16893001.fdt\n",
      "Reading 0 ... 94591  =      0.000 ...   738.992 secs...\n",
      "Setting up low-pass filter at 20 Hz\n",
      "h_trans_bandwidth chosen to be 5.0 Hz\n",
      "Filter length of 169 samples (1.320 sec) selected\n",
      "2700 events found\n",
      "Events id: [1 2]\n",
      "2700 matching events found\n",
      "0 projection items activated\n",
      "Loading data for 2700 events and 104 original time points ...\n",
      "0 bad epochs dropped\n",
      "(8640, 14, 104) (2700, 14, 104)\n",
      "(8640, 1) (2700,)\n",
      "Reading /home/jmperez/projects/corpora/P3Speller/P3Speller-old-y-datos/sets/PruebasMuseo_945001.fdt\n",
      "Reading 0 ... 94591  =      0.000 ...   738.992 secs...\n",
      "Setting up low-pass filter at 20 Hz\n",
      "h_trans_bandwidth chosen to be 5.0 Hz\n",
      "Filter length of 169 samples (1.320 sec) selected\n",
      "2700 events found\n",
      "Events id: [1 2]\n",
      "2700 matching events found\n",
      "0 projection items activated\n",
      "Loading data for 2700 events and 104 original time points ...\n",
      "0 bad epochs dropped\n",
      "(11340, 14, 104) (2700, 14, 104)\n",
      "(11340, 1) (2700,)\n",
      "Reading /home/jmperez/projects/corpora/P3Speller/P3Speller-old-y-datos/sets/PruebasMuseo_23794001.fdt\n",
      "Reading 0 ... 88319  =      0.000 ...   689.992 secs...\n",
      "Setting up low-pass filter at 20 Hz\n",
      "h_trans_bandwidth chosen to be 5.0 Hz\n",
      "Filter length of 169 samples (1.320 sec) selected\n",
      "2520 events found\n",
      "Events id: [1 2]\n",
      "2520 matching events found\n",
      "0 projection items activated\n",
      "Loading data for 2520 events and 104 original time points ...\n",
      "0 bad epochs dropped\n",
      "(14040, 14, 104) (2520, 14, 104)\n",
      "(14040, 1) (2520,)\n",
      "Reading /home/jmperez/projects/corpora/P3Speller/P3Speller-old-y-datos/sets/PruebasMuseo_1414001.fdt\n",
      "Reading 0 ... 88319  =      0.000 ...   689.992 secs...\n",
      "Setting up low-pass filter at 20 Hz\n",
      "h_trans_bandwidth chosen to be 5.0 Hz\n",
      "Filter length of 169 samples (1.320 sec) selected\n",
      "2520 events found\n",
      "Events id: [1 2]\n",
      "2520 matching events found\n",
      "0 projection items activated\n",
      "Loading data for 2520 events and 104 original time points ...\n",
      "0 bad epochs dropped\n",
      "(16560, 14, 104) (2520, 14, 104)\n",
      "(16560, 1) (2520,)\n",
      "Reading /home/jmperez/projects/corpora/P3Speller/P3Speller-old-y-datos/sets/PruebasMuseo_5568001.fdt\n",
      "Reading 0 ... 69503  =      0.000 ...   542.992 secs...\n",
      "Setting up low-pass filter at 20 Hz\n",
      "h_trans_bandwidth chosen to be 5.0 Hz\n",
      "Filter length of 169 samples (1.320 sec) selected\n",
      "1980 events found\n",
      "Events id: [1 2]\n",
      "1980 matching events found\n",
      "0 projection items activated\n",
      "Loading data for 1980 events and 104 original time points ...\n",
      "0 bad epochs dropped\n",
      "(19080, 14, 104) (1980, 14, 104)\n",
      "(19080, 1) (1980,)\n",
      "Reading /home/jmperez/projects/corpora/P3Speller/P3Speller-old-y-datos/sets/PruebasMuseo_27946001.fdt\n",
      "Reading 0 ... 88319  =      0.000 ...   689.992 secs...\n",
      "Setting up low-pass filter at 20 Hz\n",
      "h_trans_bandwidth chosen to be 5.0 Hz\n",
      "Filter length of 169 samples (1.320 sec) selected\n",
      "2520 events found\n",
      "Events id: [1 2]\n",
      "2520 matching events found\n",
      "0 projection items activated\n",
      "Loading data for 2520 events and 104 original time points ...\n",
      "0 bad epochs dropped\n",
      "(21060, 14, 104) (2520, 14, 104)\n",
      "(21060, 1) (2520,)\n"
     ]
    }
   ],
   "source": [
    "from IPython.core.debugger import set_trace as bp\n",
    "\n",
    "filenames = files[:10]\n",
    "\n",
    "\n",
    "X = None\n",
    "y = None\n",
    "print(filenames)\n",
    "for filename in filenames:\n",
    "    X_subject, y_subject = load_data(filename)\n",
    "    \n",
    "    if X is None:\n",
    "        X, y = X_subject, y_subject\n",
    "    else:\n",
    "        print(X.shape, X_subject.shape)\n",
    "        X = np.vstack((X, X_subject))\n",
    "        print(y.shape, y_subject.shape)\n",
    "        y = np.vstack((y.reshape(-1,1), y_subject.reshape(-1,1)))"
   ]
  },
  {
   "cell_type": "code",
   "execution_count": 3,
   "metadata": {},
   "outputs": [
    {
     "data": {
      "text/plain": [
       "(23580, 14, 104)"
      ]
     },
     "execution_count": 3,
     "metadata": {},
     "output_type": "execute_result"
    }
   ],
   "source": [
    "X.shape"
   ]
  },
  {
   "cell_type": "code",
   "execution_count": 4,
   "metadata": {},
   "outputs": [
    {
     "data": {
      "text/plain": [
       "(23580, 14, 104, 1)"
      ]
     },
     "execution_count": 4,
     "metadata": {},
     "output_type": "execute_result"
    }
   ],
   "source": [
    "X_t = X[:, :, :, np.newaxis]\n",
    "\n",
    "X_t.shape"
   ]
  },
  {
   "cell_type": "code",
   "execution_count": 5,
   "metadata": {},
   "outputs": [
    {
     "data": {
      "text/plain": [
       "((21222, 14, 104, 1), (21222, 1))"
      ]
     },
     "execution_count": 5,
     "metadata": {},
     "output_type": "execute_result"
    }
   ],
   "source": [
    "from sklearn.model_selection import train_test_split\n",
    "\n",
    "X_train, X_test, y_train, y_test= train_test_split(X_t, y, test_size=0.1, stratify=y)\n",
    "\n",
    "X_train.shape, y_train.shape"
   ]
  },
  {
   "cell_type": "code",
   "execution_count": 6,
   "metadata": {},
   "outputs": [
    {
     "name": "stderr",
     "output_type": "stream",
     "text": [
      "Using TensorFlow backend.\n",
      "/home/jmperez/.pyenv/versions/3.6.0/lib/python3.6/importlib/_bootstrap.py:205: RuntimeWarning: compiletime version 3.5 of module 'tensorflow.python.framework.fast_tensor_util' does not match runtime version 3.6\n",
      "  return f(*args, **kwds)\n"
     ]
    }
   ],
   "source": [
    "from keras.models import Sequential\n",
    "from keras.layers import Conv1D, Conv2D, Flatten, Dense, Dropout\n",
    "\n",
    "model = Sequential()\n",
    "\n",
    "n_kernels = 10\n",
    "model.add(Conv2D(n_kernels, (14, 1), padding='same', \n",
    "                activation='relu', input_shape=(14, 104, 1)))\n",
    "model.add(Conv2D(5*n_kernels, (1, 13), padding='same',\n",
    "                activation='relu'))\n",
    "model.add(Flatten())\n",
    "model.add(Dropout(0.55))\n",
    "model.add(Dense(128, activation='relu'))\n",
    "model.add(Dense(1, activation='sigmoid'))\n",
    "\n",
    "model.compile(loss='binary_crossentropy', # using the cross-entropy loss function\n",
    "              optimizer='adam', \n",
    "              metrics=['accuracy']) # reporting the accuracy\n"
   ]
  },
  {
   "cell_type": "code",
   "execution_count": 7,
   "metadata": {},
   "outputs": [
    {
     "name": "stdout",
     "output_type": "stream",
     "text": [
      "Epoch 1/10\n",
      "21222/21222 [==============================] - 88s 4ms/step - loss: 1.2710 - acc: 0.3392\n",
      "Epoch 2/10\n",
      "21222/21222 [==============================] - 91s 4ms/step - loss: 1.2104 - acc: 0.5309\n",
      "Epoch 3/10\n",
      "21222/21222 [==============================] - 90s 4ms/step - loss: 1.1759 - acc: 0.5698\n",
      "Epoch 4/10\n",
      "21222/21222 [==============================] - 85s 4ms/step - loss: 1.1210 - acc: 0.6296\n",
      "Epoch 5/10\n",
      "21222/21222 [==============================] - 85s 4ms/step - loss: 1.0518 - acc: 0.6784\n",
      "Epoch 6/10\n",
      "21222/21222 [==============================] - 85s 4ms/step - loss: 0.9650 - acc: 0.7236\n",
      "Epoch 7/10\n",
      "21222/21222 [==============================] - 89s 4ms/step - loss: 0.8866 - acc: 0.7522\n",
      "Epoch 8/10\n",
      "21222/21222 [==============================] - 85s 4ms/step - loss: 0.7534 - acc: 0.8036\n",
      "Epoch 9/10\n",
      "21222/21222 [==============================] - 85s 4ms/step - loss: 0.6599 - acc: 0.8340\n",
      "Epoch 10/10\n",
      "21222/21222 [==============================] - 85s 4ms/step - loss: 0.5494 - acc: 0.8683\n"
     ]
    },
    {
     "data": {
      "text/plain": [
       "<keras.callbacks.History at 0x7f44541fab38>"
      ]
     },
     "execution_count": 7,
     "metadata": {},
     "output_type": "execute_result"
    }
   ],
   "source": [
    "model.fit(X_train, y_train, epochs=10, batch_size=64, class_weight={0:1, 1:6})"
   ]
  },
  {
   "cell_type": "code",
   "execution_count": 8,
   "metadata": {},
   "outputs": [
    {
     "name": "stdout",
     "output_type": "stream",
     "text": [
      "\n",
      "Accuracy   = 0.7039864291772688\n",
      "Precision  = 0.22621184919210055\n",
      "Recall     = 0.32061068702290074\n",
      "ROC AUC    = 0.592593024234537\n",
      "\n"
     ]
    }
   ],
   "source": [
    "y_pred = model.predict_classes(X_test)\n",
    "y_prob = model.predict(X_test)\n",
    "#np.hstack((y_prob, y_pred, y_test.reshape(-1, 1)))\n",
    "\n",
    "from sklearn.metrics import precision_score, recall_score, roc_auc_score, accuracy_score\n",
    "\n",
    "precision = precision_score(y_test, y_pred)\n",
    "recall = recall_score(y_test, y_pred)\n",
    "auc = roc_auc_score(y_test, y_prob)\n",
    "accuracy = accuracy_score(y_test, y_pred)\n",
    "\n",
    "print(\"\"\"\n",
    "Accuracy   = {}\n",
    "Precision  = {}\n",
    "Recall     = {}\n",
    "ROC AUC    = {}\n",
    "\"\"\".format(accuracy, precision, recall, auc))"
   ]
  },
  {
   "cell_type": "code",
   "execution_count": null,
   "metadata": {
    "collapsed": true
   },
   "outputs": [],
   "source": []
  }
 ],
 "metadata": {
  "kernelspec": {
   "display_name": "Python 3",
   "language": "python",
   "name": "python3"
  },
  "language_info": {
   "codemirror_mode": {
    "name": "ipython",
    "version": 3
   },
   "file_extension": ".py",
   "mimetype": "text/x-python",
   "name": "python",
   "nbconvert_exporter": "python",
   "pygments_lexer": "ipython3",
   "version": "3.6.0"
  }
 },
 "nbformat": 4,
 "nbformat_minor": 2
}
