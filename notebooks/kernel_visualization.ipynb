{
 "cells": [
  {
   "cell_type": "markdown",
   "metadata": {},
   "source": [
    "## Visualization of filters\n",
    "\n",
    "In this notebook, we want to visualize the trained filters of the model"
   ]
  },
  {
   "cell_type": "code",
   "execution_count": 1,
   "metadata": {},
   "outputs": [
    {
     "name": "stderr",
     "output_type": "stream",
     "text": [
      "Using TensorFlow backend.\n",
      "/home/jmperez/.pyenv/versions/3.6.0/lib/python3.6/importlib/_bootstrap.py:205: RuntimeWarning: compiletime version 3.5 of module 'tensorflow.python.framework.fast_tensor_util' does not match runtime version 3.6\n",
      "  return f(*args, **kwds)\n"
     ]
    }
   ],
   "source": [
    "%matplotlib inline\n",
    "from keras.models import load_model\n",
    "\n",
    "channels = ['AF3', 'F7', 'F3', 'FC5', 'T7', 'P7', 'O1', 'O2', 'P8', 'T8', 'FC6', 'F4', 'F8', 'AF4']\n",
    "\n",
    "model = load_model(\"models/model.h5\")\n",
    "\n"
   ]
  },
  {
   "cell_type": "code",
   "execution_count": 2,
   "metadata": {},
   "outputs": [
    {
     "data": {
      "text/plain": [
       "[<keras.layers.convolutional.Conv2D at 0x7fb3dde95e80>,\n",
       " <keras.layers.convolutional.Conv2D at 0x7fb3ddea8198>,\n",
       " <keras.layers.core.Flatten at 0x7fb3ddea8128>,\n",
       " <keras.layers.core.Dropout at 0x7fb3dde6d9b0>,\n",
       " <keras.layers.core.Dense at 0x7fb3ddea8080>,\n",
       " <keras.layers.core.Dense at 0x7fb3dde85b00>]"
      ]
     },
     "execution_count": 2,
     "metadata": {},
     "output_type": "execute_result"
    }
   ],
   "source": [
    "model.layers"
   ]
  },
  {
   "cell_type": "code",
   "execution_count": 3,
   "metadata": {},
   "outputs": [
    {
     "data": {
      "text/plain": [
       "(14, 1, 1, 12)"
      ]
     },
     "execution_count": 3,
     "metadata": {},
     "output_type": "execute_result"
    }
   ],
   "source": [
    "weights, biases = model.layers[0].get_weights()\n",
    "\n",
    "weights.shape"
   ]
  },
  {
   "cell_type": "code",
   "execution_count": 4,
   "metadata": {},
   "outputs": [
    {
     "data": {
      "text/plain": [
       "(1, 13, 12, 60)"
      ]
     },
     "execution_count": 4,
     "metadata": {},
     "output_type": "execute_result"
    }
   ],
   "source": [
    "model.layers[1].get_weights()[0].shape"
   ]
  },
  {
   "cell_type": "markdown",
   "metadata": {},
   "source": [
    "Let's plot the filters as a colour map"
   ]
  },
  {
   "cell_type": "code",
   "execution_count": 5,
   "metadata": {},
   "outputs": [
    {
     "data": {
      "text/plain": [
       "array([[[ 0.05114569]],\n",
       "\n",
       "       [[ 0.03630286]],\n",
       "\n",
       "       [[-0.02820022]],\n",
       "\n",
       "       [[-0.06102237]],\n",
       "\n",
       "       [[ 0.14062594]],\n",
       "\n",
       "       [[-0.04237495]],\n",
       "\n",
       "       [[-0.13203271]],\n",
       "\n",
       "       [[-0.00346575]],\n",
       "\n",
       "       [[ 0.09909452]],\n",
       "\n",
       "       [[ 0.11924843]],\n",
       "\n",
       "       [[ 0.00316611]],\n",
       "\n",
       "       [[-0.04805216]],\n",
       "\n",
       "       [[-0.12032263]],\n",
       "\n",
       "       [[-0.01655607]]], dtype=float32)"
      ]
     },
     "execution_count": 5,
     "metadata": {},
     "output_type": "execute_result"
    }
   ],
   "source": [
    "weights[..., 1]"
   ]
  },
  {
   "cell_type": "code",
   "execution_count": 6,
   "metadata": {},
   "outputs": [
    {
     "data": {
      "image/png": "[encoded data removed]",
      "text/plain": [
       "<matplotlib.figure.Figure at 0x7fb3dd8db128>"
      ]
     },
     "metadata": {},
     "output_type": "display_data"
    }
   ],
   "source": [
    "import matplotlib.pyplot as plt\n",
    "import numpy as np\n",
    "\n",
    "plt.rcParams['figure.figsize'] = (20, 5)\n",
    "\n",
    "for i in range(12):\n",
    "    plt.subplot(4,2,i+1)\n",
    "    plt.imshow(weights[..., i].reshape(1, 14), cmap=plt.cm.gray_r)\n",
    "    plt.xticks(range(14), channels)\n",
    "    plt.yticks(range(1), [''])\n",
    "    \n",
    "\n",
    "plt.savefig(\"channel_filters.png\")"
   ]
  },
  {
   "cell_type": "markdown",
   "metadata": {
    "collapsed": true
   },
   "source": [
    "## Second Layer Filters"
   ]
  },
  {
   "cell_type": "code",
   "execution_count": 7,
   "metadata": {},
   "outputs": [
    {
     "data": {
      "text/plain": [
       "(1, 13, 12, 60)"
      ]
     },
     "execution_count": 7,
     "metadata": {},
     "output_type": "execute_result"
    }
   ],
   "source": [
    "weights, biases = model.layers[1].get_weights()\n",
    "\n",
    "weights.shape"
   ]
  }
 ],
 "metadata": {
  "kernelspec": {
   "display_name": "Python 3",
   "language": "python",
   "name": "python3"
  },
  "language_info": {
   "codemirror_mode": {
    "name": "ipython",
    "version": 3
   },
   "file_extension": ".py",
   "mimetype": "text/x-python",
   "name": "python",
   "nbconvert_exporter": "python",
   "pygments_lexer": "ipython3",
   "version": "3.6.0"
  }
 },
 "nbformat": 4,
 "nbformat_minor": 2
}
