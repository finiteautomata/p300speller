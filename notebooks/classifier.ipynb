{
 "cells": [
  {
   "cell_type": "markdown",
   "metadata": {},
   "source": [
    "# Decision Tree classification\n"
   ]
  },
  {
   "cell_type": "code",
   "execution_count": 1,
   "metadata": {
    "collapsed": true
   },
   "outputs": [],
   "source": [
    "%load_ext autoreload\n",
    "%autoreload 2\n",
    "%matplotlib inline\n",
    "import os\n",
    "os.chdir(\"..\")"
   ]
  },
  {
   "cell_type": "code",
   "execution_count": 2,
   "metadata": {
    "collapsed": true
   },
   "outputs": [],
   "source": [
    "from IPython.core.debugger import Tracer\n",
    "import pandas as pd\n",
    "import numpy as np\n",
    "import seaborn\n",
    "import matplotlib.pyplot as plt\n",
    "from scipy.signal import welch\n",
    "from IPython.core.debugger import Tracer\n",
    "from sklearn_pandas import DataFrameMapper, cross_val_score\n",
    "from p300.feature_extraction import BaseTransformer"
   ]
  },
  {
   "cell_type": "code",
   "execution_count": 3,
   "metadata": {},
   "outputs": [
    {
     "name": "stdout",
     "output_type": "stream",
     "text": [
      "Index(['id', 'array_path', 'ch_names', 'event_time', 'event_type', 'index',\n",
      "       'sfreq', 'subject_id', 'target', 'frequencyextractor__AF3_2.56hz',\n",
      "       ...\n",
      "       'subsamplingextractor__AF4_16', 'subsamplingextractor__AF4_17',\n",
      "       'subsamplingextractor__AF4_18', 'subsamplingextractor__AF4_19',\n",
      "       'subsamplingextractor__AF4_20', 'subsamplingextractor__AF4_21',\n",
      "       'subsamplingextractor__AF4_22', 'subsamplingextractor__AF4_23',\n",
      "       'subsamplingextractor__AF4_24', 'subsamplingextractor__AF4_25'],\n",
      "      dtype='object', length=471)\n"
     ]
    }
   ],
   "source": [
    "df = pd.read_csv(\"output/instances.csv\")\n",
    "\n",
    "print(df.columns)"
   ]
  },
  {
   "cell_type": "markdown",
   "metadata": {},
   "source": [
    "Veamos cuántos sujetos tenemos"
   ]
  },
  {
   "cell_type": "code",
   "execution_count": 5,
   "metadata": {},
   "outputs": [
    {
     "data": {
      "text/plain": [
       "array([29426001, 12521001, 14023001, 18531001, 16893001,   945001,\n",
       "       23794001,  1414001,  5568001, 27946001, 25922001, 27163001,\n",
       "       10229001, 16683001, 24540001, 17674001, 23298001, 27030001,\n",
       "       24888001, 20668001,  1635001, 13431001, 27157001, 24053001,\n",
       "       11632001,  1609001, 29789001,  8762001, 16943001, 26715001,\n",
       "          36001,  7615001, 19561001, 29164001, 32459001, 16779001,\n",
       "       26721001,  2215001, 22109001,  9689001,   499001, 20947001,\n",
       "       15641001, 31397001,  3703001, 25217001, 11551001, 14998001,\n",
       "       29063004, 29257001, 20688001,  5510001, 24227001, 23732001,\n",
       "        9503001, 13252001,  4824001, 16637001,  7330001,   630001,\n",
       "       29273001, 21601001, 11693001, 16266001, 18112001, 25302001,\n",
       "       22072001, 27496001, 12702001, 27131001, 12137001,  5857001,\n",
       "        3109001, 17435001,  6830001, 10882001,  8834001, 27846001,\n",
       "        7488001, 10924001, 12168001, 13235001,  5224001, 18077001,\n",
       "       15424001, 23272001, 25871001, 31102001, 17005001, 24101001,\n",
       "        4305001,   255001, 32505001, 28005001,  8982001, 15362001,\n",
       "       26333001,  2089001, 28970001,  1491001, 26636001,  4971001,\n",
       "       31056001,  6694001,  7385001, 17576001, 30261001, 22233001,\n",
       "         782001, 11627001, 10444001,  3195001, 13640002, 19491001,\n",
       "        9809001,  5251001, 22650001,  3942001, 17436001, 31777001,\n",
       "       12900001, 21120001,   232001, 17962001,  7610001,  3800001,\n",
       "       23344001, 18967001, 18046001, 10729001, 30243001, 19845001,\n",
       "       22337001, 13863001,  4949001,  2681001, 27058001, 16003001,\n",
       "       21668001,   358001,  2109001])"
      ]
     },
     "execution_count": 5,
     "metadata": {},
     "output_type": "execute_result"
    }
   ],
   "source": [
    "df.set_index(\"id\", inplace=True)\n",
    "df.subject_id.unique()"
   ]
  },
  {
   "cell_type": "markdown",
   "metadata": {},
   "source": [
    "Tomemos uno: 29164001"
   ]
  },
  {
   "cell_type": "code",
   "execution_count": 7,
   "metadata": {},
   "outputs": [],
   "source": [
    "one_subject = df[df.subject_id == 29164001]"
   ]
  },
  {
   "cell_type": "code",
   "execution_count": 16,
   "metadata": {},
   "outputs": [],
   "source": [
    "non_features = ['id', 'array_path', 'ch_names', 'event_time', 'event_type', 'index',\n",
    "       'sfreq', 'subject_id', 'target']\n",
    "y = one_subject.target.as_matrix()\n",
    "\n",
    "X = one_subject[one_subject.columns.difference(non_features)].as_matrix()"
   ]
  },
  {
   "cell_type": "markdown",
   "metadata": {},
   "source": [
    "# DecisionTree"
   ]
  },
  {
   "cell_type": "code",
   "execution_count": 21,
   "metadata": {
    "collapsed": true
   },
   "outputs": [],
   "source": [
    "from sklearn.tree import DecisionTreeClassifier\n",
    "from sklearn.model_selection import cross_val_score"
   ]
  },
  {
   "cell_type": "code",
   "execution_count": 19,
   "metadata": {},
   "outputs": [
    {
     "data": {
      "text/plain": [
       "(1800, 470)"
      ]
     },
     "execution_count": 19,
     "metadata": {},
     "output_type": "execute_result"
    }
   ],
   "source": [
    "one_subject.shape"
   ]
  },
  {
   "cell_type": "code",
   "execution_count": 27,
   "metadata": {
    "collapsed": true
   },
   "outputs": [],
   "source": [
    "clf = DecisionTreeClassifier(max_depth=100)"
   ]
  },
  {
   "cell_type": "code",
   "execution_count": null,
   "metadata": {},
   "outputs": [],
   "source": [
    "cross_val_score(clf, X, y, scoring='roc_auc', cv=10).mean()"
   ]
  },
  {
   "cell_type": "code",
   "execution_count": null,
   "metadata": {
    "collapsed": true
   },
   "outputs": [],
   "source": []
  }
 ],
 "metadata": {
  "kernelspec": {
   "display_name": "Python 3",
   "language": "python",
   "name": "python3"
  },
  "language_info": {
   "codemirror_mode": {
    "name": "ipython",
    "version": 3
   },
   "file_extension": ".py",
   "mimetype": "text/x-python",
   "name": "python",
   "nbconvert_exporter": "python",
   "pygments_lexer": "ipython3",
   "version": "3.5.1"
  }
 },
 "nbformat": 4,
 "nbformat_minor": 2
}
