{
 "cells": [
  {
   "cell_type": "markdown",
   "metadata": {},
   "source": [
    "# HDF5 Storage\n",
    "\n",
    "Let's convert our big dataframe into hdf.."
   ]
  },
  {
   "cell_type": "code",
   "execution_count": 1,
   "metadata": {
    "collapsed": true
   },
   "outputs": [],
   "source": [
    "%load_ext autoreload\n",
    "%autoreload 2\n",
    "%matplotlib inline\n",
    "import os\n",
    "\n",
    "os.chdir(\"../..\")"
   ]
  },
  {
   "cell_type": "code",
   "execution_count": 39,
   "metadata": {
    "collapsed": true
   },
   "outputs": [],
   "source": [
    "import pandas as pd\n",
    "import numpy as np"
   ]
  },
  {
   "cell_type": "code",
   "execution_count": 40,
   "metadata": {
    "collapsed": true
   },
   "outputs": [],
   "source": [
    "hdf = pd.HDFStore('tmp/storage.h5')\n",
    "hdf.put('tables/t1', pd.DataFrame(np.random.rand(20,5)), format=\"t\")\n",
    "hdf.put('tables/t2',pd.DataFrame(np.random.rand(10,3)))\n",
    "hdf.put('new_tables/t1', pd.DataFrame(np.random.rand(15,2)))"
   ]
  },
  {
   "cell_type": "code",
   "execution_count": 41,
   "metadata": {},
   "outputs": [
    {
     "name": "stdout",
     "output_type": "stream",
     "text": [
      "Help on method put in module pandas.io.pytables:\n",
      "\n",
      "put(key, value, format=None, append=False, **kwargs) method of pandas.io.pytables.HDFStore instance\n",
      "    Store object in HDFStore\n",
      "    \n",
      "    Parameters\n",
      "    ----------\n",
      "    key      : object\n",
      "    value    : {Series, DataFrame, Panel}\n",
      "    format   : 'fixed(f)|table(t)', default is 'fixed'\n",
      "        fixed(f) : Fixed format\n",
      "                   Fast writing/reading. Not-appendable, nor searchable\n",
      "        table(t) : Table format\n",
      "                   Write as a PyTables Table structure which may perform\n",
      "                   worse but allow more flexible operations like searching\n",
      "                   / selecting subsets of the data\n",
      "    append   : boolean, default False\n",
      "        This will force Table format, append the input data to the\n",
      "        existing.\n",
      "    data_columns : list of columns to create as data columns, or True to\n",
      "        use all columns. See\n",
      "        `here <http://pandas.pydata.org/pandas-docs/stable/io.html#query-via-data-columns>`__ # noqa\n",
      "    encoding : default None, provide an encoding for strings\n",
      "    dropna   : boolean, default False, do not write an ALL nan row to\n",
      "        the store settable by the option 'io.hdf.dropna_table'\n",
      "\n"
     ]
    }
   ],
   "source": [
    "help(hdf.put)"
   ]
  },
  {
   "cell_type": "code",
   "execution_count": 42,
   "metadata": {},
   "outputs": [
    {
     "data": {
      "text/html": [
       "<div>\n",
       "<style>\n",
       "    .dataframe thead tr:only-child th {\n",
       "        text-align: right;\n",
       "    }\n",
       "\n",
       "    .dataframe thead th {\n",
       "        text-align: left;\n",
       "    }\n",
       "\n",
       "    .dataframe tbody tr th {\n",
       "        vertical-align: top;\n",
       "    }\n",
       "</style>\n",
       "<table border=\"1\" class=\"dataframe\">\n",
       "  <thead>\n",
       "    <tr style=\"text-align: right;\">\n",
       "      <th></th>\n",
       "      <th>0</th>\n",
       "      <th>1</th>\n",
       "      <th>2</th>\n",
       "      <th>3</th>\n",
       "      <th>4</th>\n",
       "    </tr>\n",
       "  </thead>\n",
       "  <tbody>\n",
       "    <tr>\n",
       "      <th>0</th>\n",
       "      <td>0.179183</td>\n",
       "      <td>0.267437</td>\n",
       "      <td>0.722251</td>\n",
       "      <td>0.106144</td>\n",
       "      <td>0.349499</td>\n",
       "    </tr>\n",
       "    <tr>\n",
       "      <th>1</th>\n",
       "      <td>0.078775</td>\n",
       "      <td>0.806350</td>\n",
       "      <td>0.569484</td>\n",
       "      <td>0.746635</td>\n",
       "      <td>0.812667</td>\n",
       "    </tr>\n",
       "    <tr>\n",
       "      <th>2</th>\n",
       "      <td>0.499658</td>\n",
       "      <td>0.748355</td>\n",
       "      <td>0.086639</td>\n",
       "      <td>0.685492</td>\n",
       "      <td>0.257722</td>\n",
       "    </tr>\n",
       "    <tr>\n",
       "      <th>3</th>\n",
       "      <td>0.431890</td>\n",
       "      <td>0.574197</td>\n",
       "      <td>0.791111</td>\n",
       "      <td>0.434674</td>\n",
       "      <td>0.471247</td>\n",
       "    </tr>\n",
       "    <tr>\n",
       "      <th>4</th>\n",
       "      <td>0.613762</td>\n",
       "      <td>0.889421</td>\n",
       "      <td>0.394755</td>\n",
       "      <td>0.622091</td>\n",
       "      <td>0.865080</td>\n",
       "    </tr>\n",
       "    <tr>\n",
       "      <th>5</th>\n",
       "      <td>0.378108</td>\n",
       "      <td>0.740913</td>\n",
       "      <td>0.425776</td>\n",
       "      <td>0.642380</td>\n",
       "      <td>0.453861</td>\n",
       "    </tr>\n",
       "    <tr>\n",
       "      <th>6</th>\n",
       "      <td>0.025230</td>\n",
       "      <td>0.708406</td>\n",
       "      <td>0.892937</td>\n",
       "      <td>0.308665</td>\n",
       "      <td>0.466234</td>\n",
       "    </tr>\n",
       "    <tr>\n",
       "      <th>7</th>\n",
       "      <td>0.725209</td>\n",
       "      <td>0.619059</td>\n",
       "      <td>0.950994</td>\n",
       "      <td>0.509067</td>\n",
       "      <td>0.372927</td>\n",
       "    </tr>\n",
       "    <tr>\n",
       "      <th>8</th>\n",
       "      <td>0.770649</td>\n",
       "      <td>0.149383</td>\n",
       "      <td>0.683293</td>\n",
       "      <td>0.693280</td>\n",
       "      <td>0.365809</td>\n",
       "    </tr>\n",
       "    <tr>\n",
       "      <th>9</th>\n",
       "      <td>0.486929</td>\n",
       "      <td>0.506334</td>\n",
       "      <td>0.902914</td>\n",
       "      <td>0.871832</td>\n",
       "      <td>0.830428</td>\n",
       "    </tr>\n",
       "    <tr>\n",
       "      <th>10</th>\n",
       "      <td>0.379554</td>\n",
       "      <td>0.904957</td>\n",
       "      <td>0.299471</td>\n",
       "      <td>0.781480</td>\n",
       "      <td>0.777732</td>\n",
       "    </tr>\n",
       "    <tr>\n",
       "      <th>11</th>\n",
       "      <td>0.348216</td>\n",
       "      <td>0.543830</td>\n",
       "      <td>0.206904</td>\n",
       "      <td>0.256158</td>\n",
       "      <td>0.470414</td>\n",
       "    </tr>\n",
       "    <tr>\n",
       "      <th>12</th>\n",
       "      <td>0.279458</td>\n",
       "      <td>0.626588</td>\n",
       "      <td>0.041474</td>\n",
       "      <td>0.476260</td>\n",
       "      <td>0.731361</td>\n",
       "    </tr>\n",
       "    <tr>\n",
       "      <th>13</th>\n",
       "      <td>0.411407</td>\n",
       "      <td>0.696508</td>\n",
       "      <td>0.332964</td>\n",
       "      <td>0.475317</td>\n",
       "      <td>0.798886</td>\n",
       "    </tr>\n",
       "    <tr>\n",
       "      <th>14</th>\n",
       "      <td>0.405156</td>\n",
       "      <td>0.362767</td>\n",
       "      <td>0.693111</td>\n",
       "      <td>0.439960</td>\n",
       "      <td>0.327555</td>\n",
       "    </tr>\n",
       "    <tr>\n",
       "      <th>15</th>\n",
       "      <td>0.012860</td>\n",
       "      <td>0.277214</td>\n",
       "      <td>0.034371</td>\n",
       "      <td>0.110996</td>\n",
       "      <td>0.643732</td>\n",
       "    </tr>\n",
       "    <tr>\n",
       "      <th>16</th>\n",
       "      <td>0.688345</td>\n",
       "      <td>0.844692</td>\n",
       "      <td>0.558293</td>\n",
       "      <td>0.517353</td>\n",
       "      <td>0.286754</td>\n",
       "    </tr>\n",
       "    <tr>\n",
       "      <th>17</th>\n",
       "      <td>0.948627</td>\n",
       "      <td>0.937094</td>\n",
       "      <td>0.624221</td>\n",
       "      <td>0.515252</td>\n",
       "      <td>0.800167</td>\n",
       "    </tr>\n",
       "    <tr>\n",
       "      <th>18</th>\n",
       "      <td>0.410088</td>\n",
       "      <td>0.084431</td>\n",
       "      <td>0.812876</td>\n",
       "      <td>0.614682</td>\n",
       "      <td>0.776632</td>\n",
       "    </tr>\n",
       "    <tr>\n",
       "      <th>19</th>\n",
       "      <td>0.022099</td>\n",
       "      <td>0.524921</td>\n",
       "      <td>0.961361</td>\n",
       "      <td>0.501510</td>\n",
       "      <td>0.210761</td>\n",
       "    </tr>\n",
       "  </tbody>\n",
       "</table>\n",
       "</div>"
      ],
      "text/plain": [
       "           0         1         2         3         4\n",
       "0   0.179183  0.267437  0.722251  0.106144  0.349499\n",
       "1   0.078775  0.806350  0.569484  0.746635  0.812667\n",
       "2   0.499658  0.748355  0.086639  0.685492  0.257722\n",
       "3   0.431890  0.574197  0.791111  0.434674  0.471247\n",
       "4   0.613762  0.889421  0.394755  0.622091  0.865080\n",
       "5   0.378108  0.740913  0.425776  0.642380  0.453861\n",
       "6   0.025230  0.708406  0.892937  0.308665  0.466234\n",
       "7   0.725209  0.619059  0.950994  0.509067  0.372927\n",
       "8   0.770649  0.149383  0.683293  0.693280  0.365809\n",
       "9   0.486929  0.506334  0.902914  0.871832  0.830428\n",
       "10  0.379554  0.904957  0.299471  0.781480  0.777732\n",
       "11  0.348216  0.543830  0.206904  0.256158  0.470414\n",
       "12  0.279458  0.626588  0.041474  0.476260  0.731361\n",
       "13  0.411407  0.696508  0.332964  0.475317  0.798886\n",
       "14  0.405156  0.362767  0.693111  0.439960  0.327555\n",
       "15  0.012860  0.277214  0.034371  0.110996  0.643732\n",
       "16  0.688345  0.844692  0.558293  0.517353  0.286754\n",
       "17  0.948627  0.937094  0.624221  0.515252  0.800167\n",
       "18  0.410088  0.084431  0.812876  0.614682  0.776632\n",
       "19  0.022099  0.524921  0.961361  0.501510  0.210761"
      ]
     },
     "execution_count": 42,
     "metadata": {},
     "output_type": "execute_result"
    }
   ],
   "source": [
    "hdf.get(\"tables/t1\")"
   ]
  },
  {
   "cell_type": "code",
   "execution_count": 5,
   "metadata": {
    "collapsed": true
   },
   "outputs": [],
   "source": [
    "hdf.put(\"tables/t1\", pd.DataFrame(np.random.rand(20,5)), append=True, format='t')"
   ]
  },
  {
   "cell_type": "code",
   "execution_count": 43,
   "metadata": {},
   "outputs": [
    {
     "data": {
      "text/html": [
       "<div>\n",
       "<style>\n",
       "    .dataframe thead tr:only-child th {\n",
       "        text-align: right;\n",
       "    }\n",
       "\n",
       "    .dataframe thead th {\n",
       "        text-align: left;\n",
       "    }\n",
       "\n",
       "    .dataframe tbody tr th {\n",
       "        vertical-align: top;\n",
       "    }\n",
       "</style>\n",
       "<table border=\"1\" class=\"dataframe\">\n",
       "  <thead>\n",
       "    <tr style=\"text-align: right;\">\n",
       "      <th></th>\n",
       "      <th>0</th>\n",
       "      <th>1</th>\n",
       "      <th>2</th>\n",
       "      <th>3</th>\n",
       "      <th>4</th>\n",
       "    </tr>\n",
       "  </thead>\n",
       "  <tbody>\n",
       "    <tr>\n",
       "      <th>0</th>\n",
       "      <td>0.179183</td>\n",
       "      <td>0.267437</td>\n",
       "      <td>0.722251</td>\n",
       "      <td>0.106144</td>\n",
       "      <td>0.349499</td>\n",
       "    </tr>\n",
       "    <tr>\n",
       "      <th>1</th>\n",
       "      <td>0.078775</td>\n",
       "      <td>0.806350</td>\n",
       "      <td>0.569484</td>\n",
       "      <td>0.746635</td>\n",
       "      <td>0.812667</td>\n",
       "    </tr>\n",
       "    <tr>\n",
       "      <th>2</th>\n",
       "      <td>0.499658</td>\n",
       "      <td>0.748355</td>\n",
       "      <td>0.086639</td>\n",
       "      <td>0.685492</td>\n",
       "      <td>0.257722</td>\n",
       "    </tr>\n",
       "    <tr>\n",
       "      <th>3</th>\n",
       "      <td>0.431890</td>\n",
       "      <td>0.574197</td>\n",
       "      <td>0.791111</td>\n",
       "      <td>0.434674</td>\n",
       "      <td>0.471247</td>\n",
       "    </tr>\n",
       "    <tr>\n",
       "      <th>4</th>\n",
       "      <td>0.613762</td>\n",
       "      <td>0.889421</td>\n",
       "      <td>0.394755</td>\n",
       "      <td>0.622091</td>\n",
       "      <td>0.865080</td>\n",
       "    </tr>\n",
       "    <tr>\n",
       "      <th>5</th>\n",
       "      <td>0.378108</td>\n",
       "      <td>0.740913</td>\n",
       "      <td>0.425776</td>\n",
       "      <td>0.642380</td>\n",
       "      <td>0.453861</td>\n",
       "    </tr>\n",
       "    <tr>\n",
       "      <th>6</th>\n",
       "      <td>0.025230</td>\n",
       "      <td>0.708406</td>\n",
       "      <td>0.892937</td>\n",
       "      <td>0.308665</td>\n",
       "      <td>0.466234</td>\n",
       "    </tr>\n",
       "    <tr>\n",
       "      <th>7</th>\n",
       "      <td>0.725209</td>\n",
       "      <td>0.619059</td>\n",
       "      <td>0.950994</td>\n",
       "      <td>0.509067</td>\n",
       "      <td>0.372927</td>\n",
       "    </tr>\n",
       "    <tr>\n",
       "      <th>8</th>\n",
       "      <td>0.770649</td>\n",
       "      <td>0.149383</td>\n",
       "      <td>0.683293</td>\n",
       "      <td>0.693280</td>\n",
       "      <td>0.365809</td>\n",
       "    </tr>\n",
       "    <tr>\n",
       "      <th>9</th>\n",
       "      <td>0.486929</td>\n",
       "      <td>0.506334</td>\n",
       "      <td>0.902914</td>\n",
       "      <td>0.871832</td>\n",
       "      <td>0.830428</td>\n",
       "    </tr>\n",
       "    <tr>\n",
       "      <th>10</th>\n",
       "      <td>0.379554</td>\n",
       "      <td>0.904957</td>\n",
       "      <td>0.299471</td>\n",
       "      <td>0.781480</td>\n",
       "      <td>0.777732</td>\n",
       "    </tr>\n",
       "    <tr>\n",
       "      <th>11</th>\n",
       "      <td>0.348216</td>\n",
       "      <td>0.543830</td>\n",
       "      <td>0.206904</td>\n",
       "      <td>0.256158</td>\n",
       "      <td>0.470414</td>\n",
       "    </tr>\n",
       "    <tr>\n",
       "      <th>12</th>\n",
       "      <td>0.279458</td>\n",
       "      <td>0.626588</td>\n",
       "      <td>0.041474</td>\n",
       "      <td>0.476260</td>\n",
       "      <td>0.731361</td>\n",
       "    </tr>\n",
       "    <tr>\n",
       "      <th>13</th>\n",
       "      <td>0.411407</td>\n",
       "      <td>0.696508</td>\n",
       "      <td>0.332964</td>\n",
       "      <td>0.475317</td>\n",
       "      <td>0.798886</td>\n",
       "    </tr>\n",
       "    <tr>\n",
       "      <th>14</th>\n",
       "      <td>0.405156</td>\n",
       "      <td>0.362767</td>\n",
       "      <td>0.693111</td>\n",
       "      <td>0.439960</td>\n",
       "      <td>0.327555</td>\n",
       "    </tr>\n",
       "    <tr>\n",
       "      <th>15</th>\n",
       "      <td>0.012860</td>\n",
       "      <td>0.277214</td>\n",
       "      <td>0.034371</td>\n",
       "      <td>0.110996</td>\n",
       "      <td>0.643732</td>\n",
       "    </tr>\n",
       "    <tr>\n",
       "      <th>16</th>\n",
       "      <td>0.688345</td>\n",
       "      <td>0.844692</td>\n",
       "      <td>0.558293</td>\n",
       "      <td>0.517353</td>\n",
       "      <td>0.286754</td>\n",
       "    </tr>\n",
       "    <tr>\n",
       "      <th>17</th>\n",
       "      <td>0.948627</td>\n",
       "      <td>0.937094</td>\n",
       "      <td>0.624221</td>\n",
       "      <td>0.515252</td>\n",
       "      <td>0.800167</td>\n",
       "    </tr>\n",
       "    <tr>\n",
       "      <th>18</th>\n",
       "      <td>0.410088</td>\n",
       "      <td>0.084431</td>\n",
       "      <td>0.812876</td>\n",
       "      <td>0.614682</td>\n",
       "      <td>0.776632</td>\n",
       "    </tr>\n",
       "    <tr>\n",
       "      <th>19</th>\n",
       "      <td>0.022099</td>\n",
       "      <td>0.524921</td>\n",
       "      <td>0.961361</td>\n",
       "      <td>0.501510</td>\n",
       "      <td>0.210761</td>\n",
       "    </tr>\n",
       "  </tbody>\n",
       "</table>\n",
       "</div>"
      ],
      "text/plain": [
       "           0         1         2         3         4\n",
       "0   0.179183  0.267437  0.722251  0.106144  0.349499\n",
       "1   0.078775  0.806350  0.569484  0.746635  0.812667\n",
       "2   0.499658  0.748355  0.086639  0.685492  0.257722\n",
       "3   0.431890  0.574197  0.791111  0.434674  0.471247\n",
       "4   0.613762  0.889421  0.394755  0.622091  0.865080\n",
       "5   0.378108  0.740913  0.425776  0.642380  0.453861\n",
       "6   0.025230  0.708406  0.892937  0.308665  0.466234\n",
       "7   0.725209  0.619059  0.950994  0.509067  0.372927\n",
       "8   0.770649  0.149383  0.683293  0.693280  0.365809\n",
       "9   0.486929  0.506334  0.902914  0.871832  0.830428\n",
       "10  0.379554  0.904957  0.299471  0.781480  0.777732\n",
       "11  0.348216  0.543830  0.206904  0.256158  0.470414\n",
       "12  0.279458  0.626588  0.041474  0.476260  0.731361\n",
       "13  0.411407  0.696508  0.332964  0.475317  0.798886\n",
       "14  0.405156  0.362767  0.693111  0.439960  0.327555\n",
       "15  0.012860  0.277214  0.034371  0.110996  0.643732\n",
       "16  0.688345  0.844692  0.558293  0.517353  0.286754\n",
       "17  0.948627  0.937094  0.624221  0.515252  0.800167\n",
       "18  0.410088  0.084431  0.812876  0.614682  0.776632\n",
       "19  0.022099  0.524921  0.961361  0.501510  0.210761"
      ]
     },
     "execution_count": 43,
     "metadata": {},
     "output_type": "execute_result"
    }
   ],
   "source": [
    "df = hdf.get('tables/t1')\n",
    "df"
   ]
  },
  {
   "cell_type": "markdown",
   "metadata": {},
   "source": [
    "Observemos que el índice se caga con esto..."
   ]
  },
  {
   "cell_type": "code",
   "execution_count": 7,
   "metadata": {},
   "outputs": [
    {
     "data": {
      "text/html": [
       "<div>\n",
       "<style>\n",
       "    .dataframe thead tr:only-child th {\n",
       "        text-align: right;\n",
       "    }\n",
       "\n",
       "    .dataframe thead th {\n",
       "        text-align: left;\n",
       "    }\n",
       "\n",
       "    .dataframe tbody tr th {\n",
       "        vertical-align: top;\n",
       "    }\n",
       "</style>\n",
       "<table border=\"1\" class=\"dataframe\">\n",
       "  <thead>\n",
       "    <tr style=\"text-align: right;\">\n",
       "      <th></th>\n",
       "      <th>0</th>\n",
       "      <th>1</th>\n",
       "      <th>2</th>\n",
       "      <th>3</th>\n",
       "      <th>4</th>\n",
       "    </tr>\n",
       "  </thead>\n",
       "  <tbody>\n",
       "    <tr>\n",
       "      <th>0</th>\n",
       "      <td>0.756944</td>\n",
       "      <td>0.293185</td>\n",
       "      <td>0.460070</td>\n",
       "      <td>0.663484</td>\n",
       "      <td>0.495344</td>\n",
       "    </tr>\n",
       "    <tr>\n",
       "      <th>0</th>\n",
       "      <td>0.451373</td>\n",
       "      <td>0.719774</td>\n",
       "      <td>0.327892</td>\n",
       "      <td>0.532801</td>\n",
       "      <td>0.211725</td>\n",
       "    </tr>\n",
       "  </tbody>\n",
       "</table>\n",
       "</div>"
      ],
      "text/plain": [
       "          0         1         2         3         4\n",
       "0  0.756944  0.293185  0.460070  0.663484  0.495344\n",
       "0  0.451373  0.719774  0.327892  0.532801  0.211725"
      ]
     },
     "execution_count": 7,
     "metadata": {},
     "output_type": "execute_result"
    }
   ],
   "source": [
    "df.loc[0]"
   ]
  },
  {
   "cell_type": "code",
   "execution_count": 8,
   "metadata": {},
   "outputs": [
    {
     "data": {
      "text/plain": [
       "0    0.756944\n",
       "1    0.293185\n",
       "2    0.460070\n",
       "3    0.663484\n",
       "4    0.495344\n",
       "Name: 0, dtype: float64"
      ]
     },
     "execution_count": 8,
     "metadata": {},
     "output_type": "execute_result"
    }
   ],
   "source": [
    "df.iloc[0]"
   ]
  },
  {
   "cell_type": "markdown",
   "metadata": {},
   "source": [
    "# Remove dataframe"
   ]
  },
  {
   "cell_type": "code",
   "execution_count": 9,
   "metadata": {},
   "outputs": [
    {
     "name": "stdout",
     "output_type": "stream",
     "text": [
      "Help on method remove in module pandas.io.pytables:\n",
      "\n",
      "remove(key, where=None, start=None, stop=None) method of pandas.io.pytables.HDFStore instance\n",
      "    Remove pandas object partially by specifying the where condition\n",
      "    \n",
      "    Parameters\n",
      "    ----------\n",
      "    key : string\n",
      "        Node to remove or delete rows from\n",
      "    where : list of Term (or convertable) objects, optional\n",
      "    start : integer (defaults to None), row number to start selection\n",
      "    stop  : integer (defaults to None), row number to stop selection\n",
      "    \n",
      "    Returns\n",
      "    -------\n",
      "    number of rows removed (or None if not a Table)\n",
      "    \n",
      "    Exceptions\n",
      "    ----------\n",
      "    raises KeyError if key is not a valid store\n",
      "\n"
     ]
    }
   ],
   "source": [
    "help(hdf.remove)"
   ]
  },
  {
   "cell_type": "markdown",
   "metadata": {
    "collapsed": true
   },
   "source": [
    "# Our dataset"
   ]
  },
  {
   "cell_type": "code",
   "execution_count": 61,
   "metadata": {
    "collapsed": true
   },
   "outputs": [],
   "source": [
    "hdf = pd.HDFStore(\"output/instances.h5\")"
   ]
  },
  {
   "cell_type": "code",
   "execution_count": 62,
   "metadata": {},
   "outputs": [
    {
     "data": {
      "text/plain": [
       "[]"
      ]
     },
     "execution_count": 62,
     "metadata": {},
     "output_type": "execute_result"
    }
   ],
   "source": [
    "hdf.keys()"
   ]
  },
  {
   "cell_type": "code",
   "execution_count": 60,
   "metadata": {},
   "outputs": [
    {
     "ename": "KeyError",
     "evalue": "'No object named plain in the file'",
     "output_type": "error",
     "traceback": [
      "\u001b[0;31m---------------------------------------------------------------------------\u001b[0m",
      "\u001b[0;31mKeyError\u001b[0m                                  Traceback (most recent call last)",
      "\u001b[0;32m<ipython-input-60-8e84d7d58183>\u001b[0m in \u001b[0;36m<module>\u001b[0;34m()\u001b[0m\n\u001b[0;32m----> 1\u001b[0;31m \u001b[0mhdf\u001b[0m\u001b[0;34m.\u001b[0m\u001b[0mselect\u001b[0m\u001b[0;34m(\u001b[0m\u001b[0;34mu\"plain\"\u001b[0m\u001b[0;34m)\u001b[0m\u001b[0;34m\u001b[0m\u001b[0m\n\u001b[0m",
      "\u001b[0;32m/home/jmperez/.pyenv/versions/3.5.1/envs/p300-jmp/lib/python3.5/site-packages/pandas/io/pytables.py\u001b[0m in \u001b[0;36mselect\u001b[0;34m(self, key, where, start, stop, columns, iterator, chunksize, auto_close, **kwargs)\u001b[0m\n\u001b[1;32m    722\u001b[0m         \u001b[0mgroup\u001b[0m \u001b[0;34m=\u001b[0m \u001b[0mself\u001b[0m\u001b[0;34m.\u001b[0m\u001b[0mget_node\u001b[0m\u001b[0;34m(\u001b[0m\u001b[0mkey\u001b[0m\u001b[0;34m)\u001b[0m\u001b[0;34m\u001b[0m\u001b[0m\n\u001b[1;32m    723\u001b[0m         \u001b[0;32mif\u001b[0m \u001b[0mgroup\u001b[0m \u001b[0;32mis\u001b[0m \u001b[0;32mNone\u001b[0m\u001b[0;34m:\u001b[0m\u001b[0;34m\u001b[0m\u001b[0m\n\u001b[0;32m--> 724\u001b[0;31m             \u001b[0;32mraise\u001b[0m \u001b[0mKeyError\u001b[0m\u001b[0;34m(\u001b[0m\u001b[0;34m'No object named %s in the file'\u001b[0m \u001b[0;34m%\u001b[0m \u001b[0mkey\u001b[0m\u001b[0;34m)\u001b[0m\u001b[0;34m\u001b[0m\u001b[0m\n\u001b[0m\u001b[1;32m    725\u001b[0m \u001b[0;34m\u001b[0m\u001b[0m\n\u001b[1;32m    726\u001b[0m         \u001b[0;31m# create the storer and axes\u001b[0m\u001b[0;34m\u001b[0m\u001b[0;34m\u001b[0m\u001b[0m\n",
      "\u001b[0;31mKeyError\u001b[0m: 'No object named plain in the file'"
     ]
    }
   ],
   "source": [
    "hdf.select(u\"plain\")"
   ]
  },
  {
   "cell_type": "code",
   "execution_count": 19,
   "metadata": {},
   "outputs": [
    {
     "name": "stdout",
     "output_type": "stream",
     "text": [
      "Help on method select in module pandas.io.pytables:\n",
      "\n",
      "select(key, where=None, start=None, stop=None, columns=None, iterator=False, chunksize=None, auto_close=False, **kwargs) method of pandas.io.pytables.HDFStore instance\n",
      "    Retrieve pandas object stored in file, optionally based on where\n",
      "    criteria\n",
      "    \n",
      "    Parameters\n",
      "    ----------\n",
      "    key : object\n",
      "    where : list of Term (or convertable) objects, optional\n",
      "    start : integer (defaults to None), row number to start selection\n",
      "    stop  : integer (defaults to None), row number to stop selection\n",
      "    columns : a list of columns that if not None, will limit the return\n",
      "        columns\n",
      "    iterator : boolean, return an iterator, default False\n",
      "    chunksize : nrows to include in iteration, return an iterator\n",
      "    auto_close : boolean, should automatically close the store when\n",
      "        finished, default is False\n",
      "    \n",
      "    Returns\n",
      "    -------\n",
      "    The selected object\n",
      "\n"
     ]
    }
   ],
   "source": [
    "help(hdf.select)"
   ]
  },
  {
   "cell_type": "code",
   "execution_count": 35,
   "metadata": {},
   "outputs": [],
   "source": [
    "keys = hdf.select(\"plain\", columns=[\"subject_id\"]).subject_id.unique()"
   ]
  },
  {
   "cell_type": "code",
   "execution_count": 27,
   "metadata": {},
   "outputs": [
    {
     "name": "stdout",
     "output_type": "stream",
     "text": [
      "(1980, 9)\n",
      "(1980, 9)\n",
      "(2700, 9)\n",
      "(1980, 9)\n"
     ]
    }
   ],
   "source": [
    "\n",
    "for subject_id in keys[:4]:\n",
    "    df = hdf.select(\"plain\", where=\"subject_id = '{}'\".format(subject_id) )\n",
    "    print(df.shape)"
   ]
  },
  {
   "cell_type": "code",
   "execution_count": 37,
   "metadata": {},
   "outputs": [
    {
     "name": "stdout",
     "output_type": "stream",
     "text": [
      "Help on method copy in module pandas.io.pytables:\n",
      "\n",
      "copy(file, mode='w', propindexes=True, keys=None, complib=None, complevel=None, fletcher32=False, overwrite=True) method of pandas.io.pytables.HDFStore instance\n",
      "    copy the existing store to a new file, upgrading in place\n",
      "    \n",
      "    Parameters\n",
      "    ----------\n",
      "    propindexes: restore indexes in copied file (defaults to True)\n",
      "    keys       : list of keys to include in the copy (defaults to all)\n",
      "    overwrite  : overwrite (remove and replace) existing nodes in the\n",
      "        new store (default is True)\n",
      "    mode, complib, complevel, fletcher32 same as in HDFStore.__init__\n",
      "    \n",
      "    Returns\n",
      "    -------\n",
      "    open file handle of the new store\n",
      "\n"
     ]
    }
   ],
   "source": [
    "hdf.put"
   ]
  },
  {
   "cell_type": "code",
   "execution_count": null,
   "metadata": {
    "collapsed": true
   },
   "outputs": [],
   "source": []
  }
 ],
 "metadata": {
  "kernelspec": {
   "display_name": "Python 3",
   "language": "python",
   "name": "python3"
  },
  "language_info": {
   "codemirror_mode": {
    "name": "ipython",
    "version": 3
   },
   "file_extension": ".py",
   "mimetype": "text/x-python",
   "name": "python",
   "nbconvert_exporter": "python",
   "pygments_lexer": "ipython3",
   "version": "3.5.1"
  }
 },
 "nbformat": 4,
 "nbformat_minor": 2
}
