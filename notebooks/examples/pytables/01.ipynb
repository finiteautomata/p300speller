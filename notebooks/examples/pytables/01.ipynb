{
 "cells": [
  {
   "cell_type": "markdown",
   "metadata": {},
   "source": [
    "# PyTables tutorial\n",
    "\n",
    "http://www.pytables.org/usersguide/tutorials.html\n",
    "\n",
    "First, let's define a table"
   ]
  },
  {
   "cell_type": "code",
   "execution_count": 1,
   "metadata": {},
   "outputs": [],
   "source": [
    "from tables import *\n",
    "import numpy\n",
    "\n",
    "class Particle(IsDescription):\n",
    "    name      = StringCol(16)   # 16-character String\n",
    "    idnumber  = Int64Col()      # Signed 64-bit integer\n",
    "    ADCcount  = UInt16Col()     # Unsigned short integer\n",
    "    TDCcount  = UInt8Col()      # unsigned byte\n",
    "    grid_i    = Int32Col()      # 32-bit integer\n",
    "    grid_j    = Int32Col()      # 32-bit integer\n",
    "    pressure  = Float32Col()    # float  (single-precision)\n",
    "    energy    = Float64Col()    # double (double-precision)"
   ]
  },
  {
   "cell_type": "markdown",
   "metadata": {},
   "source": [
    "Open the file..."
   ]
  },
  {
   "cell_type": "code",
   "execution_count": 2,
   "metadata": {},
   "outputs": [],
   "source": [
    "h5file = open_file(\"tutorial1.h5\", mode = \"w\", title = \"Test file\")"
   ]
  },
  {
   "cell_type": "markdown",
   "metadata": {},
   "source": [
    "Create a group to put data on it"
   ]
  },
  {
   "cell_type": "code",
   "execution_count": 4,
   "metadata": {},
   "outputs": [
    {
     "name": "stdout",
     "output_type": "stream",
     "text": [
      "Help on method create_group in module tables.file:\n",
      "\n",
      "create_group(where, name, title='', filters=None, createparents=False) method of tables.file.File instance\n",
      "    Create a new group.\n",
      "    \n",
      "    Parameters\n",
      "    ----------\n",
      "    where : str or Group\n",
      "        The parent group from which the new group will hang. It can be a\n",
      "        path string (for example '/level1/leaf5'), or a Group instance\n",
      "        (see :ref:`GroupClassDescr`).\n",
      "    name : str\n",
      "        The name of the new group.\n",
      "    title : str, optional\n",
      "        A description for this node (it sets the TITLE HDF5 attribute on\n",
      "        disk).\n",
      "    filters : Filters\n",
      "        An instance of the Filters class (see :ref:`FiltersClassDescr`)\n",
      "        that provides information about the desired I/O filters applicable\n",
      "        to the leaves that hang directly from this new group (unless other\n",
      "        filter properties are specified for these leaves). Besides, if you\n",
      "        do not specify filter properties for its child groups, they will\n",
      "        inherit these ones.\n",
      "    createparents : bool\n",
      "        Whether to create the needed groups for the parent\n",
      "        path to exist (not done by default).\n",
      "    \n",
      "    See Also\n",
      "    --------\n",
      "    Group : for more information on groups\n",
      "\n"
     ]
    }
   ],
   "source": [
    "help(h5file.create_group)"
   ]
  },
  {
   "cell_type": "code",
   "execution_count": 3,
   "metadata": {
    "collapsed": true
   },
   "outputs": [],
   "source": [
    "group = h5file.create_group(\"/\", 'detector', 'Detector information')"
   ]
  }
 ],
 "metadata": {
  "kernelspec": {
   "display_name": "Python 3",
   "language": "python",
   "name": "python3"
  },
  "language_info": {
   "codemirror_mode": {
    "name": "ipython",
    "version": 3
   },
   "file_extension": ".py",
   "mimetype": "text/x-python",
   "name": "python",
   "nbconvert_exporter": "python",
   "pygments_lexer": "ipython3",
   "version": "3.5.1"
  }
 },
 "nbformat": 4,
 "nbformat_minor": 2
}
